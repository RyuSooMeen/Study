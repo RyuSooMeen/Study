{
 "cells": [
  {
   "cell_type": "markdown",
   "id": "bf75b30d",
   "metadata": {},
   "source": [
    "# 회귀\n",
    "# ✔ 학생성적 예측 데이터"
   ]
  },
  {
   "cell_type": "markdown",
   "id": "cc3886d8",
   "metadata": {},
   "source": [
    "## 📌Attention\n",
    "\n",
    "데이터 설명 : 학생성적 예측 (종속변수 :G3)\n",
    "x_train: https://raw.githubusercontent.com/Datamanim/datarepo/main/studentscore/X_train.csv\n",
    "y_train: https://raw.githubusercontent.com/Datamanim/datarepo/main/studentscore/y_train.csv\n",
    "x_test: https://raw.githubusercontent.com/Datamanim/datarepo/main/studentscore/X_test.csv\n",
    "x_label(평가용) : https://raw.githubusercontent.com/Datamanim/datarepo/main/studentscore/y_test.csv\n",
    "데이터 출처 :https://www.kaggle.com/datasets/ishandutta/student-performance-data-set (참고, 데이터 수정)"
   ]
  },
  {
   "cell_type": "code",
   "execution_count": 26,
   "id": "f484c3b9",
   "metadata": {},
   "outputs": [],
   "source": [
    "%matplotlib inline\n",
    "import pandas as pd\n",
    "import numpy as np\n",
    "\n",
    "from sklearn.model_selection import train_test_split\n",
    "from sklearn.ensemble import RandomForestRegressor\n",
    "from xgboost import XGBRegressor\n",
    "from sklearn.metrics import mean_squared_error, mean_absolute_error, r2_score\n",
    "from sklearn.linear_model import LinearRegression"
   ]
  },
  {
   "cell_type": "code",
   "execution_count": 27,
   "id": "60f2c9db",
   "metadata": {},
   "outputs": [
    {
     "data": {
      "text/html": [
       "<div>\n",
       "<style scoped>\n",
       "    .dataframe tbody tr th:only-of-type {\n",
       "        vertical-align: middle;\n",
       "    }\n",
       "\n",
       "    .dataframe tbody tr th {\n",
       "        vertical-align: top;\n",
       "    }\n",
       "\n",
       "    .dataframe thead th {\n",
       "        text-align: right;\n",
       "    }\n",
       "</style>\n",
       "<table border=\"1\" class=\"dataframe\">\n",
       "  <thead>\n",
       "    <tr style=\"text-align: right;\">\n",
       "      <th></th>\n",
       "      <th>StudentID</th>\n",
       "      <th>school</th>\n",
       "      <th>sex</th>\n",
       "      <th>age</th>\n",
       "      <th>address</th>\n",
       "      <th>famsize</th>\n",
       "      <th>Pstatus</th>\n",
       "      <th>Medu</th>\n",
       "      <th>Fedu</th>\n",
       "      <th>Mjob</th>\n",
       "      <th>...</th>\n",
       "      <th>romantic</th>\n",
       "      <th>famrel</th>\n",
       "      <th>freetime</th>\n",
       "      <th>goout</th>\n",
       "      <th>Dalc</th>\n",
       "      <th>Walc</th>\n",
       "      <th>health</th>\n",
       "      <th>absences</th>\n",
       "      <th>G1</th>\n",
       "      <th>G2</th>\n",
       "    </tr>\n",
       "  </thead>\n",
       "  <tbody>\n",
       "    <tr>\n",
       "      <th>0</th>\n",
       "      <td>1714</td>\n",
       "      <td>GP</td>\n",
       "      <td>F</td>\n",
       "      <td>18</td>\n",
       "      <td>U</td>\n",
       "      <td>GT3</td>\n",
       "      <td>T</td>\n",
       "      <td>4</td>\n",
       "      <td>3</td>\n",
       "      <td>other</td>\n",
       "      <td>...</td>\n",
       "      <td>no</td>\n",
       "      <td>4</td>\n",
       "      <td>3</td>\n",
       "      <td>3</td>\n",
       "      <td>1</td>\n",
       "      <td>1</td>\n",
       "      <td>3</td>\n",
       "      <td>0</td>\n",
       "      <td>14</td>\n",
       "      <td>13</td>\n",
       "    </tr>\n",
       "    <tr>\n",
       "      <th>1</th>\n",
       "      <td>1254</td>\n",
       "      <td>GP</td>\n",
       "      <td>F</td>\n",
       "      <td>17</td>\n",
       "      <td>U</td>\n",
       "      <td>GT3</td>\n",
       "      <td>T</td>\n",
       "      <td>4</td>\n",
       "      <td>3</td>\n",
       "      <td>health</td>\n",
       "      <td>...</td>\n",
       "      <td>yes</td>\n",
       "      <td>4</td>\n",
       "      <td>4</td>\n",
       "      <td>3</td>\n",
       "      <td>1</td>\n",
       "      <td>3</td>\n",
       "      <td>4</td>\n",
       "      <td>0</td>\n",
       "      <td>13</td>\n",
       "      <td>15</td>\n",
       "    </tr>\n",
       "    <tr>\n",
       "      <th>2</th>\n",
       "      <td>1639</td>\n",
       "      <td>GP</td>\n",
       "      <td>F</td>\n",
       "      <td>16</td>\n",
       "      <td>R</td>\n",
       "      <td>GT3</td>\n",
       "      <td>T</td>\n",
       "      <td>4</td>\n",
       "      <td>4</td>\n",
       "      <td>health</td>\n",
       "      <td>...</td>\n",
       "      <td>no</td>\n",
       "      <td>2</td>\n",
       "      <td>4</td>\n",
       "      <td>4</td>\n",
       "      <td>2</td>\n",
       "      <td>3</td>\n",
       "      <td>4</td>\n",
       "      <td>6</td>\n",
       "      <td>10</td>\n",
       "      <td>11</td>\n",
       "    </tr>\n",
       "    <tr>\n",
       "      <th>3</th>\n",
       "      <td>1118</td>\n",
       "      <td>GP</td>\n",
       "      <td>M</td>\n",
       "      <td>16</td>\n",
       "      <td>U</td>\n",
       "      <td>GT3</td>\n",
       "      <td>T</td>\n",
       "      <td>4</td>\n",
       "      <td>4</td>\n",
       "      <td>services</td>\n",
       "      <td>...</td>\n",
       "      <td>no</td>\n",
       "      <td>5</td>\n",
       "      <td>3</td>\n",
       "      <td>3</td>\n",
       "      <td>1</td>\n",
       "      <td>3</td>\n",
       "      <td>5</td>\n",
       "      <td>0</td>\n",
       "      <td>15</td>\n",
       "      <td>13</td>\n",
       "    </tr>\n",
       "    <tr>\n",
       "      <th>4</th>\n",
       "      <td>1499</td>\n",
       "      <td>GP</td>\n",
       "      <td>M</td>\n",
       "      <td>19</td>\n",
       "      <td>U</td>\n",
       "      <td>GT3</td>\n",
       "      <td>T</td>\n",
       "      <td>3</td>\n",
       "      <td>2</td>\n",
       "      <td>services</td>\n",
       "      <td>...</td>\n",
       "      <td>yes</td>\n",
       "      <td>4</td>\n",
       "      <td>5</td>\n",
       "      <td>4</td>\n",
       "      <td>1</td>\n",
       "      <td>1</td>\n",
       "      <td>4</td>\n",
       "      <td>0</td>\n",
       "      <td>5</td>\n",
       "      <td>0</td>\n",
       "    </tr>\n",
       "  </tbody>\n",
       "</table>\n",
       "<p>5 rows × 33 columns</p>\n",
       "</div>"
      ],
      "text/plain": [
       "   StudentID school sex  age address famsize Pstatus  Medu  Fedu      Mjob  \\\n",
       "0       1714     GP   F   18       U     GT3       T     4     3     other   \n",
       "1       1254     GP   F   17       U     GT3       T     4     3    health   \n",
       "2       1639     GP   F   16       R     GT3       T     4     4    health   \n",
       "3       1118     GP   M   16       U     GT3       T     4     4  services   \n",
       "4       1499     GP   M   19       U     GT3       T     3     2  services   \n",
       "\n",
       "   ... romantic famrel freetime  goout  Dalc  Walc health absences  G1  G2  \n",
       "0  ...       no      4        3      3     1     1      3        0  14  13  \n",
       "1  ...      yes      4        4      3     1     3      4        0  13  15  \n",
       "2  ...       no      2        4      4     2     3      4        6  10  11  \n",
       "3  ...       no      5        3      3     1     3      5        0  15  13  \n",
       "4  ...      yes      4        5      4     1     1      4        0   5   0  \n",
       "\n",
       "[5 rows x 33 columns]"
      ]
     },
     "metadata": {},
     "output_type": "display_data"
    },
    {
     "data": {
      "text/html": [
       "<div>\n",
       "<style scoped>\n",
       "    .dataframe tbody tr th:only-of-type {\n",
       "        vertical-align: middle;\n",
       "    }\n",
       "\n",
       "    .dataframe tbody tr th {\n",
       "        vertical-align: top;\n",
       "    }\n",
       "\n",
       "    .dataframe thead th {\n",
       "        text-align: right;\n",
       "    }\n",
       "</style>\n",
       "<table border=\"1\" class=\"dataframe\">\n",
       "  <thead>\n",
       "    <tr style=\"text-align: right;\">\n",
       "      <th></th>\n",
       "      <th>StudentID</th>\n",
       "      <th>G3</th>\n",
       "    </tr>\n",
       "  </thead>\n",
       "  <tbody>\n",
       "    <tr>\n",
       "      <th>0</th>\n",
       "      <td>1714</td>\n",
       "      <td>14</td>\n",
       "    </tr>\n",
       "    <tr>\n",
       "      <th>1</th>\n",
       "      <td>1254</td>\n",
       "      <td>15</td>\n",
       "    </tr>\n",
       "    <tr>\n",
       "      <th>2</th>\n",
       "      <td>1639</td>\n",
       "      <td>11</td>\n",
       "    </tr>\n",
       "    <tr>\n",
       "      <th>3</th>\n",
       "      <td>1118</td>\n",
       "      <td>13</td>\n",
       "    </tr>\n",
       "    <tr>\n",
       "      <th>4</th>\n",
       "      <td>1499</td>\n",
       "      <td>0</td>\n",
       "    </tr>\n",
       "  </tbody>\n",
       "</table>\n",
       "</div>"
      ],
      "text/plain": [
       "   StudentID  G3\n",
       "0       1714  14\n",
       "1       1254  15\n",
       "2       1639  11\n",
       "3       1118  13\n",
       "4       1499   0"
      ]
     },
     "metadata": {},
     "output_type": "display_data"
    }
   ],
   "source": [
    "#데이터 로드\n",
    "x_train = pd.read_csv(\"https://raw.githubusercontent.com/Datamanim/datarepo/main/studentscore/X_train.csv\")\n",
    "y_train = pd.read_csv(\"https://raw.githubusercontent.com/Datamanim/datarepo/main/studentscore/y_train.csv\")\n",
    "x_test= pd.read_csv(\"https://raw.githubusercontent.com/Datamanim/datarepo/main/studentscore/X_test.csv\")\n",
    "x_label = pd.read_csv(\"https://raw.githubusercontent.com/Datamanim/datarepo/main/studentscore/y_test.csv\")\n",
    "\n",
    "display(x_train.head())\n",
    "display(y_train.head())"
   ]
  },
  {
   "cell_type": "code",
   "execution_count": 28,
   "id": "4f15c516",
   "metadata": {},
   "outputs": [
    {
     "name": "stdout",
     "output_type": "stream",
     "text": [
      "<class 'pandas.core.frame.DataFrame'>\n",
      "RangeIndex: 678 entries, 0 to 677\n",
      "Data columns (total 33 columns):\n",
      " #   Column      Non-Null Count  Dtype \n",
      "---  ------      --------------  ----- \n",
      " 0   StudentID   678 non-null    int64 \n",
      " 1   school      678 non-null    object\n",
      " 2   sex         678 non-null    object\n",
      " 3   age         678 non-null    int64 \n",
      " 4   address     678 non-null    object\n",
      " 5   famsize     678 non-null    object\n",
      " 6   Pstatus     678 non-null    object\n",
      " 7   Medu        678 non-null    int64 \n",
      " 8   Fedu        678 non-null    int64 \n",
      " 9   Mjob        678 non-null    object\n",
      " 10  Fjob        678 non-null    object\n",
      " 11  reason      678 non-null    object\n",
      " 12  guardian    678 non-null    object\n",
      " 13  traveltime  678 non-null    int64 \n",
      " 14  studytime   678 non-null    int64 \n",
      " 15  failures    678 non-null    int64 \n",
      " 16  schoolsup   678 non-null    object\n",
      " 17  famsup      678 non-null    object\n",
      " 18  paid        678 non-null    object\n",
      " 19  activities  678 non-null    object\n",
      " 20  nursery     678 non-null    object\n",
      " 21  higher      678 non-null    object\n",
      " 22  internet    678 non-null    object\n",
      " 23  romantic    678 non-null    object\n",
      " 24  famrel      678 non-null    int64 \n",
      " 25  freetime    678 non-null    int64 \n",
      " 26  goout       678 non-null    int64 \n",
      " 27  Dalc        678 non-null    int64 \n",
      " 28  Walc        678 non-null    int64 \n",
      " 29  health      678 non-null    int64 \n",
      " 30  absences    678 non-null    int64 \n",
      " 31  G1          678 non-null    int64 \n",
      " 32  G2          678 non-null    int64 \n",
      "dtypes: int64(16), object(17)\n",
      "memory usage: 174.9+ KB\n"
     ]
    }
   ],
   "source": [
    "x_train.info()"
   ]
  },
  {
   "cell_type": "code",
   "execution_count": 29,
   "id": "db9531c2",
   "metadata": {},
   "outputs": [
    {
     "data": {
      "text/html": [
       "<div>\n",
       "<style scoped>\n",
       "    .dataframe tbody tr th:only-of-type {\n",
       "        vertical-align: middle;\n",
       "    }\n",
       "\n",
       "    .dataframe tbody tr th {\n",
       "        vertical-align: top;\n",
       "    }\n",
       "\n",
       "    .dataframe thead th {\n",
       "        text-align: right;\n",
       "    }\n",
       "</style>\n",
       "<table border=\"1\" class=\"dataframe\">\n",
       "  <thead>\n",
       "    <tr style=\"text-align: right;\">\n",
       "      <th></th>\n",
       "      <th>StudentID</th>\n",
       "      <th>age</th>\n",
       "      <th>Medu</th>\n",
       "      <th>Fedu</th>\n",
       "      <th>traveltime</th>\n",
       "      <th>studytime</th>\n",
       "      <th>failures</th>\n",
       "      <th>famrel</th>\n",
       "      <th>freetime</th>\n",
       "      <th>goout</th>\n",
       "      <th>Dalc</th>\n",
       "      <th>Walc</th>\n",
       "      <th>health</th>\n",
       "      <th>absences</th>\n",
       "      <th>G1</th>\n",
       "      <th>G2</th>\n",
       "    </tr>\n",
       "  </thead>\n",
       "  <tbody>\n",
       "    <tr>\n",
       "      <th>count</th>\n",
       "      <td>678.000000</td>\n",
       "      <td>678.000000</td>\n",
       "      <td>678.000000</td>\n",
       "      <td>678.000000</td>\n",
       "      <td>678.00000</td>\n",
       "      <td>678.000000</td>\n",
       "      <td>678.000000</td>\n",
       "      <td>678.000000</td>\n",
       "      <td>678.000000</td>\n",
       "      <td>678.000000</td>\n",
       "      <td>678.000000</td>\n",
       "      <td>678.000000</td>\n",
       "      <td>678.000000</td>\n",
       "      <td>678.000000</td>\n",
       "      <td>678.00000</td>\n",
       "      <td>678.000000</td>\n",
       "    </tr>\n",
       "    <tr>\n",
       "      <th>mean</th>\n",
       "      <td>1516.181416</td>\n",
       "      <td>16.719764</td>\n",
       "      <td>2.607670</td>\n",
       "      <td>2.371681</td>\n",
       "      <td>1.50590</td>\n",
       "      <td>1.989676</td>\n",
       "      <td>0.261062</td>\n",
       "      <td>3.933628</td>\n",
       "      <td>3.233038</td>\n",
       "      <td>3.140118</td>\n",
       "      <td>1.480826</td>\n",
       "      <td>2.293510</td>\n",
       "      <td>3.522124</td>\n",
       "      <td>4.594395</td>\n",
       "      <td>11.20649</td>\n",
       "      <td>11.182891</td>\n",
       "    </tr>\n",
       "    <tr>\n",
       "      <th>std</th>\n",
       "      <td>303.029891</td>\n",
       "      <td>1.239881</td>\n",
       "      <td>1.134682</td>\n",
       "      <td>1.096750</td>\n",
       "      <td>0.73675</td>\n",
       "      <td>0.848082</td>\n",
       "      <td>0.664340</td>\n",
       "      <td>0.952346</td>\n",
       "      <td>1.042083</td>\n",
       "      <td>1.165537</td>\n",
       "      <td>0.895789</td>\n",
       "      <td>1.287705</td>\n",
       "      <td>1.431430</td>\n",
       "      <td>6.527236</td>\n",
       "      <td>2.90395</td>\n",
       "      <td>3.296146</td>\n",
       "    </tr>\n",
       "    <tr>\n",
       "      <th>min</th>\n",
       "      <td>1001.000000</td>\n",
       "      <td>15.000000</td>\n",
       "      <td>0.000000</td>\n",
       "      <td>0.000000</td>\n",
       "      <td>1.00000</td>\n",
       "      <td>1.000000</td>\n",
       "      <td>0.000000</td>\n",
       "      <td>1.000000</td>\n",
       "      <td>1.000000</td>\n",
       "      <td>1.000000</td>\n",
       "      <td>1.000000</td>\n",
       "      <td>1.000000</td>\n",
       "      <td>1.000000</td>\n",
       "      <td>0.000000</td>\n",
       "      <td>4.00000</td>\n",
       "      <td>0.000000</td>\n",
       "    </tr>\n",
       "    <tr>\n",
       "      <th>25%</th>\n",
       "      <td>1253.250000</td>\n",
       "      <td>16.000000</td>\n",
       "      <td>2.000000</td>\n",
       "      <td>1.000000</td>\n",
       "      <td>1.00000</td>\n",
       "      <td>1.000000</td>\n",
       "      <td>0.000000</td>\n",
       "      <td>4.000000</td>\n",
       "      <td>3.000000</td>\n",
       "      <td>2.000000</td>\n",
       "      <td>1.000000</td>\n",
       "      <td>1.000000</td>\n",
       "      <td>2.000000</td>\n",
       "      <td>0.000000</td>\n",
       "      <td>9.00000</td>\n",
       "      <td>9.000000</td>\n",
       "    </tr>\n",
       "    <tr>\n",
       "      <th>50%</th>\n",
       "      <td>1508.000000</td>\n",
       "      <td>17.000000</td>\n",
       "      <td>3.000000</td>\n",
       "      <td>2.000000</td>\n",
       "      <td>1.00000</td>\n",
       "      <td>2.000000</td>\n",
       "      <td>0.000000</td>\n",
       "      <td>4.000000</td>\n",
       "      <td>3.000000</td>\n",
       "      <td>3.000000</td>\n",
       "      <td>1.000000</td>\n",
       "      <td>2.000000</td>\n",
       "      <td>4.000000</td>\n",
       "      <td>2.000000</td>\n",
       "      <td>11.00000</td>\n",
       "      <td>11.000000</td>\n",
       "    </tr>\n",
       "    <tr>\n",
       "      <th>75%</th>\n",
       "      <td>1780.750000</td>\n",
       "      <td>18.000000</td>\n",
       "      <td>4.000000</td>\n",
       "      <td>3.000000</td>\n",
       "      <td>2.00000</td>\n",
       "      <td>2.000000</td>\n",
       "      <td>0.000000</td>\n",
       "      <td>5.000000</td>\n",
       "      <td>4.000000</td>\n",
       "      <td>4.000000</td>\n",
       "      <td>2.000000</td>\n",
       "      <td>3.000000</td>\n",
       "      <td>5.000000</td>\n",
       "      <td>6.000000</td>\n",
       "      <td>13.00000</td>\n",
       "      <td>13.000000</td>\n",
       "    </tr>\n",
       "    <tr>\n",
       "      <th>max</th>\n",
       "      <td>2043.000000</td>\n",
       "      <td>22.000000</td>\n",
       "      <td>4.000000</td>\n",
       "      <td>4.000000</td>\n",
       "      <td>4.00000</td>\n",
       "      <td>4.000000</td>\n",
       "      <td>3.000000</td>\n",
       "      <td>5.000000</td>\n",
       "      <td>5.000000</td>\n",
       "      <td>5.000000</td>\n",
       "      <td>5.000000</td>\n",
       "      <td>5.000000</td>\n",
       "      <td>5.000000</td>\n",
       "      <td>75.000000</td>\n",
       "      <td>19.00000</td>\n",
       "      <td>19.000000</td>\n",
       "    </tr>\n",
       "  </tbody>\n",
       "</table>\n",
       "</div>"
      ],
      "text/plain": [
       "         StudentID         age        Medu        Fedu  traveltime  \\\n",
       "count   678.000000  678.000000  678.000000  678.000000   678.00000   \n",
       "mean   1516.181416   16.719764    2.607670    2.371681     1.50590   \n",
       "std     303.029891    1.239881    1.134682    1.096750     0.73675   \n",
       "min    1001.000000   15.000000    0.000000    0.000000     1.00000   \n",
       "25%    1253.250000   16.000000    2.000000    1.000000     1.00000   \n",
       "50%    1508.000000   17.000000    3.000000    2.000000     1.00000   \n",
       "75%    1780.750000   18.000000    4.000000    3.000000     2.00000   \n",
       "max    2043.000000   22.000000    4.000000    4.000000     4.00000   \n",
       "\n",
       "        studytime    failures      famrel    freetime       goout        Dalc  \\\n",
       "count  678.000000  678.000000  678.000000  678.000000  678.000000  678.000000   \n",
       "mean     1.989676    0.261062    3.933628    3.233038    3.140118    1.480826   \n",
       "std      0.848082    0.664340    0.952346    1.042083    1.165537    0.895789   \n",
       "min      1.000000    0.000000    1.000000    1.000000    1.000000    1.000000   \n",
       "25%      1.000000    0.000000    4.000000    3.000000    2.000000    1.000000   \n",
       "50%      2.000000    0.000000    4.000000    3.000000    3.000000    1.000000   \n",
       "75%      2.000000    0.000000    5.000000    4.000000    4.000000    2.000000   \n",
       "max      4.000000    3.000000    5.000000    5.000000    5.000000    5.000000   \n",
       "\n",
       "             Walc      health    absences         G1          G2  \n",
       "count  678.000000  678.000000  678.000000  678.00000  678.000000  \n",
       "mean     2.293510    3.522124    4.594395   11.20649   11.182891  \n",
       "std      1.287705    1.431430    6.527236    2.90395    3.296146  \n",
       "min      1.000000    1.000000    0.000000    4.00000    0.000000  \n",
       "25%      1.000000    2.000000    0.000000    9.00000    9.000000  \n",
       "50%      2.000000    4.000000    2.000000   11.00000   11.000000  \n",
       "75%      3.000000    5.000000    6.000000   13.00000   13.000000  \n",
       "max      5.000000    5.000000   75.000000   19.00000   19.000000  "
      ]
     },
     "execution_count": 29,
     "metadata": {},
     "output_type": "execute_result"
    }
   ],
   "source": [
    "x_train.describe()"
   ]
  },
  {
   "cell_type": "code",
   "execution_count": 30,
   "id": "008835bb",
   "metadata": {},
   "outputs": [
    {
     "name": "stdout",
     "output_type": "stream",
     "text": [
      "school ['GP' 'MS']\n",
      "sex ['F' 'M']\n",
      "address ['U' 'R']\n",
      "famsize ['GT3' 'LE3']\n",
      "Pstatus ['T' 'A']\n",
      "Mjob ['other' 'health' 'services' 'at_home' 'teacher']\n",
      "Fjob ['other' 'teacher' 'services' 'at_home' 'health']\n",
      "reason ['reputation' 'other' 'course' 'home']\n",
      "guardian ['father' 'mother' 'other']\n",
      "schoolsup ['no' 'yes']\n",
      "famsup ['yes' 'no']\n",
      "paid ['yes' 'no']\n",
      "activities ['no' 'yes']\n",
      "nursery ['yes' 'no']\n",
      "higher ['yes' 'no']\n",
      "internet ['yes' 'no']\n",
      "romantic ['no' 'yes']\n"
     ]
    }
   ],
   "source": [
    "for i in list(x_train.select_dtypes(include='object').columns):\n",
    "    print(i, x_train[i].unique())"
   ]
  },
  {
   "cell_type": "markdown",
   "id": "325df9a9",
   "metadata": {},
   "source": [
    "## 1. 전처리 없이 회귀"
   ]
  },
  {
   "cell_type": "code",
   "execution_count": 31,
   "id": "ab33ef54",
   "metadata": {},
   "outputs": [],
   "source": [
    "x_train = x_train.drop('StudentID', axis=1)\n",
    "x_test_id = x_test['StudentID']\n",
    "x_test = x_test.drop('StudentID', axis=1)"
   ]
  },
  {
   "cell_type": "markdown",
   "id": "0e558721",
   "metadata": {},
   "source": [
    "### 1) RandomForest"
   ]
  },
  {
   "cell_type": "code",
   "execution_count": 33,
   "id": "7a75fa94",
   "metadata": {},
   "outputs": [],
   "source": [
    "cols = x_train.select_dtypes(include='object').columns\n",
    "x_train = pd.get_dummies(x_train, columns = cols)\n",
    "x_test = pd.get_dummies(x_test, columns = cols)\n",
    "x_train, x_val, y_train, y_val = train_test_split(x_train,y_train['G3'], test_size = 0.3, random_state = 2022)"
   ]
  },
  {
   "cell_type": "code",
   "execution_count": 34,
   "id": "ecbaa177",
   "metadata": {},
   "outputs": [
    {
     "name": "stdout",
     "output_type": "stream",
     "text": [
      "mse = 1.7530316728159419\n",
      "mae = 0.8268776111464946\n",
      "rmse = 1.324021024310393\n",
      "r2 =  0.8436727706247842\n"
     ]
    }
   ],
   "source": [
    "rf= RandomForestRegressor(n_estimators =300, max_depth =5, min_samples_split =5, random_state=2022)\n",
    "rf.fit(x_train,y_train)\n",
    "y_predict = rf.predict(x_val)\n",
    "print(\"mse =\", mean_squared_error(y_val,y_predict))\n",
    "print('mae =', mean_absolute_error(y_val,y_predict))\n",
    "print(\"rmse =\", mean_squared_error(y_val,y_predict)**0.5)\n",
    "print(\"r2 = \", r2_score(y_val,y_predict))"
   ]
  },
  {
   "cell_type": "markdown",
   "id": "db363d1f",
   "metadata": {},
   "source": [
    "### 2) XGBRegressor"
   ]
  },
  {
   "cell_type": "code",
   "execution_count": 35,
   "id": "bdd4131d",
   "metadata": {},
   "outputs": [
    {
     "name": "stdout",
     "output_type": "stream",
     "text": [
      "mse = 2.0667821939966364\n",
      "mae = 0.9241951119666006\n",
      "rmse = 1.437630757182329\n",
      "r2 =  0.8156939551522598\n"
     ]
    }
   ],
   "source": [
    "xg = XGBRegressor(n_estimators=300,max_depth =5, random_state=2022)\n",
    "xg.fit(x_train,y_train)\n",
    "y_predict = xg.predict(x_val)\n",
    "print(\"mse =\", mean_squared_error(y_val,y_predict))\n",
    "print('mae =', mean_absolute_error(y_val,y_predict))\n",
    "print(\"rmse =\", mean_squared_error(y_val,y_predict)**0.5)\n",
    "print(\"r2 = \", r2_score(y_val,y_predict))"
   ]
  },
  {
   "cell_type": "markdown",
   "id": "0b5c66d7",
   "metadata": {},
   "source": [
    "### 3) LinearRegression"
   ]
  },
  {
   "cell_type": "code",
   "execution_count": 36,
   "id": "25b11e87",
   "metadata": {},
   "outputs": [
    {
     "name": "stdout",
     "output_type": "stream",
     "text": [
      "mse = 2.3151682498408297\n",
      "mae = 0.9425000957414216\n",
      "rmse = 1.5215676947940338\n",
      "r2 =  0.7935440393648356\n"
     ]
    }
   ],
   "source": [
    "lr = LinearRegression()\n",
    "lr.fit(x_train,y_train)\n",
    "y_predict = lr.predict(x_val)\n",
    "print(\"mse =\", mean_squared_error(y_val,y_predict))\n",
    "print('mae =', mean_absolute_error(y_val,y_predict))\n",
    "print(\"rmse =\", mean_squared_error(y_val,y_predict)**0.5)\n",
    "print(\"r2 = \", r2_score(y_val,y_predict))"
   ]
  },
  {
   "cell_type": "code",
   "execution_count": 14,
   "id": "3889f3ca",
   "metadata": {},
   "outputs": [
    {
     "data": {
      "text/plain": [
       "<AxesSubplot:>"
      ]
     },
     "execution_count": 14,
     "metadata": {},
     "output_type": "execute_result"
    },
    {
     "data": {
      "image/png": "[encoded data removed]",
      "text/plain": [
       "<Figure size 432x288 with 1 Axes>"
      ]
     },
     "metadata": {
      "needs_background": "light"
     },
     "output_type": "display_data"
    }
   ],
   "source": [
    "x_train['age'].plot(kind='box')"
   ]
  },
  {
   "cell_type": "code",
   "execution_count": 17,
   "id": "3b3b163b",
   "metadata": {},
   "outputs": [
    {
     "data": {
      "text/plain": [
       "<AxesSubplot:>"
      ]
     },
     "execution_count": 17,
     "metadata": {},
     "output_type": "execute_result"
    },
    {
     "data": {
      "image/png": "[encoded data removed]",
      "text/plain": [
       "<Figure size 432x288 with 1 Axes>"
      ]
     },
     "metadata": {
      "needs_background": "light"
     },
     "output_type": "display_data"
    }
   ],
   "source": [
    "x_train['Medu'].plot(kind='box')"
   ]
  },
  {
   "cell_type": "code",
   "execution_count": 16,
   "id": "2b03e067",
   "metadata": {},
   "outputs": [
    {
     "data": {
      "text/plain": [
       "<AxesSubplot:>"
      ]
     },
     "execution_count": 16,
     "metadata": {},
     "output_type": "execute_result"
    },
    {
     "data": {
      "image/png": "[encoded data removed]",
      "text/plain": [
       "<Figure size 432x288 with 1 Axes>"
      ]
     },
     "metadata": {
      "needs_background": "light"
     },
     "output_type": "display_data"
    }
   ],
   "source": [
    "x_train['Fedu'].plot(kind='box')"
   ]
  },
  {
   "cell_type": "code",
   "execution_count": 18,
   "id": "a5984501",
   "metadata": {},
   "outputs": [
    {
     "data": {
      "text/plain": [
       "<AxesSubplot:>"
      ]
     },
     "execution_count": 18,
     "metadata": {},
     "output_type": "execute_result"
    },
    {
     "data": {
      "image/png": "[encoded data removed]",
      "text/plain": [
       "<Figure size 432x288 with 1 Axes>"
      ]
     },
     "metadata": {
      "needs_background": "light"
     },
     "output_type": "display_data"
    }
   ],
   "source": [
    "x_train['traveltime'].plot(kind='box')"
   ]
  },
  {
   "cell_type": "code",
   "execution_count": 19,
   "id": "e6609e0a",
   "metadata": {},
   "outputs": [
    {
     "data": {
      "text/plain": [
       "<AxesSubplot:>"
      ]
     },
     "execution_count": 19,
     "metadata": {},
     "output_type": "execute_result"
    },
    {
     "data": {
      "image/png": "[encoded data removed]",
      "text/plain": [
       "<Figure size 432x288 with 1 Axes>"
      ]
     },
     "metadata": {
      "needs_background": "light"
     },
     "output_type": "display_data"
    }
   ],
   "source": [
    "x_train['studytime'].plot(kind='box')"
   ]
  },
  {
   "cell_type": "code",
   "execution_count": 9,
   "id": "4fb5286a",
   "metadata": {},
   "outputs": [
    {
     "data": {
      "text/plain": [
       "<AxesSubplot:>"
      ]
     },
     "execution_count": 9,
     "metadata": {},
     "output_type": "execute_result"
    },
    {
     "data": {
      "image/png": "[encoded data removed]",
      "text/plain": [
       "<Figure size 432x288 with 1 Axes>"
      ]
     },
     "metadata": {
      "needs_background": "light"
     },
     "output_type": "display_data"
    }
   ],
   "source": [
    "x_train['G2'].plot(kind='box')"
   ]
  },
  {
   "cell_type": "code",
   "execution_count": 10,
   "id": "11bb3903",
   "metadata": {},
   "outputs": [
    {
     "data": {
      "text/plain": [
       "<AxesSubplot:>"
      ]
     },
     "execution_count": 10,
     "metadata": {},
     "output_type": "execute_result"
    },
    {
     "data": {
      "image/png": "[encoded data removed]",
      "text/plain": [
       "<Figure size 432x288 with 1 Axes>"
      ]
     },
     "metadata": {
      "needs_background": "light"
     },
     "output_type": "display_data"
    }
   ],
   "source": [
    "x_train['age'].plot(kind='box')"
   ]
  },
  {
   "cell_type": "code",
   "execution_count": null,
   "id": "ad92fec7",
   "metadata": {},
   "outputs": [],
   "source": []
  }
 ],
 "metadata": {
  "kernelspec": {
   "display_name": "Python 3",
   "language": "python",
   "name": "python3"
  },
  "language_info": {
   "codemirror_mode": {
    "name": "ipython",
    "version": 3
   },
   "file_extension": ".py",
   "mimetype": "text/x-python",
   "name": "python",
   "nbconvert_exporter": "python",
   "pygments_lexer": "ipython3",
   "version": "3.7.10"
  }
 },
 "nbformat": 4,
 "nbformat_minor": 5
}
