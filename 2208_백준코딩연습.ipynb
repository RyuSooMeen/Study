{
 "cells": [
  {
   "cell_type": "code",
   "execution_count": 36,
   "id": "dff0539b",
   "metadata": {},
   "outputs": [
    {
     "name": "stdout",
     "output_type": "stream",
     "text": [
      "4 7\n",
      "6 13\n",
      "4 8\n",
      "3 6\n",
      "5 12\n",
      "14\n"
     ]
    }
   ],
   "source": [
    "# 8/2 12865번 평범한 배낭\n",
    "N,K = map(int,input().split())\n",
    "l = []\n",
    "bag = {0:0}\n",
    "for i in range(N):\n",
    "    curr_w,curr_v = map(int,input().split())\n",
    "    temp = {}\n",
    "    for w, v in bag.items():\n",
    "        if curr_w + w <= K and curr_v+v > bag.get(curr_w+w,0):\n",
    "            temp[curr_w+w] = curr_v+v\n",
    "    bag.update(temp)\n",
    "print(max(bag.values()))"
   ]
  },
  {
   "cell_type": "code",
   "execution_count": 17,
   "id": "d62bb853",
   "metadata": {},
   "outputs": [
    {
     "name": "stdout",
     "output_type": "stream",
     "text": [
      "3 5\n",
      "1 2 3 4 5\n",
      "5 6 7\n"
     ]
    },
    {
     "data": {
      "text/plain": [
       "4"
      ]
     },
     "execution_count": 17,
     "metadata": {},
     "output_type": "execute_result"
    }
   ],
   "source": [
    "# 8/3 1269번 대칭차집합\n",
    "from collections import Counter\n",
    "a,b =map(int,input().split())\n",
    "A = list(map(int,input().split()))\n",
    "B = list(map(int,input().split()))\n",
    "c_A = Counter(A)\n",
    "c_B = Counter(B)\n",
    "print(sum((c_A-c_B).values()) + sum((c_B-c_A).values()))"
   ]
  },
  {
   "cell_type": "code",
   "execution_count": 3,
   "id": "eb2f1edc",
   "metadata": {},
   "outputs": [
    {
     "name": "stdout",
     "output_type": "stream",
     "text": [
      "14\n",
      "push 1\n",
      "push 2\n",
      "top\n",
      "2\n",
      "size\n",
      "2\n",
      "empty\n",
      "0\n",
      "pop\n",
      "2\n",
      "pop\n",
      "1\n",
      "pop\n",
      "-1\n",
      "size\n",
      "0\n",
      "empty\n",
      "1\n",
      "pop\n",
      "-1\n",
      "push 3\n",
      "empty\n",
      "0\n",
      "top\n",
      "3\n"
     ]
    }
   ],
   "source": [
    "# 8/5 10828번 스택\n",
    "s = []\n",
    "N = int(input())\n",
    "for i in range(N):\n",
    "    a = input().split()\n",
    "    if a[0] == 'push':\n",
    "        s.append(a[1])\n",
    "    elif a[0] == \"pop\":\n",
    "        if len(s) == 0:\n",
    "            print(-1)\n",
    "        else:\n",
    "            print(s.pop())\n",
    "    elif a[0] == \"top\":\n",
    "        if len(s) == 0:\n",
    "            print(-1)\n",
    "        else:\n",
    "            print(s[-1])\n",
    "    elif a[0] == 'size':\n",
    "        print(len(s))\n",
    "    elif a[0] == 'empty':\n",
    "        if len(s) == 0:\n",
    "            print(1)\n",
    "        else:\n",
    "            print(0)"
   ]
  },
  {
   "cell_type": "code",
   "execution_count": 37,
   "id": "d6b82077",
   "metadata": {},
   "outputs": [
    {
     "name": "stdout",
     "output_type": "stream",
     "text": [
      "3\n",
      "((\n",
      "NO\n",
      "))\n",
      "NO\n",
      "())(()\n",
      "NO\n"
     ]
    }
   ],
   "source": [
    "# 8/5 9012번 괄호\n",
    "import sys\n",
    "T = int(input())\n",
    "for i in range(T):\n",
    "    a = input()\n",
    "    s = []\n",
    "    for i in range(len(a)):\n",
    "        if len(s) == 0:\n",
    "            s.append(a[i])\n",
    "        elif s[-1] == \"(\" and a[i] == \")\":\n",
    "            s.pop()\n",
    "        else:\n",
    "            s.append(a[i])\n",
    "            \n",
    "    if len(s) == 0:\n",
    "        print(\"YES\")\n",
    "    else:\n",
    "        print(\"NO\")"
   ]
  },
  {
   "cell_type": "code",
   "execution_count": null,
   "id": "1444225e",
   "metadata": {},
   "outputs": [
    {
     "name": "stdout",
     "output_type": "stream",
     "text": [
      "15\n",
      "push 1\n",
      "push 2\n",
      "front\n",
      "1\n",
      "back\n",
      "2\n",
      "size\n",
      "2\n",
      "empty\n",
      "0\n",
      "pop\n",
      "pop\n",
      "pop\n",
      "-1\n",
      "size\n",
      "0\n",
      "empty\n",
      "1\n",
      "push 3\n",
      "empty\n",
      "0\n",
      "front\n",
      "3\n"
     ]
    }
   ],
   "source": [
    "# 8/6 10845번 큐\n",
    "N = int(input())\n",
    "q = []\n",
    "for i in range(N):\n",
    "    a = input().split()\n",
    "    if a[0] == \"push\":\n",
    "        q.append(a[1])\n",
    "    elif a[0] == \"pop\":\n",
    "        if len(q) == 0:\n",
    "            print(-1)\n",
    "        else:\n",
    "            q.pop(0)\n",
    "    elif a[0] == \"size\":\n",
    "        print(len(q))\n",
    "    elif a[0] == \"empty\":\n",
    "        if len(q) == 0:\n",
    "            print(1)\n",
    "        else:\n",
    "            print(0)\n",
    "    elif a[0] == \"front\":\n",
    "        if len(q) == 0:\n",
    "            print(-1)\n",
    "        else:\n",
    "            print(q[0])\n",
    "    elif a[0] == \"back\":\n",
    "        if len(q) == 0:\n",
    "            print(-1)\n",
    "        else:\n",
    "            print(q[-1])\n"
   ]
  },
  {
   "cell_type": "code",
   "execution_count": 13,
   "id": "d9427cb2",
   "metadata": {},
   "outputs": [
    {
     "data": {
      "text/plain": [
       "90"
      ]
     },
     "execution_count": 13,
     "metadata": {},
     "output_type": "execute_result"
    }
   ],
   "source": [
    "def division(n):\n",
    "    divisors = []\n",
    "    divisors_back = [] \n",
    "\n",
    "    for i in range(1, int(n**(1/2)) + 1): \n",
    "        if (n % i == 0):            \n",
    "            divisors.append(i)\n",
    "            if (i != (n // i)): \n",
    "                divisors_back.append(n//i)\n",
    "\n",
    "    return divisors + divisors_back[::-1]\n",
    "\n",
    "c = division(500000000)\n",
    "len(c)"
   ]
  },
  {
   "cell_type": "code",
   "execution_count": 17,
   "id": "45f3f307",
   "metadata": {},
   "outputs": [
    {
     "data": {
      "text/plain": [
       "121"
      ]
     },
     "execution_count": 17,
     "metadata": {},
     "output_type": "execute_result"
    }
   ],
   "source": [
    "def count(n):\n",
    "    count = 0\n",
    "    for i in range(1, int(n**(1/2)) + 1): \n",
    "        if (n % i == 0):            \n",
    "            count += 1\n",
    "            if (i != (n // i)): \n",
    "                count +=1\n",
    "\n",
    "    return count\n",
    "\n",
    "count(10000000000)"
   ]
  },
  {
   "cell_type": "code",
   "execution_count": 20,
   "id": "5ebd3b45",
   "metadata": {},
   "outputs": [
    {
     "data": {
      "text/plain": [
       "False"
      ]
     },
     "execution_count": 20,
     "metadata": {},
     "output_type": "execute_result"
    }
   ],
   "source": [
    "def primenumber(x):\n",
    "    if x == 1:\n",
    "        return False\n",
    "    for i in range (2, int(x**(1/2)) + 1):\n",
    "                    return False\n",
    "    return True\n",
    "                    \n",
    "primenumber(1)"
   ]
  },
  {
   "cell_type": "code",
   "execution_count": 25,
   "id": "3581a4f9",
   "metadata": {},
   "outputs": [
    {
     "data": {
      "text/plain": [
       "5"
      ]
     },
     "execution_count": 25,
     "metadata": {},
     "output_type": "execute_result"
    }
   ],
   "source": [
    "def prime_number(n):\n",
    "    max = 1000000\n",
    "    check_prime = [False, False] + [True] * max\n",
    "    primes = []\n",
    "    \n",
    "    for i in range(2, int(max**(1/2))+1):\n",
    "        if check_prime[i]:\n",
    "            primes.append(i)\n",
    "            for j in range(i+i, max+1, i):\n",
    "                check_prime[j] = False\n",
    "    \n",
    "    answer = primes[m-1]\n",
    "\n",
    "prime_number(3)"
   ]
  },
  {
   "cell_type": "code",
   "execution_count": null,
   "id": "1fe6e8c2",
   "metadata": {},
   "outputs": [],
   "source": [
    "a = [False, False] + [True] * 999998\n",
    "    Primes = []\n",
    "    \n",
    "    for i in range(2, 999998):\n",
    "        if a[i]:\n",
    "            Primes.append(i)\n",
    "            for j in range(i+i, 999998, i):\n",
    "                a[j] = False\n",
    "a[100]"
   ]
  },
  {
   "cell_type": "code",
   "execution_count": 38,
   "id": "a671eeb3",
   "metadata": {},
   "outputs": [
    {
     "name": "stdout",
     "output_type": "stream",
     "text": [
      "7 3\n",
      "<3, 6, 2, 7, 5, 1, 4>\n"
     ]
    }
   ],
   "source": [
    "# 8/7 1158번 요세푸스 문제\n",
    "N, K = map(int,input().split())\n",
    "num = list(range(1,N+1))\n",
    "index = K-1\n",
    "answer = []\n",
    "while(1):\n",
    "    answer.append(num[index])\n",
    "    num = num[index+1:]+num[:index]\n",
    "    if len(num) == 0:\n",
    "        break\n",
    "    elif len(num) < K:\n",
    "        index = (K-1)%len(num)\n",
    "    else:\n",
    "        index = (index)%len(num)\n",
    "print(\"<\",', '.join(map(str,answer)),\">\", sep=\"\")"
   ]
  },
  {
   "cell_type": "code",
   "execution_count": 40,
   "id": "a958b592",
   "metadata": {},
   "outputs": [
    {
     "name": "stdout",
     "output_type": "stream",
     "text": [
      "dmih\n",
      "11\n",
      "B\n",
      "B\n"
     ]
    },
    {
     "ename": "IndexError",
     "evalue": "list index out of range",
     "output_type": "error",
     "traceback": [
      "\u001b[1;31m---------------------------------------------------------------------------\u001b[0m",
      "\u001b[1;31mIndexError\u001b[0m                                Traceback (most recent call last)",
      "\u001b[1;32m<ipython-input-40-91d54507f0ba>\u001b[0m in \u001b[0;36m<module>\u001b[1;34m\u001b[0m\n\u001b[0;32m     16\u001b[0m     \u001b[1;32melif\u001b[0m \u001b[0ma\u001b[0m\u001b[1;33m[\u001b[0m\u001b[1;36m0\u001b[0m\u001b[1;33m]\u001b[0m \u001b[1;33m==\u001b[0m \u001b[1;34m\"B\"\u001b[0m\u001b[1;33m:\u001b[0m\u001b[1;33m\u001b[0m\u001b[1;33m\u001b[0m\u001b[0m\n\u001b[0;32m     17\u001b[0m         \u001b[1;32mif\u001b[0m \u001b[0mlen_l\u001b[0m \u001b[1;33m>\u001b[0m \u001b[1;36m0\u001b[0m\u001b[1;33m:\u001b[0m\u001b[1;33m\u001b[0m\u001b[1;33m\u001b[0m\u001b[0m\n\u001b[1;32m---> 18\u001b[1;33m             \u001b[0ml\u001b[0m\u001b[1;33m.\u001b[0m\u001b[0mremove\u001b[0m\u001b[1;33m(\u001b[0m\u001b[0ml\u001b[0m\u001b[1;33m[\u001b[0m\u001b[0mlen_l\u001b[0m\u001b[1;33m-\u001b[0m\u001b[1;36m1\u001b[0m\u001b[1;33m]\u001b[0m\u001b[1;33m)\u001b[0m\u001b[1;33m\u001b[0m\u001b[1;33m\u001b[0m\u001b[0m\n\u001b[0m\u001b[0;32m     19\u001b[0m \u001b[0mprint\u001b[0m\u001b[1;33m(\u001b[0m\u001b[1;34m\"\"\u001b[0m\u001b[1;33m.\u001b[0m\u001b[0mjoin\u001b[0m\u001b[1;33m(\u001b[0m\u001b[0ml\u001b[0m\u001b[1;33m)\u001b[0m\u001b[1;33m)\u001b[0m\u001b[1;33m\u001b[0m\u001b[1;33m\u001b[0m\u001b[0m\n",
      "\u001b[1;31mIndexError\u001b[0m: list index out of range"
     ]
    }
   ],
   "source": [
    "# 8/8 에디터 (오답)\n",
    "import sys\n",
    "l = list(input())\n",
    "N = int(input())\n",
    "len_l = len(l)\n",
    "for i in range(N):\n",
    "    a = input().split()\n",
    "    if a[0] == 'P':\n",
    "        l.insert(len_l,a[1])\n",
    "        len_l += 1\n",
    "    elif a[0] == 'D':\n",
    "        if len_l < len(l):\n",
    "            len_l += 1\n",
    "    elif a[0] == 'L':\n",
    "        if len_l > 0:\n",
    "            len_l -= 1\n",
    "    elif a[0] == \"B\":\n",
    "        if len_l > 0:\n",
    "            l.remove(l[len_l-1])\n",
    "print(\"\".join(l))"
   ]
  },
  {
   "cell_type": "code",
   "execution_count": 21,
   "id": "12d7bf51",
   "metadata": {},
   "outputs": [
    {
     "name": "stdout",
     "output_type": "stream",
     "text": [
      "dmih\n",
      "11\n",
      "B\n",
      "B\n",
      "P x\n",
      "L\n",
      "B\n",
      "B\n",
      "B\n",
      "P y\n",
      "D\n",
      "D\n",
      "P z\n",
      "yxz\n"
     ]
    }
   ],
   "source": [
    "# 8/8 에디터 (오답)\n",
    "l = list(input())\n",
    "N = int(input())\n",
    "curser = len(l)\n",
    "for i in range(N):\n",
    "    a = input().split()\n",
    "    if a[0] == 'P':\n",
    "        l.insert(curser,a[1])\n",
    "        curser += 1\n",
    "    elif a[0] == 'L':\n",
    "        if curser != 0:\n",
    "            curser -= 1\n",
    "        else:\n",
    "            continue\n",
    "    elif a[0] == 'D':\n",
    "        if curser != len(l):\n",
    "            curser += 1\n",
    "        else:\n",
    "            continue\n",
    "    elif a[0] == \"B\":\n",
    "        if curser != 0:\n",
    "            l.pop(curser-1)\n",
    "            curser -= 1\n",
    "        else:\n",
    "            continue\n",
    "\n",
    "print(\"\".join(l))\n",
    "        \n",
    "    "
   ]
  },
  {
   "cell_type": "code",
   "execution_count": null,
   "id": "85f1360d",
   "metadata": {},
   "outputs": [],
   "source": [
    "# 8/8 10866 덱\n",
    "import sys\n",
    "N = int(sys.stdin.readline())\n",
    "D = []\n",
    "for i in range(N):\n",
    "    a = sys.stdin.readline().split()\n",
    "    if a[0] == \"push_front\":\n",
    "        D.insert(0,a[1])\n",
    "    elif a[0] == 'push_back':\n",
    "        D.insert(len(D),a[1])\n",
    "    elif a[0] == 'pop_front':\n",
    "        if len(D) != 0:\n",
    "            print(D.pop(0))\n",
    "        else:\n",
    "            print(-1)\n",
    "    elif a[0] == 'pop_back':\n",
    "        if len(D) != 0:\n",
    "            print(D.pop())\n",
    "        else:\n",
    "            print(-1)\n",
    "    elif a[0] == 'size':\n",
    "        print(len(D))\n",
    "    elif a[0] == 'empty':\n",
    "        if len(D) == 0:\n",
    "            print(1)\n",
    "        else:\n",
    "            print(0)\n",
    "    elif a[0] == 'front':\n",
    "        if len(D) != 0:\n",
    "            print(D[0])\n",
    "        else:\n",
    "            print(-1)\n",
    "    elif a[0] == 'back':\n",
    "        if len(D) != 0:\n",
    "            print(D[-1])\n",
    "        else:\n",
    "            print(-1)"
   ]
  },
  {
   "cell_type": "code",
   "execution_count": 62,
   "id": "4159e8bd",
   "metadata": {},
   "outputs": [
    {
     "name": "stdout",
     "output_type": "stream",
     "text": [
      "<   space   >space space space<    spa   c e>\n",
      "<   space   >ecaps ecaps ecaps<    spa   c e>\n"
     ]
    }
   ],
   "source": [
    "# 8/9 17413번 단어 뒤집기 2\n",
    "s = list(input())\n",
    "array = []\n",
    "nochange = \"\"\n",
    "word = \"\"\n",
    "for i in s:\n",
    "    if i == \"<\":\n",
    "        array.append(word)\n",
    "        word = \"\"\n",
    "        nochange += i\n",
    "    elif i == \">\":\n",
    "        nochange += i\n",
    "        array.append(nochange)\n",
    "        nochange = \"\"\n",
    "    else:\n",
    "        if len(nochange) > 0:\n",
    "            nochange += i\n",
    "        elif i == \" \":\n",
    "            array.append(\" \"+word)\n",
    "            word = \"\"\n",
    "        else:\n",
    "            word += i\n",
    "array.append(word)\n",
    "\n",
    "new = []\n",
    "for i in array:\n",
    "    if i == \"\":\n",
    "        continue\n",
    "    elif i[0] ==\"<\":\n",
    "        new.append(i)\n",
    "    else:\n",
    "        new.append(i[::-1])\n",
    "            \n",
    "print(\"\".join(new))"
   ]
  },
  {
   "cell_type": "code",
   "execution_count": 14,
   "id": "ea7fc306",
   "metadata": {},
   "outputs": [
    {
     "name": "stdout",
     "output_type": "stream",
     "text": [
      "(((()(()()))(())()))(()())\n",
      "24\n"
     ]
    }
   ],
   "source": [
    "# 8/10 10799번 쇠막대기\n",
    "a = input()\n",
    "a = a.replace(\"()\",\"a\")\n",
    "#a = a.replace(\"(aa)\",\"\")\n",
    "c = 0\n",
    "d = 0\n",
    "for i in range(len(a)):\n",
    "    if a[i] == \"(\":\n",
    "        d += 1\n",
    "    elif \"a\" in a[i]:\n",
    "        c += d\n",
    "    elif a[i] == \")\":\n",
    "        d -= 1\n",
    "        c += 1\n",
    "        \n",
    "print(c)"
   ]
  },
  {
   "cell_type": "code",
   "execution_count": 21,
   "id": "4b8e2329",
   "metadata": {},
   "outputs": [
    {
     "name": "stdout",
     "output_type": "stream",
     "text": [
      "4\n",
      "9 5 4 8\n",
      "-1 8 8 -1\n"
     ]
    }
   ],
   "source": [
    "# 8/10 17298번 오큰수\n",
    "N = int(input())\n",
    "A = list(map(int,input().split()))\n",
    "stack = []\n",
    "answer = [-1 for i in range(N)]\n",
    "for i in range(N):\n",
    "    while stack:\n",
    "        if A[stack[-1]] < A[i] :\n",
    "            answer[stack.pop()] = A[i]\n",
    "        else: \n",
    "            break\n",
    "            \n",
    "    stack.append(i)\n",
    "\n",
    "print(*answer)\n",
    "        \n",
    "        \n"
   ]
  },
  {
   "cell_type": "code",
   "execution_count": 5,
   "id": "6961771b",
   "metadata": {},
   "outputs": [
    {
     "name": "stdout",
     "output_type": "stream",
     "text": [
      "7\n",
      "1 1 2 3 4 2 1\n",
      "-1 -1 1 2 2 1 -1\n"
     ]
    }
   ],
   "source": [
    "# 8/11 17299번 오등큰수\n",
    "from collections import Counter\n",
    "N = int(input())\n",
    "A = list(map(int,input().split()))\n",
    "stack = []\n",
    "answer = [-1 for i in range(N)]\n",
    "C = Counter(A)\n",
    "for i in range(N):\n",
    "    while stack and C[A[stack[-1]]] < C[A[i]]:\n",
    "        answer[stack.pop()] = A[i]\n",
    "    stack.append(i)\n",
    "print(*answer)"
   ]
  },
  {
   "cell_type": "code",
   "execution_count": 3,
   "id": "13e640d8",
   "metadata": {},
   "outputs": [
    {
     "name": "stdout",
     "output_type": "stream",
     "text": [
      "baekjoon\n",
      "1 1 0 0 1 0 0 0 0 1 1 0 0 1 2 0 0 0 0 0 0 0 0 0 0 0\n"
     ]
    }
   ],
   "source": [
    "# 8/11 10808번 알파벳 개수\n",
    "d = {\n",
    "    'a':0,'b':0,'c':0,'d':0,'e':0,'f':0,'g':0,'h':0,'i':0,\n",
    "    'j':0,'k':0,'l':0,'m':0,'n':0,'o':0,'p':0,'q':0,'r':0,\n",
    "    's':0,'t':0,'u':0,'v':0,'w':0,'x':0,'y':0,'z':0\n",
    "}\n",
    "s = list(input())\n",
    "for i in s:\n",
    "    d[i] += 1\n",
    "print(*list(d.values()))"
   ]
  },
  {
   "cell_type": "code",
   "execution_count": 14,
   "id": "4ed05c97",
   "metadata": {},
   "outputs": [
    {
     "name": "stdout",
     "output_type": "stream",
     "text": [
      "1\n",
      "AA+A+\n",
      "1\n",
      "3.00\n"
     ]
    }
   ],
   "source": [
    "# 8/11 1935번 후위표기식 2\n",
    "import string\n",
    "N = int(input())\n",
    "s = list(input())\n",
    "upper_list = list(string.ascii_uppercase)\n",
    "num_list = {}\n",
    "for i in range(N):\n",
    "    num_list[upper_list[i]] = int(input())\n",
    "\n",
    "stack = []\n",
    "for i in s:\n",
    "    if \"A\" <= i <= \"Z\":\n",
    "        stack.append(num_list[i])\n",
    "    else:\n",
    "        str2 = stack.pop()\n",
    "        str1 = stack.pop()\n",
    "        if i == \"+\":\n",
    "            stack.append(str1 + str2)\n",
    "        elif i == \"-\":\n",
    "            stack.append(str1 - str2)\n",
    "        elif i == \"*\":\n",
    "            stack.append(str1*str2)\n",
    "        elif i == \"/\":\n",
    "            stack.append(str1 / str2)\n",
    "            \n",
    "print(\"%.2f\" %stack[0])"
   ]
  },
  {
   "cell_type": "code",
   "execution_count": 20,
   "id": "08da919f",
   "metadata": {},
   "outputs": [
    {
     "name": "stdout",
     "output_type": "stream",
     "text": [
      "A*(B+C)\n",
      "ABC+*\n"
     ]
    }
   ],
   "source": [
    "# 8/12 1918번 후위 표기식\n",
    "s = list(input())\n",
    "stack = []\n",
    "ans = \"\"\n",
    "for i in s:\n",
    "    if i.isalpha():\n",
    "        ans += i\n",
    "    else:\n",
    "        if i  == '(':\n",
    "            stack.append(i)\n",
    "        elif i == \"*\" or i == \"/\":\n",
    "            while stack and (stack[-1] == '*' or stack[-1] == \"/\"):\n",
    "                ans += stack.pop()\n",
    "            stack.append(i)\n",
    "        elif i == \"+\" or i == \"-\":\n",
    "            while stack and stack[-1] != \"(\":\n",
    "                ans += stack.pop()\n",
    "            stack.append(i)\n",
    "        elif i == \")\":\n",
    "            while stack and stack[-1] != \"(\":\n",
    "                ans += stack.pop()\n",
    "            stack.pop()\n",
    "\n",
    "while stack:\n",
    "    ans += stack.pop()\n",
    "print(ans)"
   ]
  },
  {
   "cell_type": "code",
   "execution_count": 29,
   "id": "edffc800",
   "metadata": {},
   "outputs": [
    {
     "name": "stdout",
     "output_type": "stream",
     "text": [
      "baekjoon\n",
      "1 0 -1 -1 2 -1 -1 -1 -1 4 3 -1 -1 7 5 -1 -1 -1 -1 -1 -1 -1 -1 -1 -1 -1\n"
     ]
    }
   ],
   "source": [
    "import string\n",
    "s = input()\n",
    "l = list(string.ascii_lowercase)\n",
    "l_s = []\n",
    "for i in l:\n",
    "    l_s.append(s.find(i))\n",
    "print(*l_s)        "
   ]
  },
  {
   "cell_type": "code",
   "execution_count": 28,
   "id": "e4098b6b",
   "metadata": {},
   "outputs": [
    {
     "data": {
      "text/plain": [
       "2"
      ]
     },
     "execution_count": 28,
     "metadata": {},
     "output_type": "execute_result"
    }
   ],
   "source": [
    "s.find(\"c\")"
   ]
  },
  {
   "cell_type": "code",
   "execution_count": 32,
   "id": "4e1a490c",
   "metadata": {
    "scrolled": true
   },
   "outputs": [
    {
     "data": {
      "text/plain": [
       "True"
      ]
     },
     "execution_count": 32,
     "metadata": {},
     "output_type": "execute_result"
    }
   ],
   "source": [
    "i = \"2\"\n",
    "i.isnumeric()"
   ]
  },
  {
   "cell_type": "code",
   "execution_count": 36,
   "id": "2b667ff2",
   "metadata": {
    "scrolled": false
   },
   "outputs": [
    {
     "name": "stdout",
     "output_type": "stream",
     "text": [
      "This is String\n",
      "10 2 0 2\n",
      "SPACE    1    SPACE\n",
      "0 10 1 8\n",
      " S a M p L e I n P u T \n",
      "5 6 0 12\n",
      "0L1A2S3T4L5I6N7E8\n",
      "0 8 9 0\n",
      "\n"
     ]
    }
   ],
   "source": [
    "while True:\n",
    "    try:\n",
    "        l = 0\n",
    "        u = 0\n",
    "        n = 0\n",
    "        s = 0\n",
    "        i = input()\n",
    "        for i in i:\n",
    "            if \"A\"<=i<=\"Z\":\n",
    "                u += 1\n",
    "            elif \"a\" <= i <= \"z\":\n",
    "                l += 1\n",
    "            elif i.isdigit():\n",
    "                n += 1\n",
    "            elif i == \" \":\n",
    "                s += 1\n",
    "        print(l, u, n, s)\n",
    "        i = \"\"\n",
    "    except EOFError :\n",
    "        break"
   ]
  },
  {
   "cell_type": "code",
   "execution_count": 67,
   "id": "b33dff66",
   "metadata": {
    "scrolled": true
   },
   "outputs": [
    {
     "name": "stdout",
     "output_type": "stream",
     "text": [
      "Baekjoon Online Judge\n",
      "Onrxwbba Bayvar Whqtr\n"
     ]
    }
   ],
   "source": [
    "a = list(input())\n",
    "new =\"\"\n",
    "for i in a:\n",
    "    if \"A\" <= i <= \"Z\" and ord(i)+13 <=90:\n",
    "        new+=chr(ord(i)+13)\n",
    "    elif \"A\" <= i <= \"Z\" and ord(i)+13 > 90:\n",
    "        new+=chr(ord(i)-13)\n",
    "    elif \"a\" <= i <= \"z\" and ord(i)+13 <=122:\n",
    "        new+=chr(ord(i)+13)\n",
    "    elif \"a\" <= i <= \"z\" and ord(i)+13 > 122:\n",
    "        new+=chr(ord(i)-13)\n",
    "    else:\n",
    "        new+=i\n",
    "print(new)"
   ]
  },
  {
   "cell_type": "code",
   "execution_count": 59,
   "id": "e621e859",
   "metadata": {},
   "outputs": [
    {
     "name": "stdout",
     "output_type": "stream",
     "text": [
      "N O P Q R S T U V W X Y Z [ \\ ] ^ _ ` a b c d e f g\n"
     ]
    }
   ],
   "source": [
    "a = list(string.ascii_uppercase)\n",
    "new = []\n",
    "for i in a:\n",
    "    new.append(chr(ord(i)+13))\n",
    "print(*new)"
   ]
  },
  {
   "cell_type": "code",
   "execution_count": 63,
   "id": "4591f218",
   "metadata": {},
   "outputs": [
    {
     "data": {
      "text/plain": [
       "122"
      ]
     },
     "execution_count": 63,
     "metadata": {},
     "output_type": "execute_result"
    }
   ],
   "source": [
    "ord(\"z\")"
   ]
  },
  {
   "cell_type": "code",
   "execution_count": 70,
   "id": "ca8dcd4e",
   "metadata": {},
   "outputs": [
    {
     "name": "stdout",
     "output_type": "stream",
     "text": [
      "10 20 30 40\n",
      "4060\n",
      "['10', '20', '30', '40']\n"
     ]
    }
   ],
   "source": [
    "l = list(input().split())\n",
    "a = int(l[0]+l[1])\n",
    "b = int(l[2]+l[3])\n",
    "print(a+b)"
   ]
  },
  {
   "cell_type": "code",
   "execution_count": 79,
   "id": "75a60c55",
   "metadata": {},
   "outputs": [
    {
     "name": "stdout",
     "output_type": "stream",
     "text": [
      "baekjoon\n",
      "aekjoon\n",
      "baekjoon\n",
      "ekjoon\n",
      "joon\n",
      "kjoon\n",
      "n\n",
      "on\n",
      "oon\n"
     ]
    }
   ],
   "source": [
    "s = input()\n",
    "a = []\n",
    "for i in range(len(s)):\n",
    "    a.append(s[i:])\n",
    "a = sorted(a)\n",
    "for i in a:\n",
    "    print(i)"
   ]
  },
  {
   "cell_type": "code",
   "execution_count": 87,
   "id": "be1e4857",
   "metadata": {
    "scrolled": true
   },
   "outputs": [
    {
     "name": "stdout",
     "output_type": "stream",
     "text": [
      "24 18\n",
      "6\n",
      "72\n"
     ]
    }
   ],
   "source": [
    "l = list(map(int,input().split()))\n",
    "gcd = []\n",
    "lcd = 0\n",
    "for i in range(1, min(l) + 1):\n",
    "    if l[0] % i == 0 and l[1] % i == 0:\n",
    "        gcd.append(i)\n",
    "lcd = l[0]*l[1]//max(gcd)\n",
    "print(max(gcd))\n",
    "print(lcd)"
   ]
  },
  {
   "cell_type": "code",
   "execution_count": 89,
   "id": "0feb8648",
   "metadata": {},
   "outputs": [
    {
     "name": "stdout",
     "output_type": "stream",
     "text": [
      "24 18\n",
      "6\n",
      "72\n"
     ]
    }
   ],
   "source": [
    "l = list(map(int,input().split()))\n",
    "n, m = max(l), min(l)\n",
    "lcd = 0\n",
    "while m > 0:\n",
    "    n,m = m, n%m\n",
    "\n",
    "lcd = l[0]*l[1]//n\n",
    "print(n)\n",
    "print(lcd)"
   ]
  },
  {
   "cell_type": "code",
   "execution_count": 120,
   "id": "0b83627b",
   "metadata": {},
   "outputs": [
    {
     "name": "stdout",
     "output_type": "stream",
     "text": [
      "8\n",
      "8 = 3 + 5\n",
      "6\n",
      "6 = 3 + 3\n",
      "20\n",
      "20 = 3 + 17\n",
      "16\n",
      "16 = 3 + 13\n",
      "0\n"
     ]
    }
   ],
   "source": [
    "n = 1000000\n",
    "array = [True] * (n-1)\n",
    "for i in range(1001):\n",
    "    if i == 0 or i ==1:\n",
    "        array[i] = False\n",
    "    elif array[i] :\n",
    "        for j in range(i+i,n-1,i):\n",
    "            array[j] = False\n",
    "\n",
    "while True:\n",
    "    n = int(input())\n",
    "    if n == 0: break\n",
    "    for i in range(3, len(array)):\n",
    "        if array[i]==True and array[n-i]==True:\n",
    "            print(n,\"=\",i,\"+\",n-i)\n",
    "            break"
   ]
  },
  {
   "cell_type": "code",
   "execution_count": 122,
   "id": "04780a06",
   "metadata": {},
   "outputs": [
    {
     "name": "stdout",
     "output_type": "stream",
     "text": [
      "3\n",
      "0\n"
     ]
    }
   ],
   "source": [
    "N = int(input())\n",
    "p = 1\n",
    "for i in range(1,N+1):\n",
    "    p*=i\n",
    "p = str(p)\n",
    "c = 0\n",
    "for i in p[::-1]:\n",
    "    if i == \"0\":\n",
    "        c += 1\n",
    "    elif i != 0:\n",
    "        print(c)\n",
    "        break"
   ]
  },
  {
   "cell_type": "code",
   "execution_count": 15,
   "id": "651207e8",
   "metadata": {},
   "outputs": [
    {
     "name": "stdout",
     "output_type": "stream",
     "text": [
      "3\n",
      "3\n"
     ]
    }
   ],
   "source": [
    "from scipy.special import factorial\n",
    "N = 4\n",
    "c = 0\n",
    "while N > 0:\n",
    "    c += N // 2\n",
    "    N = N//2\n",
    "    \n",
    "c1 = 0\n",
    "f = 24\n",
    "while f > 0:\n",
    "    if f % 2 == 0:\n",
    "        c1 += 1\n",
    "        f = f//2\n",
    "        \n",
    "print(c)\n",
    "print(c1)"
   ]
  },
  {
   "cell_type": "code",
   "execution_count": 14,
   "id": "1781093e",
   "metadata": {},
   "outputs": [
    {
     "data": {
      "text/plain": [
       "1307674368000"
      ]
     },
     "execution_count": 14,
     "metadata": {},
     "output_type": "execute_result"
    }
   ],
   "source": [
    "N = 15\n",
    "c = 0\n",
    "while N > 0:\n",
    "    c += N // 5\n",
    "    N = N // 5\n",
    "    \n",
    "c1 = 0\n",
    "f = 1307674368000\n",
    "while f > 0:\n",
    "    if f % 5 == 0:\n",
    "        c1 += 1\n",
    "        f = f//5\n",
    "    else:\n",
    "        break\n",
    "        \n",
    "print(c)\n",
    "print(c1)"
   ]
  },
  {
   "cell_type": "code",
   "execution_count": 42,
   "id": "55ab5c5b",
   "metadata": {},
   "outputs": [
    {
     "name": "stdout",
     "output_type": "stream",
     "text": [
      "25 12\n",
      "2\n"
     ]
    }
   ],
   "source": [
    "def countm(num,t):\n",
    "    c = 0\n",
    "    while num>0:\n",
    "        c += num // t\n",
    "        num = num // t\n",
    "    return c\n",
    "\n",
    "n, m = map(int, input().split())\n",
    "c2 = countm(n,2) -countm(m,2) -countm(n-m,2)\n",
    "c5 = countm(n,5) - countm(m,5) - countm(n-m,5)\n",
    "print(min(c2, c5))"
   ]
  },
  {
   "cell_type": "code",
   "execution_count": 39,
   "id": "673829e2",
   "metadata": {},
   "outputs": [
    {
     "data": {
      "text/plain": [
       "22"
      ]
     },
     "execution_count": 39,
     "metadata": {},
     "output_type": "execute_result"
    }
   ],
   "source": [
    "def countm(num,t):\n",
    "    c = 0\n",
    "    while num>0:\n",
    "        c += num // t\n",
    "        num = num // t\n",
    "    return c\n",
    "countm(25,2)"
   ]
  },
  {
   "cell_type": "code",
   "execution_count": 56,
   "id": "73e20d19",
   "metadata": {},
   "outputs": [
    {
     "name": "stdout",
     "output_type": "stream",
     "text": [
      "3\n",
      "4 10 20 30 40\n",
      "70\n",
      "3 7 5 12\n",
      "3\n",
      "3 125 15 25\n",
      "35\n"
     ]
    }
   ],
   "source": [
    "def gcd(x,y):\n",
    "    n,m = max(x,y), min(x,y)\n",
    "    while m > 0:\n",
    "        n,m = m,n%m\n",
    "    return n\n",
    "from itertools import combinations\n",
    "n = int(input())\n",
    "for i in range(n):\n",
    "    l = list(map(int,input().split()))\n",
    "    l.pop(0)\n",
    "    c = list(combinations(l,2))\n",
    "    r = 0\n",
    "    for j in range(len(c)):\n",
    "        r += gcd(c[j][0],c[j][1])\n",
    "    print(r)\n",
    "        "
   ]
  },
  {
   "cell_type": "code",
   "execution_count": 53,
   "id": "34f404d0",
   "metadata": {},
   "outputs": [
    {
     "data": {
      "text/plain": [
       "1"
      ]
     },
     "execution_count": 53,
     "metadata": {},
     "output_type": "execute_result"
    }
   ],
   "source": [
    "def gcd(x,y):\n",
    "    n,m = max(x,y), min(x,y)\n",
    "    while m > 0:\n",
    "        n,m = m,n%m\n",
    "    return n\n",
    "\n",
    "gcd(c[0][0],c[0][1])"
   ]
  },
  {
   "cell_type": "code",
   "execution_count": 74,
   "id": "1e72f9a0",
   "metadata": {},
   "outputs": [
    {
     "name": "stdout",
     "output_type": "stream",
     "text": [
      "3 81\n",
      "33 105 57\n",
      "24\n"
     ]
    }
   ],
   "source": [
    "def gcd(x,y):\n",
    "    n,m = max(x,y), min(x,y)\n",
    "    while m > 0:\n",
    "        n,m = m,n%m\n",
    "    return n\n",
    "\n",
    "N, S = map(int,input().split())\n",
    "l = list(map(int,input().split()))\n",
    "d = list(set((abs(l[i] - S) for i in range(N))))\n",
    "gcd_d = min(d)\n",
    "for i in range(len(d)):\n",
    "    gcd_d = gcd(d[i],gcd_d)\n",
    "print(gcd_d)"
   ]
  },
  {
   "cell_type": "code",
   "execution_count": 84,
   "id": "e3e8793d",
   "metadata": {},
   "outputs": [
    {
     "data": {
      "text/plain": [
       "0"
      ]
     },
     "execution_count": 84,
     "metadata": {},
     "output_type": "execute_result"
    }
   ],
   "source": [
    "def solution(citations):\n",
    "    answer = 0\n",
    "    citations.sort()\n",
    "    while (len(citations) > 0):\n",
    "        c = 0\n",
    "        h = citations[0]\n",
    "        for i in range(len(citations)):\n",
    "            if citations[i] > h:\n",
    "                c += 1\n",
    "        if c == h:\n",
    "            answer = h\n",
    "            print(c)\n",
    "            break\n",
    "        else:\n",
    "            citations.pop(0)\n",
    "\n",
    "    return answer\n",
    "\n",
    "\n",
    "solution([3, 0, 6, 1, 5])"
   ]
  },
  {
   "cell_type": "code",
   "execution_count": 89,
   "id": "a3993ddf",
   "metadata": {},
   "outputs": [
    {
     "name": "stdout",
     "output_type": "stream",
     "text": [
      "20\n",
      "7\n",
      "23\n",
      "19\n",
      "10\n",
      "15\n",
      "25\n",
      "8\n",
      "13\n",
      "7\n",
      "8\n",
      "10\n",
      "13\n",
      "19\n",
      "20\n",
      "23\n"
     ]
    }
   ],
   "source": [
    "from itertools import combinations\n",
    "l = []\n",
    "for i in range(9):\n",
    "    l.append(int(input()))\n",
    "a = list(combinations(l,7))\n",
    "for i in range(len(a)):\n",
    "    if sum(a[i]) == 100:\n",
    "        b = list(a[i])\n",
    "        break\n",
    "b.sort()\n",
    "for i in range(7):\n",
    "    print(b[i])\n",
    "        "
   ]
  },
  {
   "cell_type": "code",
   "execution_count": 101,
   "id": "cbcdfd82",
   "metadata": {},
   "outputs": [
    {
     "name": "stdout",
     "output_type": "stream",
     "text": [
      "5\n",
      "YCPZY\n",
      "CYZZP\n",
      "CCPPP\n",
      "YCYZC\n",
      "CPPZZ\n",
      "4\n"
     ]
    }
   ],
   "source": [
    "def check(arr):\n",
    "    n = len(arr)\n",
    "    answer = 1\n",
    "    for i in range(n):\n",
    "        cnt = 1\n",
    "        for j in range(1,n):\n",
    "            if arr[i][j] == arr[i][j-1]:\n",
    "                cnt += 1\n",
    "            else:\n",
    "                cnt = 1\n",
    "                \n",
    "            if cnt > answer:\n",
    "                answer = cnt\n",
    "                \n",
    "        cnt = 1\n",
    "        for j in range(1,n):\n",
    "            if arr[j][i] == arr[j-1][i]:\n",
    "                cnt += 1\n",
    "            else:\n",
    "                cnt = 1\n",
    "            \n",
    "            if cnt > answer:\n",
    "                answer = cnt\n",
    "                \n",
    "    return answer\n",
    "\n",
    "\n",
    "\n",
    "\n",
    "N = int(input())\n",
    "arr = [list(input()) for i in range(N)]\n",
    "c = 0\n",
    "for i in range(N):\n",
    "    for j in range(N):\n",
    "        if j +1 < N:\n",
    "            arr[i][j], arr[i][j+1] = arr[i][j+1], arr[i][j]\n",
    "            temp = check(arr)\n",
    "            if temp > c :\n",
    "                c = temp\n",
    "            arr[i][j],arr[i][j+1] = arr[i][j+1], arr[i][j]\n",
    "        if i + 1 < N:\n",
    "            arr[i][j], arr[i+1][j] = arr[i+1][j], arr[i][j]\n",
    "            temp = check(arr)\n",
    "            if temp > c:\n",
    "                c= temp\n",
    "            arr[i][j], arr[i+1][j] = arr[i+1][j], arr[i][j]\n",
    "            \n",
    "print(c)"
   ]
  },
  {
   "cell_type": "code",
   "execution_count": 94,
   "id": "2ea030b3",
   "metadata": {},
   "outputs": [
    {
     "name": "stdout",
     "output_type": "stream",
     "text": [
      "[['a', 'b', 'c', 'd'], ['e', 'f', 'g', 'h']]\n",
      "[['a', 'c', 'b', 'd'], ['e', 'f', 'g', 'h']]\n",
      "[['a', 'b', 'c', 'd'], ['e', 'f', 'g', 'h']]\n"
     ]
    }
   ],
   "source": [
    "arr = [['a','b','c','d'],['e','f','g','h']]\n",
    "print(arr)\n",
    "arr[0][1], arr[0][2] = arr[0][2], arr[0][1]\n",
    "print(arr)\n",
    "arr[0][1], arr[0][2] = arr[0][2], arr[0][1]\n",
    "print(arr)"
   ]
  },
  {
   "cell_type": "code",
   "execution_count": 108,
   "id": "e00b64b4",
   "metadata": {},
   "outputs": [
    {
     "name": "stdout",
     "output_type": "stream",
     "text": [
      "15 28 19\n",
      "7980\n"
     ]
    }
   ],
   "source": [
    "E,S,M,cnt = 1,1,1,1\n",
    "i_E, i_S, i_M = map(int,input().split())\n",
    "while True:\n",
    "    if i_E == E and i_S == S and i_M==M :\n",
    "        break\n",
    "    E +=1\n",
    "    S +=1\n",
    "    M+=1\n",
    "    cnt +=1\n",
    "    if E >= 16: \n",
    "        E-= 15\n",
    "    if S >=29 : \n",
    "        S-= 28\n",
    "    if M >= 20:\n",
    "        M -= 19\n",
    "\n",
    "print(cnt)\n",
    "        "
   ]
  },
  {
   "cell_type": "code",
   "execution_count": 138,
   "id": "ee517d4c",
   "metadata": {},
   "outputs": [
    {
     "name": "stdout",
     "output_type": "stream",
     "text": [
      "5457\n",
      "3\n",
      "6 7 8\n",
      "['6', '7', '8']\n",
      "2324\n"
     ]
    }
   ],
   "source": [
    "N = input()\n",
    "M = int(input())\n",
    "number = ['0','1','2','3','4','5','6','7','8','9']\n",
    "new_num = []\n",
    "if M != 0 :\n",
    "    L= list(input().split())\n",
    "print(L)\n",
    "for i in number:\n",
    "    for j in L:\n",
    "        if i != j:\n",
    "            new_num.append(i)\n",
    "number = list(set(new_num))\n",
    "S = ['1','0','0']\n",
    "if int(N)==98 or int(N)==102:\n",
    "    print(2)\n",
    "\n",
    "elif int(N)==99 or int(N)==101:\n",
    "    print(1)\n",
    "\n",
    "elif int(N)==100:\n",
    "    print(0)\n",
    "\n",
    "else:\n",
    "    if len(number) == 0:\n",
    "        print(abs(int(N)) - 100)\n",
    "    else:\n",
    "        b_s = []\n",
    "        for i in range(len(N)):\n",
    "            b_s.append(number[0])\n",
    "            r = abs(int(\"\".join(b_s)) - int(N[:i+1]))\n",
    "            for j in range(1,len(number)):\n",
    "                b_s.pop()\n",
    "                b_s.append(number[j])\n",
    "                if r > abs(int(\"\".join(b_s)) - int(N[:i+1])):\n",
    "                    continue\n",
    "                else:\n",
    "                    b_s.pop()\n",
    "                    b_s.append(number[j-1])\n",
    "        m = abs(int(N) - int(\"\".join(b_s)))\n",
    "        print(len(b_s)+m)\n",
    "\n",
    "                    \n",
    "                    \n",
    "                            \n",
    "                        \n",
    "                    \n",
    "            \n",
    "    "
   ]
  },
  {
   "cell_type": "code",
   "execution_count": 134,
   "id": "2af1b523",
   "metadata": {},
   "outputs": [
    {
     "name": "stdout",
     "output_type": "stream",
     "text": [
      "5457\n",
      "3\n",
      "6 7 8\n",
      "['6', '7', '8']\n",
      "['8', '5', '0', '1', '6', '9', '4', '2', '3', '7']\n"
     ]
    }
   ],
   "source": [
    "N = input()\n",
    "M = int(input())\n",
    "number = ['0','1','2','3','4','5','6','7','8','9']\n",
    "new_num = []\n",
    "if M != 0 :\n",
    "    L= list(input().split())\n",
    "print(L)\n",
    "for i in number:\n",
    "    for j in L:\n",
    "        if i != j:\n",
    "            new_num.append(i)\n",
    "number = list(set(new_num))\n",
    "print(number)"
   ]
  },
  {
   "cell_type": "code",
   "execution_count": 170,
   "id": "429c8a21",
   "metadata": {},
   "outputs": [
    {
     "name": "stdout",
     "output_type": "stream",
     "text": [
      "1\n",
      "10 12 10 12\n",
      "2 2 2\n",
      "3 3 3\n",
      "4 4 4\n",
      "5 5 5\n",
      "6 6 6\n",
      "7 7 7\n",
      "8 8 8\n",
      "9 9 9\n",
      "10 10 10\n",
      "1 11 11\n",
      "2 12 12\n",
      "3 1 13\n",
      "4 2 14\n",
      "5 3 15\n",
      "6 4 16\n",
      "7 5 17\n",
      "8 6 18\n",
      "9 7 19\n",
      "10 8 20\n",
      "1 9 21\n",
      "2 10 22\n",
      "3 11 23\n",
      "4 12 24\n",
      "5 1 25\n",
      "6 2 26\n",
      "7 3 27\n",
      "8 4 28\n",
      "9 5 29\n",
      "10 6 30\n",
      "1 7 31\n",
      "2 8 32\n",
      "3 9 33\n",
      "4 10 34\n",
      "5 11 35\n",
      "6 12 36\n",
      "7 1 37\n",
      "8 2 38\n",
      "9 3 39\n",
      "10 4 40\n",
      "1 5 41\n",
      "2 6 42\n",
      "3 7 43\n",
      "4 8 44\n",
      "5 9 45\n",
      "6 10 46\n",
      "7 11 47\n",
      "8 12 48\n",
      "9 1 49\n",
      "10 2 50\n",
      "1 3 51\n",
      "2 4 52\n",
      "3 5 53\n",
      "4 6 54\n",
      "5 7 55\n",
      "6 8 56\n",
      "7 9 57\n",
      "8 10 58\n",
      "9 11 59\n",
      "10 12 60\n",
      "60\n"
     ]
    }
   ],
   "source": [
    "#6064번 카잉 달력 처음시도 (시간초과 오답)\n",
    "def year(M,N,x,y):\n",
    "    x_0,y_0,k = 1,1,1\n",
    "    while x_0 <= M and y_0 <= N:\n",
    "        if x_0 == x and y_0 == y:\n",
    "            return k\n",
    "        if x_0 < M:\n",
    "            x_0 += 1\n",
    "        else:\n",
    "            x_0 = 1\n",
    "        if y_0 < N:\n",
    "            y_0 += 1\n",
    "        else:\n",
    "            y_0 = 1\n",
    "        k += 1\n",
    "        print(x_0,y_0,k)\n",
    "        if x_0 == M and y_0 == N:\n",
    "            break\n",
    "    if x == M and y == N:\n",
    "        return k\n",
    "    else:\n",
    "        return -1\n",
    "    \n",
    "N = int(input())\n",
    "for i in range(N):\n",
    "    M,N,x,y = map(int,input().split())\n",
    "    print(year(M,N,x,y))"
   ]
  },
  {
   "cell_type": "code",
   "execution_count": 258,
   "id": "af27ef30",
   "metadata": {},
   "outputs": [
    {
     "name": "stdout",
     "output_type": "stream",
     "text": [
      "3\n",
      "10 12 3 9\n",
      "33\n",
      "10 12 7 2\n",
      "-1\n",
      "13 11 5 6\n",
      "83\n"
     ]
    }
   ],
   "source": [
    "#6064번 카잉달력 답\n",
    "def num(M,N,x,y):\n",
    "    k = x\n",
    "    while k<= M*N:\n",
    "        if (k-y)%N == 0:\n",
    "            return k\n",
    "        k += M\n",
    "    return -1\n",
    "num(13,11,5,6)\n",
    "    \n",
    "N = int(input())\n",
    "for i in range(N):\n",
    "    M,N,x,y = map(int,input().split())\n",
    "    print(num(M,N,x,y))\n",
    "    \n",
    "            "
   ]
  },
  {
   "cell_type": "code",
   "execution_count": 257,
   "id": "a7379547",
   "metadata": {},
   "outputs": [
    {
     "name": "stdout",
     "output_type": "stream",
     "text": [
      "120\n",
      "252\n"
     ]
    }
   ],
   "source": [
    "#1748번 수 이어쓰기 1\n",
    "N = int(input())\n",
    "length = len(str(N))\n",
    "c = 0\n",
    "l = [0,9,90,900,9000,90000,900000,9000000,90000000,900000000]\n",
    "for i in range(0,length+1):\n",
    "    #마지막 자리\n",
    "    if i == (length):\n",
    "        F = int(10**(i-1))\n",
    "        c += (N-F+1)*(i)\n",
    "    else:\n",
    "        c += l[i]*i\n",
    "\n",
    "print(c)"
   ]
  },
  {
   "cell_type": "code",
   "execution_count": 46,
   "id": "b08cecd0",
   "metadata": {},
   "outputs": [
    {
     "name": "stdout",
     "output_type": "stream",
     "text": [
      "10\n",
      "1\n",
      "1\n",
      "2\n",
      "2\n",
      "3\n",
      "4\n",
      "4\n",
      "7\n",
      "5\n",
      "13\n",
      "6\n",
      "24\n",
      "7\n",
      "44\n",
      "8\n",
      "81\n",
      "9\n",
      "149\n",
      "10\n",
      "274\n"
     ]
    }
   ],
   "source": [
    "#9095번 1,2,3 더하기 (중복순열 풀이)\n",
    "from itertools import product\n",
    "T = int(input())\n",
    "for i in range(T):\n",
    "    N = int(input())\n",
    "    num =[1,2,3]\n",
    "    c = 1 #1의 덧셈으로 표현한 경우는 항상 있으므로 1로 시작\n",
    "    one = N // 1\n",
    "    for i in range(1, one):\n",
    "        for cwr in product(num,repeat = i):\n",
    "            if sum(cwr) == N:\n",
    "                c +=1\n",
    "    print(c)"
   ]
  },
  {
   "cell_type": "code",
   "execution_count": 44,
   "id": "aa8fde7b",
   "metadata": {},
   "outputs": [
    {
     "name": "stdout",
     "output_type": "stream",
     "text": [
      "10\n",
      "1\n",
      "1\n",
      "2\n",
      "2\n",
      "3\n",
      "4\n",
      "4\n",
      "7\n",
      "5\n",
      "13\n",
      "6\n",
      "24\n",
      "7\n",
      "44\n",
      "8\n",
      "81\n",
      "9\n",
      "149\n",
      "10\n",
      "274\n"
     ]
    }
   ],
   "source": [
    "#9095 1,2,3 더하기 (다른 사람의 풀이)\n",
    "def check(N):\n",
    "    if N == 1:\n",
    "        return 1\n",
    "    elif N == 2:\n",
    "        return 2\n",
    "    elif N == 3:\n",
    "        return 4\n",
    "    else:\n",
    "        return check(N-3)+check(N-2)+check(N-1)\n",
    "T = int(input())\n",
    "for i in range(T):\n",
    "    N = int(input())\n",
    "    print(check(N))"
   ]
  },
  {
   "cell_type": "code",
   "execution_count": 28,
   "id": "db3748fd",
   "metadata": {},
   "outputs": [
    {
     "name": "stdout",
     "output_type": "stream",
     "text": [
      "4 2\n",
      "1 2\n",
      "1 3\n",
      "1 4\n",
      "2 1\n",
      "2 3\n",
      "2 4\n",
      "3 1\n",
      "3 2\n",
      "3 4\n",
      "4 1\n",
      "4 2\n",
      "4 3\n"
     ]
    }
   ],
   "source": [
    "#15649번 N과 M(1)\n",
    "from itertools import permutations\n",
    "N,M = map(int,input().split())\n",
    "L = [i for i in range(1,N+1)]\n",
    "for i in permutations(L,M):\n",
    "    a = list(i)\n",
    "    print(*a)"
   ]
  },
  {
   "cell_type": "code",
   "execution_count": 30,
   "id": "f401dc3c",
   "metadata": {},
   "outputs": [
    {
     "name": "stdout",
     "output_type": "stream",
     "text": [
      "4 2\n",
      "1 2\n",
      "1 3\n",
      "1 4\n",
      "2 3\n",
      "2 4\n",
      "3 4\n"
     ]
    }
   ],
   "source": [
    "#15650번 N과 M(2)\n",
    "from itertools import combinations\n",
    "N,M = map(int,input().split())\n",
    "L = [i for i in range(1,N+1)]\n",
    "for i in combinations(L,M):\n",
    "    a = list(i)\n",
    "    print(*a)"
   ]
  },
  {
   "cell_type": "code",
   "execution_count": 35,
   "id": "755a80af",
   "metadata": {},
   "outputs": [
    {
     "name": "stdout",
     "output_type": "stream",
     "text": [
      "3 3\n",
      "1 1 1\n",
      "1 1 2\n",
      "1 1 3\n",
      "1 2 1\n",
      "1 2 2\n",
      "1 2 3\n",
      "1 3 1\n",
      "1 3 2\n",
      "1 3 3\n",
      "2 1 1\n",
      "2 1 2\n",
      "2 1 3\n",
      "2 2 1\n",
      "2 2 2\n",
      "2 2 3\n",
      "2 3 1\n",
      "2 3 2\n",
      "2 3 3\n",
      "3 1 1\n",
      "3 1 2\n",
      "3 1 3\n",
      "3 2 1\n",
      "3 2 2\n",
      "3 2 3\n",
      "3 3 1\n",
      "3 3 2\n",
      "3 3 3\n"
     ]
    }
   ],
   "source": [
    "#15651번 N과 M(3)\n",
    "from itertools import product\n",
    "N,M = map(int,input().split())\n",
    "L = [i for i in range(1,N+1)]\n",
    "for i in product(L,repeat = M):\n",
    "    a = list(i)\n",
    "    print(*a)"
   ]
  },
  {
   "cell_type": "code",
   "execution_count": null,
   "id": "f0d97ae5",
   "metadata": {},
   "outputs": [],
   "source": [
    "#15651번 N과 M(3)\n",
    "from itertools import product\n",
    "N,M = map(int,input().split())\n",
    "L = [i for i in range(1,N+1)]\n",
    "for i in product(L,repeat = M):\n",
    "    a = list(i)\n",
    "    print(*a)"
   ]
  },
  {
   "cell_type": "code",
   "execution_count": 3,
   "id": "5f72b908",
   "metadata": {},
   "outputs": [
    {
     "name": "stdout",
     "output_type": "stream",
     "text": [
      "4 2\n",
      "1 1\n",
      "1 2\n",
      "1 3\n",
      "1 4\n",
      "2 2\n",
      "2 3\n",
      "2 4\n",
      "3 3\n",
      "3 4\n",
      "4 4\n"
     ]
    }
   ],
   "source": [
    "# 8/16 15652번 N과 M(4)\n",
    "from itertools import combinations_with_replacement\n",
    "N,M = map(int,input().split())\n",
    "L = [i for i in range(1,N+1)]\n",
    "for i in combinations_with_replacement(L,M):\n",
    "    a = list(i)\n",
    "    print(*a)"
   ]
  },
  {
   "cell_type": "code",
   "execution_count": 12,
   "id": "8f821eea",
   "metadata": {},
   "outputs": [
    {
     "name": "stdout",
     "output_type": "stream",
     "text": [
      "4 2\n",
      "9 8 7 1\n",
      "1 7\n",
      "1 8\n",
      "1 9\n",
      "7 1\n",
      "7 8\n",
      "7 9\n",
      "8 1\n",
      "8 7\n",
      "8 9\n",
      "9 1\n",
      "9 7\n",
      "9 8\n"
     ]
    }
   ],
   "source": [
    "# 8/16 15654번 N과 M(5)\n",
    "from itertools import permutations\n",
    "N,M = map(int,input().split())\n",
    "L = list(map(int,input().split()))\n",
    "L.sort()\n",
    "for i in permutations(L,M):\n",
    "    a = list(i)\n",
    "    print(*a)"
   ]
  },
  {
   "cell_type": "code",
   "execution_count": 14,
   "id": "91f0aede",
   "metadata": {},
   "outputs": [
    {
     "name": "stdout",
     "output_type": "stream",
     "text": [
      "4 2\n",
      "9 8 7 1\n",
      "1 7\n",
      "1 8\n",
      "1 9\n",
      "7 8\n",
      "7 9\n",
      "8 9\n"
     ]
    }
   ],
   "source": [
    "# 8/16 15655번 N과 M(6)\n",
    "from itertools import combinations\n",
    "N,M = map(int,input().split())\n",
    "L = list(map(int,input().split()))\n",
    "L.sort()\n",
    "for i in combinations(L,M):\n",
    "    a = list(i)\n",
    "    print(*a)"
   ]
  },
  {
   "cell_type": "code",
   "execution_count": 17,
   "id": "554c8b48",
   "metadata": {},
   "outputs": [
    {
     "name": "stdout",
     "output_type": "stream",
     "text": [
      "4 2\n",
      "9 8 7 1\n",
      "1 1\n",
      "1 7\n",
      "1 8\n",
      "1 9\n",
      "7 1\n",
      "7 7\n",
      "7 8\n",
      "7 9\n",
      "8 1\n",
      "8 7\n",
      "8 8\n",
      "8 9\n",
      "9 1\n",
      "9 7\n",
      "9 8\n",
      "9 9\n"
     ]
    }
   ],
   "source": [
    "# 8/16 15656번 N과 M(7)\n",
    "from itertools import product\n",
    "N,M = map(int,input().split())\n",
    "L = list(map(int,input().split()))\n",
    "L.sort()\n",
    "for i in product(L,repeat =M):\n",
    "    a = list(i)\n",
    "    print(*a)"
   ]
  },
  {
   "cell_type": "code",
   "execution_count": 19,
   "id": "49722405",
   "metadata": {},
   "outputs": [
    {
     "name": "stdout",
     "output_type": "stream",
     "text": [
      "4 2\n",
      "9 8 7 1\n",
      "1 1\n",
      "1 7\n",
      "1 8\n",
      "1 9\n",
      "7 7\n",
      "7 8\n",
      "7 9\n",
      "8 8\n",
      "8 9\n",
      "9 9\n"
     ]
    }
   ],
   "source": [
    "# 8/16 15657번 N과 M(8)\n",
    "from itertools import combinations_with_replacement\n",
    "N,M = map(int,input().split())\n",
    "L = list(map(int,input().split()))\n",
    "L.sort()\n",
    "for i in combinations_with_replacement(L,M):\n",
    "    a = list(i)\n",
    "    a.sort()\n",
    "    print(*a)"
   ]
  },
  {
   "cell_type": "code",
   "execution_count": 36,
   "id": "a1b6e047",
   "metadata": {},
   "outputs": [
    {
     "name": "stdout",
     "output_type": "stream",
     "text": [
      "4 6\n",
      "a t c i s w\n",
      "acis\n",
      "acit\n",
      "aciw\n",
      "acst\n",
      "acsw\n",
      "actw\n",
      "aist\n",
      "aisw\n",
      "aitw\n",
      "astw\n",
      "cist\n",
      "cisw\n",
      "citw\n",
      "istw\n"
     ]
    }
   ],
   "source": [
    "# 8/16 1759번 암호 만들기\n",
    "from itertools import combinations\n",
    "L,C = map(int,input().split())\n",
    "A = list(map(str,input().split()))\n",
    "A.sort()\n",
    "new_a = []\n",
    "for i in combinations(A,L):\n",
    "    a = list(i)\n",
    "    a.sort()\n",
    "    new_a.append(\"\".join(a))\n",
    "new_a = list(set(new_a))\n",
    "new_a.sort()\n",
    "for i in new_a:\n",
    "    leng = L\n",
    "    if 'a' in i:\n",
    "        leng -= 1        \n",
    "    if 'e' in i:\n",
    "        leng -= 1\n",
    "    if 'i' in i:\n",
    "        leng -= 1    \n",
    "    if 'o' in i:\n",
    "        leng -= 1    \n",
    "    if 'u' in i:\n",
    "        leng -= 1    \n",
    "    if leng >=2 and leng <= (L-1):\n",
    "        print(i)"
   ]
  },
  {
   "cell_type": "code",
   "execution_count": 128,
   "id": "b891cf97",
   "metadata": {
    "scrolled": false
   },
   "outputs": [
    {
     "name": "stdout",
     "output_type": "stream",
     "text": [
      "2 2 2\n",
      "1 2\n",
      "3 4\n",
      "[(0, 0), (0, 1), (1, 0), (1, 1)]\n"
     ]
    }
   ],
   "source": [
    "# 8/17 18290번 NM과 K(1) (못품)\n",
    "from itertools import combinations\n",
    "from itertools import product\n",
    "N,M,K = map(int,input().split())\n",
    "O = []\n",
    "for i in range(N):\n",
    "    O.append(list(map(int,input().split())))\n",
    "I = list(product([x for x in range(N)],[y for y in range(M)]))\n",
    "print(I)"
   ]
  },
  {
   "cell_type": "code",
   "execution_count": 147,
   "id": "dbe0814a",
   "metadata": {},
   "outputs": [
    {
     "name": "stdout",
     "output_type": "stream",
     "text": [
      "7\n",
      "3 10\n",
      "5 20\n",
      "1 10\n",
      "2 15\n",
      "4 40\n",
      "2 200\n",
      "4 1\n",
      "225\n"
     ]
    }
   ],
   "source": [
    "# 8/17 14501 퇴사\n",
    "N = int(input())\n",
    "l = []\n",
    "for i in range(N):\n",
    "    day, pay = map(int,input().split())\n",
    "    a = [day, pay]\n",
    "    l.append(a)\n",
    "\n",
    "\n",
    "ans = [0]* (N+1)\n",
    "for i in range(N-1,-1,-1):\n",
    "    if l[i][0] + i > N:\n",
    "        ans[i] = ans[i+1]\n",
    "    else:\n",
    "        ans[i] = max(l[i][1] + ans[i+l[i][0]], ans[i+1])\n",
    "print(ans[0])"
   ]
  },
  {
   "cell_type": "code",
   "execution_count": 156,
   "id": "23f10193",
   "metadata": {},
   "outputs": [
    {
     "data": {
      "text/plain": [
       "'6210'"
      ]
     },
     "execution_count": 156,
     "metadata": {},
     "output_type": "execute_result"
    }
   ],
   "source": [
    "# 8/17 프로그래머스 가장 큰수\n",
    "def solution(numbers):\n",
    "    answer = ''\n",
    "    num = list(map(str,numbers))\n",
    "    n = []\n",
    "    for i in num:\n",
    "        if len(i) == 0:\n",
    "            a = [i,'0','0','0','0']\n",
    "        elif len(i) == 1:\n",
    "            a = [i,i,'0','0','0']\n",
    "        elif len(i) == 2:\n",
    "            a = [i,i[0],i[1],'0','0']\n",
    "        elif len(i) == 3:\n",
    "            a = [i[0],i[1],i[2],'0']\n",
    "        elif len(i) == 4:\n",
    "            a = [i,i[0],i[1],i[2],i[3]]\n",
    "        n.append(a)\n",
    "    n.sort(key = lambda x : (x[1],x[2],x[3],x[4]),reverse = True)\n",
    "    for i in n:\n",
    "        answer+=i[0]\n",
    "        \n",
    "    \n",
    "\n",
    "    return answer\n",
    "solution([6, 10, 2])"
   ]
  },
  {
   "cell_type": "code",
   "execution_count": 9,
   "id": "5e2ee1f9",
   "metadata": {},
   "outputs": [
    {
     "name": "stdout",
     "output_type": "stream",
     "text": [
      "3\n",
      "26 40 83\n",
      "49 60 57\n",
      "13 89 99\n",
      "96\n"
     ]
    }
   ],
   "source": [
    "# 8/18 1149 RGB 거리\n",
    "n = int(input())\n",
    "m = []\n",
    "for i in range(n):\n",
    "    m.append(list(map(int,input().split())))\n",
    "\n",
    "for i in range(1,n):\n",
    "    m[i][0] = min(m[i-1][1], m[i-1][2]) + m[i][0]\n",
    "    m[i][1] = min(m[i-1][0], m[i-1][2]) + m[i][1]\n",
    "    m[i][2] = min(m[i-1][0], m[i-1][1]) + m[i][2]\n",
    "\n",
    "print(min(m[n-1]))"
   ]
  },
  {
   "cell_type": "code",
   "execution_count": null,
   "id": "9578d643",
   "metadata": {},
   "outputs": [],
   "source": [
    "# 8/18 1309 동물원\n",
    "# n = 1 일 때 1=1                                 2=2 = 3\n",
    "# n = 2 일 때 1=1 4=n*2                        2=2 = 7\n",
    "# n = 3 일 때 1=1 6=n*2              8=2^n 2=2 = 17\n",
    "# n = 4 일 때 1=1 8=n*2    14=   16=2^n 2=2 = 41\n",
    "# n = 5 일 때 1=1 10=n*2   \n"
   ]
  },
  {
   "cell_type": "code",
   "execution_count": null,
   "id": "dada47ed",
   "metadata": {},
   "outputs": [],
   "source": [
    "# 8/18 1309 동물원\n",
    "#          0    왼   오\n",
    "# n=1    1   1*1   1*1\n",
    "# n=2    3    2     2\n",
    "# n=3    7   5      5\n",
    "# n=4    "
   ]
  },
  {
   "cell_type": "code",
   "execution_count": 14,
   "id": "23d467cb",
   "metadata": {},
   "outputs": [
    {
     "name": "stdout",
     "output_type": "stream",
     "text": [
      "[0]\n",
      "[1]\n",
      "[2]\n"
     ]
    },
    {
     "ename": "IndexError",
     "evalue": "list index out of range",
     "output_type": "error",
     "traceback": [
      "\u001b[1;31m---------------------------------------------------------------------------\u001b[0m",
      "\u001b[1;31mIndexError\u001b[0m                                Traceback (most recent call last)",
      "\u001b[1;32m<ipython-input-14-2c86eaed37f0>\u001b[0m in \u001b[0;36m<module>\u001b[1;34m\u001b[0m\n\u001b[0;32m     19\u001b[0m     \u001b[1;32mreturn\u001b[0m \u001b[0manswer\u001b[0m\u001b[1;33m\u001b[0m\u001b[1;33m\u001b[0m\u001b[0m\n\u001b[0;32m     20\u001b[0m \u001b[1;33m\u001b[0m\u001b[0m\n\u001b[1;32m---> 21\u001b[1;33m \u001b[0msolution\u001b[0m\u001b[1;33m(\u001b[0m\u001b[1;33m[\u001b[0m\u001b[1;36m2\u001b[0m\u001b[1;33m,\u001b[0m\u001b[1;36m1\u001b[0m\u001b[1;33m,\u001b[0m\u001b[1;36m3\u001b[0m\u001b[1;33m,\u001b[0m\u001b[1;36m2\u001b[0m\u001b[1;33m]\u001b[0m\u001b[1;33m,\u001b[0m\u001b[1;36m2\u001b[0m\u001b[1;33m)\u001b[0m\u001b[1;33m\u001b[0m\u001b[1;33m\u001b[0m\u001b[0m\n\u001b[0m",
      "\u001b[1;32m<ipython-input-14-2c86eaed37f0>\u001b[0m in \u001b[0;36msolution\u001b[1;34m(priorities, location)\u001b[0m\n\u001b[0;32m     10\u001b[0m             \u001b[0mprint\u001b[0m\u001b[1;33m(\u001b[0m\u001b[0mstack\u001b[0m\u001b[1;33m)\u001b[0m\u001b[1;33m\u001b[0m\u001b[1;33m\u001b[0m\u001b[0m\n\u001b[0;32m     11\u001b[0m         \u001b[1;32mfor\u001b[0m \u001b[0mj\u001b[0m\u001b[1;33m,\u001b[0m\u001b[0mp\u001b[0m \u001b[1;32min\u001b[0m \u001b[0menumerate\u001b[0m\u001b[1;33m(\u001b[0m\u001b[0mpriorities\u001b[0m\u001b[1;33m,\u001b[0m \u001b[0mstart\u001b[0m\u001b[1;33m=\u001b[0m\u001b[0mi\u001b[0m\u001b[1;33m)\u001b[0m\u001b[1;33m:\u001b[0m\u001b[1;33m\u001b[0m\u001b[1;33m\u001b[0m\u001b[0m\n\u001b[1;32m---> 12\u001b[1;33m             \u001b[1;32mif\u001b[0m \u001b[0mpriorities\u001b[0m\u001b[1;33m[\u001b[0m\u001b[0mstack\u001b[0m\u001b[1;33m[\u001b[0m\u001b[1;33m-\u001b[0m\u001b[1;36m1\u001b[0m\u001b[1;33m]\u001b[0m\u001b[1;33m]\u001b[0m \u001b[1;33m<\u001b[0m \u001b[0mp\u001b[0m\u001b[1;33m:\u001b[0m\u001b[1;33m\u001b[0m\u001b[1;33m\u001b[0m\u001b[0m\n\u001b[0m\u001b[0;32m     13\u001b[0m                 \u001b[0mb\u001b[0m\u001b[1;33m.\u001b[0m\u001b[0mappend\u001b[0m\u001b[1;33m(\u001b[0m\u001b[0mstack\u001b[0m\u001b[1;33m.\u001b[0m\u001b[0mpop\u001b[0m\u001b[1;33m(\u001b[0m\u001b[1;33m)\u001b[0m\u001b[1;33m)\u001b[0m\u001b[1;33m\u001b[0m\u001b[1;33m\u001b[0m\u001b[0m\n\u001b[0;32m     14\u001b[0m                 \u001b[1;32mbreak\u001b[0m\u001b[1;33m\u001b[0m\u001b[1;33m\u001b[0m\u001b[0m\n",
      "\u001b[1;31mIndexError\u001b[0m: list index out of range"
     ]
    }
   ],
   "source": [
    "def solution(priorities, location):\n",
    "    answer = 0\n",
    "    stack = []\n",
    "    f = []\n",
    "    b = []\n",
    "    i = 0\n",
    "    while i < len(priorities):\n",
    "        if len(stack) == 0:\n",
    "            stack.append(i)\n",
    "            print(stack)\n",
    "        for j,p in enumerate(priorities, start=i):\n",
    "            if priorities[stack[-1]] < p:\n",
    "                b.append(stack.pop())\n",
    "                break\n",
    "            elif j == (len(priorities)-1) and priorities[stack[-1]] >= p:\n",
    "                f.append(stack.pop())\n",
    "        i += 1\n",
    "        \n",
    "    return answer\n",
    "\n",
    "solution([2,1,3,2],2)"
   ]
  },
  {
   "cell_type": "code",
   "execution_count": 83,
   "id": "bbf5cb69",
   "metadata": {},
   "outputs": [
    {
     "name": "stdout",
     "output_type": "stream",
     "text": [
      "3\n",
      "220\n"
     ]
    }
   ],
   "source": [
    "# 8/18 11057 오르막수\n",
    "n = int(input())\n",
    "num = [1]*10\n",
    "for i in range(n-1):\n",
    "    for j in range(1,10):\n",
    "        num[j] += num[j-1]\n",
    "\n",
    "print(sum(num)%10007)\n"
   ]
  },
  {
   "cell_type": "code",
   "execution_count": 77,
   "id": "0a3c4e6a",
   "metadata": {},
   "outputs": [
    {
     "data": {
      "text/plain": [
       "220"
      ]
     },
     "execution_count": 77,
     "metadata": {},
     "output_type": "execute_result"
    }
   ],
   "source": [
    "1+3+6+10+15+21+28+36+45+55"
   ]
  },
  {
   "cell_type": "code",
   "execution_count": 91,
   "id": "f4281509",
   "metadata": {},
   "outputs": [
    {
     "name": "stdout",
     "output_type": "stream",
     "text": [
      "1\n",
      "5\n",
      "50 10 100 20 40\n",
      "30 50 70 10 60\n",
      "260\n"
     ]
    }
   ],
   "source": [
    "# 8/19 9465 스티커\n",
    "n = int(input())\n",
    "for i in range(n):\n",
    "    c = int(input())\n",
    "    k = 0\n",
    "    s = []\n",
    "    s.append(list(map(int,input().split())))\n",
    "    s.append(list(map(int,input().split())))\n",
    "    ans = 0\n",
    "    for j in range(1,c):\n",
    "        if j == 1:\n",
    "            s[0][j] += s[1][j-1]\n",
    "            s[1][j] += s[0][j-1]\n",
    "        else:\n",
    "            s[0][j] += max(s[1][j-1],s[1][j-2])\n",
    "            s[1][j] += max(s[0][j-1],s[0][j-2])\n",
    "    print(max(s[0][c-1],s[1][c-1]))\n",
    "        "
   ]
  },
  {
   "cell_type": "code",
   "execution_count": 109,
   "id": "ff5ef978",
   "metadata": {},
   "outputs": [
    {
     "name": "stdout",
     "output_type": "stream",
     "text": [
      "6\n",
      "6\n",
      "10\n",
      "13\n",
      "9\n",
      "8\n",
      "1\n",
      "[6, 10, 13, 9, 8, 1]\n",
      "16 13 19\n",
      "23 15 25\n",
      "28 24 31\n",
      "33 24 29\n",
      "33\n"
     ]
    }
   ],
   "source": [
    "# 8/19 2156 포도주시식\n",
    "n = int(input())\n",
    "g = []\n",
    "for i in range(n):\n",
    "    g.append(int(input()))\n",
    "dp = [0 for i in range(n)]\n",
    "#print(g)\n",
    "for i in range(1,n):\n",
    "    if i == 1:\n",
    "        dp[i-1] = g[0]\n",
    "        dp[i] = g[0]+g[1]\n",
    "    else:\n",
    "        #print(dp[i-1],dp[i-3]+g[i], dp[i-2]+g[i])\n",
    "        dp[i] =max(dp[i-1],dp[i-3]+g[i]+g[i-1], dp[i-2]+g[i])\n",
    "\n",
    "print(dp[n-1])\n",
    "        \n",
    "    "
   ]
  },
  {
   "cell_type": "code",
   "execution_count": 133,
   "id": "d60f2e99",
   "metadata": {},
   "outputs": [
    {
     "name": "stdout",
     "output_type": "stream",
     "text": [
      "10\n",
      "3\n"
     ]
    }
   ],
   "source": [
    "#8/19 1463 1로만들기(고민 마니함)\n",
    "n = int(input())\n",
    "c=0\n",
    "d = [0]*1000001\n",
    "d[1] = 0\n",
    "d[2] = 1\n",
    "d[3] = 1\n",
    "for i in range(4, n+1):\n",
    "    d[i]= d[i-1]+1\n",
    "    if i % 2 == 0:\n",
    "        d[i] = min(d[i],d[i//2]+1)\n",
    "    if i % 3 == 0:\n",
    "        d[i] = min(d[i],d[i//3]+1)\n",
    "    \n",
    "print(d[n])"
   ]
  },
  {
   "cell_type": "code",
   "execution_count": 181,
   "id": "5358fa06",
   "metadata": {},
   "outputs": [
    {
     "name": "stdout",
     "output_type": "stream",
     "text": [
      "314\n",
      "11001100\n"
     ]
    }
   ],
   "source": [
    "# 8/19 1212번 8진수 2진수\n",
    "n = str(input())\n",
    "m = int(n,8) #8진수를 10진수로\n",
    "print(bin(m)[2:])"
   ]
  },
  {
   "cell_type": "code",
   "execution_count": 194,
   "id": "7fda53b7",
   "metadata": {},
   "outputs": [
    {
     "name": "stdout",
     "output_type": "stream",
     "text": [
      "1100\n",
      "14\n"
     ]
    }
   ],
   "source": [
    "# 8/19 1373번 2진수 8진수\n",
    "n = str(input())\n",
    "m = int(n,2) #2진수를 10진수로\n",
    "print(oct(m)[2:])"
   ]
  },
  {
   "cell_type": "code",
   "execution_count": 213,
   "id": "3342ffef",
   "metadata": {},
   "outputs": [
    {
     "name": "stdout",
     "output_type": "stream",
     "text": [
      "7\n",
      "13\n"
     ]
    }
   ],
   "source": [
    "# 8/19 2193번 이친수\n",
    "# 1 - 1\n",
    "# 2 - 10\n",
    "# 3 - 100 101\n",
    "# 4 - 1000 1001 1010\n",
    "# 5 - 10000 10001 10010 10100 10101\n",
    "# 6 - 100000 100001 100010 100100 100101 101000 101001 101010\n",
    "# 7 - 1000001 1000001 1000010 1000100 1000101 1001000 1001001 1001010 1010000 1010001 1010100 1010101\n",
    "N = int(input())\n",
    "l = []\n",
    "l.append(0)\n",
    "l.append(1)\n",
    "for i in range(2,N+1):\n",
    "    l.append(l[i-1]+l[i-2])\n",
    "print(l[N])\n",
    "    "
   ]
  },
  {
   "cell_type": "code",
   "execution_count": 216,
   "id": "88524f27",
   "metadata": {},
   "outputs": [
    {
     "name": "stdout",
     "output_type": "stream",
     "text": [
      "5\n",
      "3\n"
     ]
    }
   ],
   "source": [
    "#8/19 1463 1로만들기\n",
    "n = int(input())\n",
    "c=0\n",
    "d = [0]*1000001\n",
    "d[1] = 0\n",
    "d[2] = 1\n",
    "d[3] = 1\n",
    "for i in range(4, n+1):\n",
    "    d[i]= d[i-1]+1\n",
    "    if i % 2 == 0:\n",
    "        d[i] = min(d[i],d[i//2]+1)\n",
    "    if i % 3 == 0:\n",
    "        d[i] = min(d[i],d[i//3]+1)\n",
    "    \n",
    "print(d[n])"
   ]
  },
  {
   "cell_type": "code",
   "execution_count": null,
   "id": "0c36fa2b",
   "metadata": {},
   "outputs": [],
   "source": []
  }
 ],
 "metadata": {
  "kernelspec": {
   "display_name": "Python 3",
   "language": "python",
   "name": "python3"
  },
  "language_info": {
   "codemirror_mode": {
    "name": "ipython",
    "version": 3
   },
   "file_extension": ".py",
   "mimetype": "text/x-python",
   "name": "python",
   "nbconvert_exporter": "python",
   "pygments_lexer": "ipython3",
   "version": "3.7.10"
  }
 },
 "nbformat": 4,
 "nbformat_minor": 5
}
