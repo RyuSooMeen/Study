{
 "cells": [
  {
   "cell_type": "code",
   "execution_count": 2,
   "id": "c823f5c3",
   "metadata": {},
   "outputs": [
    {
     "data": {
      "text/plain": [
       "432"
      ]
     },
     "execution_count": 2,
     "metadata": {},
     "output_type": "execute_result"
    }
   ],
   "source": [
    "int(str(3212),5)"
   ]
  },
  {
   "cell_type": "code",
   "execution_count": 4,
   "id": "ef9befbc",
   "metadata": {},
   "outputs": [
    {
     "data": {
      "text/plain": [
       "432"
      ]
     },
     "execution_count": 4,
     "metadata": {},
     "output_type": "execute_result"
    }
   ],
   "source": [
    "num = '3212'  #5진법 숫자\n",
    "base = 5                \n",
    "answer = int(num,base)\n",
    "answer"
   ]
  },
  {
   "cell_type": "code",
   "execution_count": 9,
   "id": "709f589c",
   "metadata": {},
   "outputs": [
    {
     "data": {
      "text/plain": [
       "'abcdefghijklmnopqrstuvwxyz'"
      ]
     },
     "execution_count": 9,
     "metadata": {},
     "output_type": "execute_result"
    }
   ],
   "source": [
    "import string \n",
    "\n",
    "string.ascii_lowercase # 소문자 abcdefghijklmnopqrstuvwxyz\n",
    "string.ascii_uppercase # 대문자 ABCDEFGHIJKLMNOPQRSTUVWXYZ\n",
    "string.ascii_letters # 대소문자 모두 abcdefghijklmnopqrstuvwxyzABCDEFGHIJKLMNOPQRSTUVWXYZ\n",
    "string.digits # 숫자 0123456789\n",
    "\n",
    "s = \"a\"\n",
    "string.ascii_lowercase"
   ]
  },
  {
   "cell_type": "code",
   "execution_count": 11,
   "id": "fd896ca6",
   "metadata": {},
   "outputs": [
    {
     "name": "stdout",
     "output_type": "stream",
     "text": [
      "[3, 2, 5, 1]\n",
      "[1, 2, 3, 5]\n"
     ]
    }
   ],
   "source": [
    "list1 = [3, 2, 5, 1]\n",
    "list2 = sorted(list1)\n",
    "print(list1)\n",
    "print(list2)"
   ]
  },
  {
   "cell_type": "code",
   "execution_count": 1,
   "id": "76d0f3e7",
   "metadata": {},
   "outputs": [
    {
     "name": "stdout",
     "output_type": "stream",
     "text": [
      "[[1, 4, 7], [2, 5, 8], [3, 6, 9]]\n"
     ]
    }
   ],
   "source": [
    "mylist = [[1, 2, 3], [4, 5, 6], [7, 8, 9]]\n",
    "new_list = list(map(list, zip(*mylist)))\n",
    "print(new_list) #"
   ]
  },
  {
   "cell_type": "code",
   "execution_count": 3,
   "id": "e8f284fc",
   "metadata": {},
   "outputs": [
    {
     "name": "stdout",
     "output_type": "stream",
     "text": [
      "[35, 35, 9, 67, 60]\n"
     ]
    }
   ],
   "source": [
    "def solution(mylist):\n",
    "    answer = []\n",
    "    for i in range(len(mylist)-1):\n",
    "        answer.append(abs(mylist[i] - mylist[i+1]))\n",
    "    return answer\n",
    "\n",
    "if __name__ == '__main__':\n",
    "    mylist = [83, 48, 13, 4, 71, 11]    \n",
    "    print(solution(mylist))"
   ]
  },
  {
   "cell_type": "code",
   "execution_count": 6,
   "id": "21a85d60",
   "metadata": {},
   "outputs": [
    {
     "name": "stdout",
     "output_type": "stream",
     "text": [
      "[35, 35, 9, 67, 60]\n"
     ]
    }
   ],
   "source": [
    "def solution(mylist):\n",
    "    answer = []\n",
    "    for number1, number2 in zip(mylist, mylist[1:]):\n",
    "        answer.append(abs(number1 - number2))\n",
    "    return answer\n",
    "\n",
    "if __name__ == '__main__':\n",
    "    mylist = [83, 48, 13, 4, 71, 11]    \n",
    "    print(solution(mylist))"
   ]
  },
  {
   "cell_type": "code",
   "execution_count": 9,
   "id": "3739e5aa",
   "metadata": {},
   "outputs": [
    {
     "name": "stdout",
     "output_type": "stream",
     "text": [
      "[1, 100, 33]\n"
     ]
    }
   ],
   "source": [
    "list1 = ['1', '100', '33']\n",
    "list2 = list(map(int, list1))\n",
    "print(list2)"
   ]
  },
  {
   "cell_type": "code",
   "execution_count": 15,
   "id": "63984494",
   "metadata": {},
   "outputs": [
    {
     "name": "stdout",
     "output_type": "stream",
     "text": [
      "[2, 2, 1]\n"
     ]
    }
   ],
   "source": [
    "def solution(mylist):\n",
    "    answer = list(map(len,mylist))\n",
    "    return answer\n",
    "\n",
    "mylist = [[1, 2], [3, 4], [5]]\n",
    "print(solution(mylist)) # [2,2,1]"
   ]
  },
  {
   "cell_type": "code",
   "execution_count": 16,
   "id": "689e19c8",
   "metadata": {},
   "outputs": [
    {
     "data": {
      "text/plain": [
       "'110033'"
      ]
     },
     "execution_count": 16,
     "metadata": {},
     "output_type": "execute_result"
    }
   ],
   "source": [
    "my_list = ['1', '100', '33']\n",
    "answer = ''.join(my_list)\n",
    "answer"
   ]
  },
  {
   "cell_type": "code",
   "execution_count": 21,
   "id": "d60e9581",
   "metadata": {},
   "outputs": [
    {
     "data": {
      "text/plain": [
       "'3562'"
      ]
     },
     "execution_count": 21,
     "metadata": {},
     "output_type": "execute_result"
    }
   ],
   "source": [
    "my_number = (3, 56, 2)\n",
    "my_number = list(map(str,my_number))\n",
    "answer = \"\".join(my_number)\n",
    "answer"
   ]
  },
  {
   "cell_type": "code",
   "execution_count": 23,
   "id": "9bcef26b",
   "metadata": {},
   "outputs": [
    {
     "data": {
      "text/plain": [
       "'abcabcabcabc'"
      ]
     },
     "execution_count": 23,
     "metadata": {},
     "output_type": "execute_result"
    }
   ],
   "source": [
    "n = 4\n",
    "answer = 'abc' * n\n",
    "answer"
   ]
  },
  {
   "cell_type": "code",
   "execution_count": 25,
   "id": "4e866890",
   "metadata": {},
   "outputs": [
    {
     "data": {
      "text/plain": [
       "'abcabcabcabc'"
      ]
     },
     "execution_count": 25,
     "metadata": {},
     "output_type": "execute_result"
    }
   ],
   "source": [
    "answer = ''\n",
    "n = 4\n",
    "for _ in range(n):\n",
    "    answer += 'abc'\n",
    "answer"
   ]
  },
  {
   "cell_type": "code",
   "execution_count": 28,
   "id": "9ad6cfc6",
   "metadata": {},
   "outputs": [
    {
     "data": {
      "text/plain": [
       "[123, 456, 123, 456, 123, 456]"
      ]
     },
     "execution_count": 28,
     "metadata": {},
     "output_type": "execute_result"
    }
   ],
   "source": [
    "n = 3\n",
    "answer= [123, 456] * n\n",
    "answer"
   ]
  },
  {
   "cell_type": "code",
   "execution_count": 29,
   "id": "ff201384",
   "metadata": {},
   "outputs": [
    {
     "name": "stdout",
     "output_type": "stream",
     "text": [
      "[('A', 'x', '1'), ('A', 'x', '2'), ('A', 'x', '3'), ('A', 'x', '4'), ('A', 'y', '1'), ('A', 'y', '2'), ('A', 'y', '3'), ('A', 'y', '4'), ('B', 'x', '1'), ('B', 'x', '2'), ('B', 'x', '3'), ('B', 'x', '4'), ('B', 'y', '1'), ('B', 'y', '2'), ('B', 'y', '3'), ('B', 'y', '4'), ('C', 'x', '1'), ('C', 'x', '2'), ('C', 'x', '3'), ('C', 'x', '4'), ('C', 'y', '1'), ('C', 'y', '2'), ('C', 'y', '3'), ('C', 'y', '4'), ('D', 'x', '1'), ('D', 'x', '2'), ('D', 'x', '3'), ('D', 'x', '4'), ('D', 'y', '1'), ('D', 'y', '2'), ('D', 'y', '3'), ('D', 'y', '4')]\n"
     ]
    }
   ],
   "source": [
    "import itertools\n",
    "\n",
    "iterable1 = 'ABCD'\n",
    "iterable2 = 'xy'\n",
    "iterable3 = '1234'\n",
    "print(list(itertools.product(iterable1, iterable2, iterable3)))"
   ]
  },
  {
   "cell_type": "code",
   "execution_count": 33,
   "id": "1f33840d",
   "metadata": {},
   "outputs": [
    {
     "name": "stdout",
     "output_type": "stream",
     "text": [
      "[1, 2, 3, 4, 5, 6, 7]\n",
      "[1, 2, 3, 4, 5, 6, 7]\n",
      "[1, 2, 3, 4, 5, 6, 7]\n",
      "[1, 2, 3, 4, 5, 6, 7]\n",
      "[1, 2, 3, 4, 5, 6, 7]\n",
      "[1, 2, 3, 4, 5, 6, 7]\n"
     ]
    }
   ],
   "source": [
    "my_list = [[1, 2], [3, 4, 5], [6, 7]]\n",
    "\n",
    "# 방법 1 - sum 함수\n",
    "answer = sum(my_list, [])\n",
    "print(answer)\n",
    "\n",
    "# 방법 2 - itertools.chain\n",
    "import itertools\n",
    "print(list(itertools.chain.from_iterable(my_list)))\n",
    "\n",
    "# 방법 3 - itertools와 unpacking\n",
    "import itertools\n",
    "print(list(itertools.chain(*my_list)))\n",
    "\n",
    "# 방법 4 - list comprehension 이용\n",
    "print([element for array in my_list for element in array])\n",
    "\n",
    "# 방법 5 - reduce 함수 이용 1\n",
    "from functools import reduce\n",
    "print(list(reduce(lambda x, y: x+y, my_list)))\n",
    "\n",
    "# 방법 6 - reduce 함수 이용 2\n",
    "from functools import reduce\n",
    "import operator\n",
    "print(list(reduce(operator.add, my_list)))"
   ]
  },
  {
   "cell_type": "code",
   "execution_count": 34,
   "id": "b50780c7",
   "metadata": {},
   "outputs": [
    {
     "name": "stdout",
     "output_type": "stream",
     "text": [
      "['ABC', 'ACB', 'BAC', 'BCA', 'CAB', 'CBA']\n",
      "['AB', 'AC', 'BA', 'BC', 'CA', 'CB']\n"
     ]
    }
   ],
   "source": [
    "import itertools\n",
    "\n",
    "pool = ['A', 'B', 'C']\n",
    "print(list(map(''.join, itertools.permutations(pool)))) # 3개의 원소로 수열 만들기\n",
    "print(list(map(''.join, itertools.permutations(pool, 2)))) # 2개의 원소로 수열 만들기"
   ]
  },
  {
   "cell_type": "code",
   "execution_count": 41,
   "id": "7dfdc7f4",
   "metadata": {},
   "outputs": [
    {
     "name": "stdout",
     "output_type": "stream",
     "text": [
      "Counter({1: 4, 2: 3, 3: 3, 7: 3, 4: 2, 5: 2, 6: 2, 8: 2, 9: 2, 0: 2})\n",
      "2\n",
      "3\n",
      "0\n"
     ]
    }
   ],
   "source": [
    "import collections\n",
    "my_list = [1, 2, 3, 4, 5, 6, 7, 8, 7, 9, 1, 2, 3, 3, 5, 2, 6, 8, 9, 0, 1, 1, 4, 7, 0]\n",
    "answer = collections.Counter(my_list)\n",
    "\n",
    "print(answer)\n",
    "print(answer[9])\n",
    "print(answer[3])\n",
    "print(answer[100])"
   ]
  },
  {
   "cell_type": "code",
   "execution_count": 10,
   "id": "ee33cc9b",
   "metadata": {},
   "outputs": [
    {
     "data": {
      "text/plain": [
       "[3, 5]"
      ]
     },
     "execution_count": 10,
     "metadata": {},
     "output_type": "execute_result"
    }
   ],
   "source": [
    "res = [1,3,5]\n",
    "res.remove(1)\n",
    "res\n"
   ]
  },
  {
   "cell_type": "code",
   "execution_count": 12,
   "id": "18af9d82",
   "metadata": {},
   "outputs": [
    {
     "data": {
      "text/plain": [
       "{1, 3, 5}"
      ]
     },
     "execution_count": 12,
     "metadata": {},
     "output_type": "execute_result"
    }
   ],
   "source": [
    "n = 5\n",
    "lost =[2,4]\n",
    "reserve = [1,3,5]\n",
    "\n",
    "def solution(n, lost, reserve):\n",
    "    los = set(lost)- set(reserve)\n",
    "    res = set(reserve) - set(lost)\n",
    "    for res_p in res:\n",
    "        if res_p-1 in los:\n",
    "            los.remove(res_p-1)\n",
    "        elif res_p+1 in los:\n",
    "            los.remove(res_p+1)\n",
    "     \n",
    "    return n - len(los)\n",
    "\n",
    "los = set(lost)- set(reserve)\n",
    "res = set(reserve) - set(lost)\n",
    "res"
   ]
  },
  {
   "cell_type": "code",
   "execution_count": 3,
   "id": "7bd68a96",
   "metadata": {},
   "outputs": [
    {
     "data": {
      "text/plain": [
       "[6, 5, 4, 3, 2, 1]"
      ]
     },
     "execution_count": 3,
     "metadata": {},
     "output_type": "execute_result"
    }
   ],
   "source": [
    "list(range(6,0,-1))"
   ]
  },
  {
   "cell_type": "code",
   "execution_count": 6,
   "id": "ceca29ef",
   "metadata": {},
   "outputs": [
    {
     "name": "stdout",
     "output_type": "stream",
     "text": [
      "5\n",
      "*\n",
      "**\n",
      "***\n",
      "****\n",
      "*****\n"
     ]
    }
   ],
   "source": [
    "T = int(input())\n",
    "for i in range(1,T+1):\n",
    "    a = \"*\"*i\n",
    "    a.rjust(T)\n",
    "    print(a)"
   ]
  },
  {
   "cell_type": "code",
   "execution_count": 13,
   "id": "0dd6f7cd",
   "metadata": {},
   "outputs": [
    {
     "name": "stdout",
     "output_type": "stream",
     "text": [
      "        *\n"
     ]
    }
   ],
   "source": [
    "T =7\n",
    "a = \"*\"*1\n",
    "a = a.rjust(9)\n",
    "print(a)"
   ]
  },
  {
   "cell_type": "code",
   "execution_count": 36,
   "id": "00bc23ea",
   "metadata": {},
   "outputs": [
    {
     "name": "stdout",
     "output_type": "stream",
     "text": [
      "10 5\n",
      "1 10 4 9 2 3 8 5 7 6\n",
      "1 4 2 3\n"
     ]
    }
   ],
   "source": [
    "N, X = map(int, input().split())\n",
    "A = list(map(int, list(input().split(\" \"))))\n",
    "s = []\n",
    "for i in range(N):\n",
    "    if A[i] < X:\n",
    "        s.append(A[i])\n",
    "s = list(map(str,s))\n",
    "print(\" \".join(s))       "
   ]
  },
  {
   "cell_type": "code",
   "execution_count": 43,
   "id": "44c02c74",
   "metadata": {},
   "outputs": [
    {
     "name": "stdout",
     "output_type": "stream",
     "text": [
      "1 1\n",
      "2\n",
      "2 3\n",
      "5\n",
      "3 4\n",
      "7\n",
      "9 8\n",
      "17\n",
      "0 0\n"
     ]
    }
   ],
   "source": [
    "while(1):\n",
    "    a, b = map(int, input().split())\n",
    "    if a == 0 and b == 0:\n",
    "        break\n",
    "    print(a+b)\n"
   ]
  },
  {
   "cell_type": "code",
   "execution_count": 54,
   "id": "fc498645",
   "metadata": {},
   "outputs": [
    {
     "name": "stdout",
     "output_type": "stream",
     "text": [
      "26\n",
      "68\n",
      "84\n",
      "42\n",
      "26\n",
      "4\n"
     ]
    }
   ],
   "source": [
    "N = int(input())\n",
    "n = N\n",
    "i = 0\n",
    "while(1):\n",
    "    n = (n%10)*10 + (n//10+n%10)%10\n",
    "    i += 1\n",
    "    if n == N:\n",
    "        break\n",
    "\n",
    "print(i)"
   ]
  },
  {
   "cell_type": "code",
   "execution_count": 60,
   "id": "cc8a9918",
   "metadata": {},
   "outputs": [
    {
     "name": "stdout",
     "output_type": "stream",
     "text": [
      "5\n",
      "20 10 35 30 7\n",
      "7 35\n"
     ]
    }
   ],
   "source": [
    "N = int(input())\n",
    "n = list(map(int,input().split(\" \")))\n",
    "print(min(n), max(n))"
   ]
  },
  {
   "cell_type": "code",
   "execution_count": 61,
   "id": "550a9e0a",
   "metadata": {},
   "outputs": [
    {
     "name": "stdout",
     "output_type": "stream",
     "text": [
      "3\n",
      "29\n",
      "38\n",
      "12\n",
      "57\n",
      "74\n",
      "40\n",
      "85\n",
      "61\n",
      "85\n",
      "8\n"
     ]
    }
   ],
   "source": [
    "a = []\n",
    "for i in range(9):\n",
    "    a.append(int(input()))\n",
    "print(max(a))\n",
    "print(a.index(max(a))+1)\n",
    "    "
   ]
  },
  {
   "cell_type": "code",
   "execution_count": 79,
   "id": "5e9193f9",
   "metadata": {},
   "outputs": [
    {
     "name": "stdout",
     "output_type": "stream",
     "text": [
      "150\n",
      "266\n",
      "427\n",
      "3\n",
      "1\n",
      "0\n",
      "2\n",
      "0\n",
      "0\n",
      "0\n",
      "2\n",
      "0\n",
      "0\n"
     ]
    }
   ],
   "source": [
    "import collections\n",
    "a = int(input())\n",
    "b = int(input())\n",
    "c = int(input())\n",
    "abc = str(a*b*c)\n",
    "ABC = []\n",
    "for i in range(len(abc)):\n",
    "    ABC.append(abc[i])\n",
    "for i in range(9+1):\n",
    "    print(ABC.count(str(i)))"
   ]
  },
  {
   "cell_type": "code",
   "execution_count": 80,
   "id": "08468464",
   "metadata": {
    "scrolled": true
   },
   "outputs": [
    {
     "name": "stdout",
     "output_type": "stream",
     "text": [
      "1\n",
      "2\n",
      "3\n",
      "4\n",
      "5\n",
      "6\n",
      "7\n",
      "8\n",
      "9\n",
      "10\n",
      "10\n"
     ]
    }
   ],
   "source": [
    "r =[]\n",
    "for i in range(10):\n",
    "    n = int(input())\n",
    "    r.append(n%42)\n",
    "print(len(list(set(r))))"
   ]
  },
  {
   "cell_type": "code",
   "execution_count": 96,
   "id": "3641b860",
   "metadata": {},
   "outputs": [
    {
     "name": "stdout",
     "output_type": "stream",
     "text": [
      "4\n",
      "1 100 100 100\n",
      "75.25\n"
     ]
    }
   ],
   "source": [
    "N = int(input())\n",
    "score = list(map(int,input().split()))\n",
    "m = max(score)\n",
    "for i in range(N):\n",
    "    score[i] = score[i]/m*100\n",
    "print(sum(score)/N)"
   ]
  },
  {
   "cell_type": "code",
   "execution_count": 120,
   "id": "0071dd25",
   "metadata": {
    "scrolled": true
   },
   "outputs": [
    {
     "name": "stdout",
     "output_type": "stream",
     "text": [
      "1\n",
      "OOXXOXXOOO\n",
      "10\n"
     ]
    }
   ],
   "source": [
    "N = int(input())\n",
    "for i in range(N):\n",
    "    answer = input()\n",
    "    score = [0 for i in range(len(answer))]\n",
    "    for j in range(len(answer)):\n",
    "        if answer[j] == \"X\":\n",
    "            score.append(0)\n",
    "        elif answer[j] == \"O\":\n",
    "            if j == 0:\n",
    "                score[j] = 1\n",
    "            else:\n",
    "                score[j] = score[j-1] +1\n",
    "    \n",
    "    print(sum(score))\n",
    "                \n"
   ]
  },
  {
   "cell_type": "code",
   "execution_count": 142,
   "id": "83cf3fad",
   "metadata": {},
   "outputs": [
    {
     "name": "stdout",
     "output_type": "stream",
     "text": [
      "1\n",
      "5 50 50 70 80 100\n",
      "40.000%\n"
     ]
    }
   ],
   "source": [
    "N = int(input())\n",
    "for i in range(N):\n",
    "    score = list(map(int,input().split()))\n",
    "    avg = sum(score[1:])/score[0]\n",
    "    c = 0\n",
    "    for i in range(1, score[0]+1):\n",
    "        if score[i] > avg:\n",
    "            c+= 1\n",
    "            \n",
    "    p = c/score[0]*100\n",
    "    print(\"{:.3f}%\".format(p))\n",
    "        \n",
    "            \n"
   ]
  },
  {
   "cell_type": "code",
   "execution_count": 131,
   "id": "79402f5c",
   "metadata": {},
   "outputs": [
    {
     "data": {
      "text/plain": [
       "70.0"
      ]
     },
     "execution_count": 131,
     "metadata": {},
     "output_type": "execute_result"
    }
   ],
   "source": [
    "sum(list_[1:])/list_[0]"
   ]
  },
  {
   "cell_type": "code",
   "execution_count": 192,
   "id": "8d49fb6e",
   "metadata": {},
   "outputs": [
    {
     "name": "stdout",
     "output_type": "stream",
     "text": [
      "112\n",
      "100\n"
     ]
    }
   ],
   "source": [
    "N = int(input())\n",
    "if N < 100:\n",
    "    print(N)\n",
    "else:\n",
    "    h = 99\n",
    "    for i in range(100,N+1):\n",
    "        if i == 1000:\n",
    "            break\n",
    "        elif 100 <= i <= 999:\n",
    "            a = i//100\n",
    "            b = i//10%10\n",
    "            c = i%10\n",
    "            if (a-b) == (b-c):\n",
    "                h += 1\n",
    "            else:\n",
    "                continue\n",
    "    print(h)"
   ]
  },
  {
   "cell_type": "code",
   "execution_count": 201,
   "id": "67ae2fcf",
   "metadata": {},
   "outputs": [
    {
     "name": "stdout",
     "output_type": "stream",
     "text": [
      "11\n",
      "10987654321\n"
     ]
    },
    {
     "data": {
      "text/plain": [
       "46"
      ]
     },
     "execution_count": 201,
     "metadata": {},
     "output_type": "execute_result"
    }
   ],
   "source": [
    "N = int(input())\n",
    "list_ = input()\n",
    "num = [0 for i in range(N)]\n",
    "for i in range(N):\n",
    "    num[i] = int(list_[i])\n",
    "sum(num)"
   ]
  },
  {
   "cell_type": "code",
   "execution_count": 215,
   "id": "bd5c30ad",
   "metadata": {},
   "outputs": [
    {
     "name": "stdout",
     "output_type": "stream",
     "text": [
      "baekjoon\n",
      "1 0 -1 -1 2 -1 -1 -1 -1 4 3 -1 -1 7 5 -1 -1 -1 -1 -1 -1 -1 -1 -1 -1 -1 "
     ]
    }
   ],
   "source": [
    "import string\n",
    "S = input()\n",
    "abc = list(string.ascii_lowercase)\n",
    "for i in range(len(abc)):\n",
    "    if abc[i] in S:\n",
    "        print(S.index(abc[i]),end=\" \")\n",
    "    else:\n",
    "        print(-1, end=\" \")\n",
    "        "
   ]
  },
  {
   "cell_type": "code",
   "execution_count": 221,
   "id": "0e49626f",
   "metadata": {},
   "outputs": [
    {
     "name": "stdout",
     "output_type": "stream",
     "text": [
      "2\n",
      "4 agv\n",
      "aaaaggggvvvv\n",
      "2 gd\n",
      "ggdd\n"
     ]
    }
   ],
   "source": [
    "T =int(input())\n",
    "for i in range(T):\n",
    "    R, S = input().split()\n",
    "    R = int(R)\n",
    "    for i in range(len(S)):\n",
    "        print(S[i]*R, end =\"\")\n",
    "    print()"
   ]
  },
  {
   "cell_type": "code",
   "execution_count": 258,
   "id": "ecd35333",
   "metadata": {},
   "outputs": [
    {
     "name": "stdout",
     "output_type": "stream",
     "text": [
      "zZa\n",
      "Z\n"
     ]
    }
   ],
   "source": [
    "import collections\n",
    "def get_key(my_dict, num):\n",
    "    for key, value in my_dict.items():\n",
    "        if num == value:\n",
    "            return key\n",
    "a = input()\n",
    "a = a.lower()\n",
    "answer = collections.Counter(a)\n",
    "c = list(answer.values())\n",
    "if c.count(max(c)) >= 2:\n",
    "    print(\"?\")\n",
    "else:\n",
    "    print(get_key(answer,max(c)).upper())"
   ]
  },
  {
   "cell_type": "code",
   "execution_count": 248,
   "id": "5be56198",
   "metadata": {},
   "outputs": [
    {
     "data": {
      "text/plain": [
       "'i'"
      ]
     },
     "execution_count": 248,
     "metadata": {},
     "output_type": "execute_result"
    }
   ],
   "source": [
    "def get_key(my_dict, val):\n",
    "    for key, value in my_dict.items():\n",
    "        if val == value:\n",
    "            return key\n",
    "get_key(answer,4)"
   ]
  },
  {
   "cell_type": "code",
   "execution_count": 261,
   "id": "95552ae1",
   "metadata": {},
   "outputs": [
    {
     "name": "stdout",
     "output_type": "stream",
     "text": [
      "The last character is a blank \n"
     ]
    },
    {
     "data": {
      "text/plain": [
       "6"
      ]
     },
     "execution_count": 261,
     "metadata": {},
     "output_type": "execute_result"
    }
   ],
   "source": [
    "a = list(input().split())\n",
    "len(a)"
   ]
  },
  {
   "cell_type": "code",
   "execution_count": 265,
   "id": "1b812971",
   "metadata": {},
   "outputs": [
    {
     "name": "stdout",
     "output_type": "stream",
     "text": [
      "221 231\n",
      "132\n"
     ]
    }
   ],
   "source": [
    "A,B = list(map(int,input().split()))\n",
    "a1 = A//100\n",
    "a2 = A//10%10\n",
    "a3 = A%10\n",
    "newA = a3*100+a2*10+a1\n",
    "b1 = B//100\n",
    "b2 = B//10%10\n",
    "b3 = B%10\n",
    "newB = b3*100+b2*10+b1\n",
    "num = [newA,newB]\n",
    "print(max(num))"
   ]
  },
  {
   "cell_type": "code",
   "execution_count": 268,
   "id": "ff7bd8ff",
   "metadata": {},
   "outputs": [
    {
     "name": "stdout",
     "output_type": "stream",
     "text": [
      "UNUCIC\n",
      "36\n"
     ]
    }
   ],
   "source": [
    "word = input()\n",
    "t = 0\n",
    "for i in word:\n",
    "    if i =='A' or i =='B' or i =='C':\n",
    "        t += 3\n",
    "    elif i =='D' or i =='E' or i =='F':\n",
    "        t += 4\n",
    "    elif i =='G' or i =='H' or i =='I':\n",
    "        t += 5\n",
    "    elif i =='J' or i =='K' or i =='L':\n",
    "        t += 6\n",
    "    elif i =='M' or i =='N' or i =='O':\n",
    "        t += 7\n",
    "    elif i =='P' or i =='Q' or i =='R' or i =='S':\n",
    "        t += 8\n",
    "    elif i =='T' or i =='U' or i =='V':\n",
    "        t += 9\n",
    "    elif i =='W' or i =='X' or i =='Y' or i ==\"Z\":\n",
    "        t += 10\n",
    "        \n",
    "print(t)    "
   ]
  },
  {
   "cell_type": "code",
   "execution_count": 275,
   "id": "6b09f96d",
   "metadata": {},
   "outputs": [
    {
     "name": "stdout",
     "output_type": "stream",
     "text": [
      "ljes=njak\n",
      "6\n"
     ]
    }
   ],
   "source": [
    "croatia = ['c=','c-','dz=','d-','lj','nj','s=','z=']\n",
    "word = input()\n",
    "for i in croatia:\n",
    "    word = word.replace(i,\"*\")\n",
    "print(len(word))"
   ]
  },
  {
   "cell_type": "code",
   "execution_count": 274,
   "id": "449c2874",
   "metadata": {},
   "outputs": [
    {
     "data": {
      "text/plain": [
       "'k'"
      ]
     },
     "execution_count": 274,
     "metadata": {},
     "output_type": "execute_result"
    }
   ],
   "source": [
    "w = \"ljes=njak\"\n",
    "a = w.index(\"l\")\n",
    "w = w[-a:]\n",
    "b = w.index(\"j\")\n",
    "w = w[-b:]\n",
    "w"
   ]
  },
  {
   "cell_type": "code",
   "execution_count": 279,
   "id": "c2e3b2a9",
   "metadata": {},
   "outputs": [
    {
     "name": "stdout",
     "output_type": "stream",
     "text": [
      "2\n",
      "yzyzy\n",
      "zyzyz\n",
      "0\n"
     ]
    }
   ],
   "source": [
    "n = int(input())\n",
    "group_word = 0\n",
    "for i in range(n):\n",
    "    word = input()\n",
    "    error = 0\n",
    "    for i in range(len(word)-1):\n",
    "        if word[i] != word[i+1]:\n",
    "            new_word = word[i+1:]\n",
    "            if word[i] in new_word:\n",
    "                error += 1\n",
    "    if error == 0:\n",
    "        group_word += 1\n",
    "print(group_word)\n",
    "    "
   ]
  },
  {
   "cell_type": "code",
   "execution_count": 281,
   "id": "6cf9339e",
   "metadata": {},
   "outputs": [
    {
     "name": "stdout",
     "output_type": "stream",
     "text": [
      "\"\"d\n"
     ]
    }
   ],
   "source": [
    "print('\"\"d')"
   ]
  },
  {
   "cell_type": "code",
   "execution_count": 283,
   "id": "9c148760",
   "metadata": {},
   "outputs": [
    {
     "name": "stdout",
     "output_type": "stream",
     "text": [
      "65\n"
     ]
    }
   ],
   "source": [
    "print(ord(\"A\"))"
   ]
  },
  {
   "cell_type": "code",
   "execution_count": 286,
   "id": "3fd1f0ac",
   "metadata": {},
   "outputs": [
    {
     "data": {
      "text/plain": [
       "'A'"
      ]
     },
     "execution_count": 286,
     "metadata": {},
     "output_type": "execute_result"
    }
   ],
   "source": [
    "chr(65)"
   ]
  },
  {
   "cell_type": "code",
   "execution_count": 289,
   "id": "c87c2962",
   "metadata": {},
   "outputs": [
    {
     "name": "stdout",
     "output_type": "stream",
     "text": [
      "1\n",
      "OOXXOOXXOO\n",
      "9\n",
      "[1, 2, 0, 0, 1, 2, 0, 0, 1, 2]\n"
     ]
    }
   ],
   "source": [
    "N = int(input())\n",
    "for i in range(N):\n",
    "    answer = input()\n",
    "    score = [0 for i in range(len(answer))]\n",
    "    for j in range(len(answer)):\n",
    "        if answer[j] == \"X\":\n",
    "            score[j] = 0\n",
    "        elif answer[j] == \"O\":\n",
    "            if j == 0:\n",
    "                score[j] = 1\n",
    "            else:\n",
    "                score[j] = score[j-1] +1\n",
    "    \n",
    "    print(sum(score))\n",
    "    print(score)"
   ]
  },
  {
   "cell_type": "code",
   "execution_count": 294,
   "id": "a6e60a07",
   "metadata": {},
   "outputs": [
    {
     "data": {
      "text/plain": [
       "['1952']"
      ]
     },
     "execution_count": 294,
     "metadata": {},
     "output_type": "execute_result"
    }
   ],
   "source": [
    "a = \"1952\"\n",
    "b = \"19\"\n",
    "a[2:]\n",
    "a[1]+a[3]\n",
    "list(a.split())"
   ]
  },
  {
   "cell_type": "code",
   "execution_count": 318,
   "id": "63eeface",
   "metadata": {},
   "outputs": [
    {
     "data": {
      "text/plain": [
       "'3234'"
      ]
     },
     "execution_count": 318,
     "metadata": {},
     "output_type": "execute_result"
    }
   ],
   "source": [
    "def solution(number, k):\n",
    "    answer = ''\n",
    "    arr = [number[i] for i in range(len(number))]\n",
    "    com = list(combinations(arr,len(number)-k))\n",
    "    join_com = list(map(int,[\"\".join(com[i]) for i in range(len(com))]))\n",
    "    answer = str(max(join_com))\n",
    "    return answer\n",
    "solution(\"1231234\",3)"
   ]
  },
  {
   "cell_type": "code",
   "execution_count": 346,
   "id": "6457b9fb",
   "metadata": {},
   "outputs": [
    {
     "data": {
      "text/plain": [
       "'9'"
      ]
     },
     "execution_count": 346,
     "metadata": {},
     "output_type": "execute_result"
    }
   ],
   "source": [
    "def solution(number, k):\n",
    "    stack = []\n",
    "    for num in number:\n",
    "        # print(k,stack)\n",
    "        while stack and stack[-1] < num and k > 0:\n",
    "            k-=1\n",
    "            stack.pop()\n",
    "        stack.append(num)\n",
    "    #print(stack[:len(stack) - k])\n",
    "    #print(stack)\n",
    "    return ''.join(stack[:len(stack) - k])\n",
    "solution(\"999\",2)"
   ]
  },
  {
   "cell_type": "code",
   "execution_count": 11,
   "id": "5f04aa98",
   "metadata": {},
   "outputs": [
    {
     "data": {
      "text/plain": [
       "3"
      ]
     },
     "execution_count": 11,
     "metadata": {},
     "output_type": "execute_result"
    }
   ],
   "source": [
    "a = [[1,2,3],[2,3,5]]\n",
    "b = [[1,2,3],[2,3,5]]\n",
    "a[1][1]+ b[1][1]\n",
    "len(a[0])"
   ]
  },
  {
   "cell_type": "code",
   "execution_count": 13,
   "id": "9033f238",
   "metadata": {},
   "outputs": [
    {
     "data": {
      "text/plain": [
       "[[2, 4, 6], [4, 6, 10]]"
      ]
     },
     "execution_count": 13,
     "metadata": {},
     "output_type": "execute_result"
    }
   ],
   "source": [
    "def solution(arr1, arr2):\n",
    "    answer = []\n",
    "    for i in range(len(arr1)):\n",
    "        sum = []\n",
    "        for j in range(len(arr1[0])):\n",
    "            sum.append(arr1[i][j] + arr2[i][j])\n",
    "        answer.append(sum)\n",
    "    return answer\n",
    "solution([[1,2,3],[2,3,5]],[[1,2,3],[2,3,5]])"
   ]
  },
  {
   "cell_type": "code",
   "execution_count": 55,
   "id": "b69aa4cd",
   "metadata": {},
   "outputs": [
    {
     "data": {
      "text/plain": [
       "[333, -45]"
      ]
     },
     "execution_count": 55,
     "metadata": {},
     "output_type": "execute_result"
    }
   ],
   "source": [
    "operations = [\"I -45\", \"I 653\", \"D 1\", \"I -642\", \"I 45\", \"I 97\", \"D 1\", \"D -1\", \"I 333\"]\n",
    "def solution(operations):\n",
    "    answer = []\n",
    "    for i in range(len(operations)):\n",
    "        a,b = operations[i].split(\" \")\n",
    "        if operations[i][0] == \"I\":\n",
    "            answer.append(int(b))\n",
    "        else:\n",
    "            if len(answer) > 0:\n",
    "                if b == \"1\":\n",
    "                    answer.pop(answer.index(max(answer)))\n",
    "                else:\n",
    "                    answer.pop(answer.index(min(answer)))\n",
    "            else:\n",
    "                pass\n",
    "            \n",
    "    if len(answer) == 0:\n",
    "        answer = [0,0]\n",
    "    else:\n",
    "        answer = [max(answer),min(answer)]\n",
    "    return answer\n",
    "solution(operations)"
   ]
  },
  {
   "cell_type": "code",
   "execution_count": 11,
   "id": "5d395368",
   "metadata": {},
   "outputs": [
    {
     "data": {
      "text/plain": [
       "[5, 2, 43]"
      ]
     },
     "execution_count": 11,
     "metadata": {},
     "output_type": "execute_result"
    }
   ],
   "source": [
    "answer = [5,2,63,43]\n",
    "answer.pop(answer.index(max(answer)))\n",
    "answer"
   ]
  },
  {
   "cell_type": "code",
   "execution_count": 23,
   "id": "e44e5d11",
   "metadata": {},
   "outputs": [
    {
     "data": {
      "text/plain": [
       "4"
      ]
     },
     "execution_count": 23,
     "metadata": {},
     "output_type": "execute_result"
    }
   ],
   "source": [
    "digit = {1:[0,0],2:[0,1],3:[0,2],4:[1,0], 5:[1,1],6:[1,2],7:[2,0],8:[2,1],9:[2,2],\"*\":[3,0],0:[3,1],\"#\":[3,2]}\n",
    "a = digit[\"*\"]\n",
    "b = digit[2]\n",
    "abs(a[0]-b[0]) +abs(a[1]-b[1]) "
   ]
  },
  {
   "cell_type": "code",
   "execution_count": 24,
   "id": "22e5ec9c",
   "metadata": {},
   "outputs": [
    {
     "data": {
      "text/plain": [
       "1"
      ]
     },
     "execution_count": 24,
     "metadata": {},
     "output_type": "execute_result"
    }
   ],
   "source": [
    "10%3"
   ]
  },
  {
   "cell_type": "code",
   "execution_count": 25,
   "id": "49bcc59d",
   "metadata": {},
   "outputs": [
    {
     "data": {
      "text/plain": [
       "10.0"
      ]
     },
     "execution_count": 25,
     "metadata": {},
     "output_type": "execute_result"
    }
   ],
   "source": [
    "2+4/2*4"
   ]
  },
  {
   "cell_type": "code",
   "execution_count": 28,
   "id": "9734533f",
   "metadata": {},
   "outputs": [
    {
     "name": "stdout",
     "output_type": "stream",
     "text": [
      "삼겹살\n",
      "['피자', '족발', '소주']\n"
     ]
    }
   ],
   "source": [
    "test_list = ['치킨','피자','삼겹살','족발','초밥','소주']\n",
    "for data in test_list[::2]:\n",
    "    if len(data) == 3:\n",
    "        print(data)\n",
    "print(test_list[1::2])"
   ]
  },
  {
   "cell_type": "code",
   "execution_count": 30,
   "id": "876f1771",
   "metadata": {},
   "outputs": [
    {
     "name": "stdout",
     "output_type": "stream",
     "text": [
      "In Fn : Hello.\n",
      "Out Fn : Hi\n"
     ]
    }
   ],
   "source": [
    "def print_greedings(t):\n",
    "    t = 'Hello.'\n",
    "    print(\"In Fn :\", t)\n",
    "    \n",
    "x = \"Hi\"\n",
    "print_greedings(x)\n",
    "print(\"Out Fn :\",x)"
   ]
  },
  {
   "cell_type": "code",
   "execution_count": 31,
   "id": "aec19d6a",
   "metadata": {},
   "outputs": [
    {
     "name": "stdout",
     "output_type": "stream",
     "text": [
      "[25, 39, 46, 57]\n"
     ]
    }
   ],
   "source": [
    "a,b, *c = (14,21,25,39,46,57)\n",
    "print(c)"
   ]
  },
  {
   "cell_type": "code",
   "execution_count": 32,
   "id": "0d522431",
   "metadata": {},
   "outputs": [
    {
     "data": {
      "text/plain": [
       "3125"
      ]
     },
     "execution_count": 32,
     "metadata": {},
     "output_type": "execute_result"
    }
   ],
   "source": [
    "5**5"
   ]
  },
  {
   "cell_type": "code",
   "execution_count": 13,
   "id": "50abbeb8",
   "metadata": {},
   "outputs": [
    {
     "name": "stdout",
     "output_type": "stream",
     "text": [
      "2100000000 9 10\n",
      "2100000001\n"
     ]
    }
   ],
   "source": [
    "A,B,C = map(int, input().split())\n",
    "c = 0\n",
    "if B >= C:\n",
    "    c = -1\n",
    "else :\n",
    "    c = int(A //(C-B) + 1)\n",
    "print(c)"
   ]
  },
  {
   "cell_type": "code",
   "execution_count": 39,
   "id": "07bbea4f",
   "metadata": {},
   "outputs": [
    {
     "data": {
      "text/plain": [
       "datetime.time(9, 10)"
      ]
     },
     "execution_count": 39,
     "metadata": {},
     "output_type": "execute_result"
    }
   ],
   "source": [
    "import datetime\n",
    "all_ = [[\"09:10\",\"lee\"],[\"09:00\",\"kim\"],[\"09:05\",\"bae\"]]\n",
    "all_.sort()\n",
    "h = int(all_[0][0].split(\":\")[0])\n",
    "m = int(all_[0][0].split(\":\")[1])\n",
    "time_a = datetime.time(h,m + 10) # 고객 업무 처리 후 시간 \n",
    "time_a"
   ]
  },
  {
   "cell_type": "code",
   "execution_count": 41,
   "id": "d642d05f",
   "metadata": {},
   "outputs": [
    {
     "data": {
      "text/plain": [
       "datetime.time(9, 5)"
      ]
     },
     "execution_count": 41,
     "metadata": {},
     "output_type": "execute_result"
    }
   ],
   "source": [
    "h = int(all_[1][0].split(\":\")[0])\n",
    "m = int(all_[1][0].split(\":\")[1])\n",
    "time = datetime.time(h,m)\n",
    "time"
   ]
  },
  {
   "cell_type": "code",
   "execution_count": 56,
   "id": "ab0bb5cb",
   "metadata": {},
   "outputs": [
    {
     "data": {
      "text/plain": [
       "True"
      ]
     },
     "execution_count": 56,
     "metadata": {},
     "output_type": "execute_result"
    }
   ],
   "source": [
    "time_a = datetime.time(9,14) \n",
    "time_b = datetime.time(9,10)\n",
    "time_a > time_b"
   ]
  },
  {
   "cell_type": "code",
   "execution_count": 60,
   "id": "744dc0bd",
   "metadata": {},
   "outputs": [
    {
     "data": {
      "text/plain": [
       "['kim']"
      ]
     },
     "execution_count": 60,
     "metadata": {},
     "output_type": "execute_result"
    }
   ],
   "source": [
    "def solution(booked, unbooked):\n",
    "    answer = []\n",
    "    all_ = booked + unbooked\n",
    "    all_.sort()\n",
    "    answer.append(all_[0][1]) # 정렬 후 가장 먼저 온 사람은 가장 먼저 처리\n",
    "    if all_[0] in booked:\n",
    "        booked.pop(booked.index(all_[0]))\n",
    "    elif all_[0] in unbooked:\n",
    "        unbooked.pop(unbooked.index(all_[0]))\n",
    "    time_a = datetime.time(int(all_[0][0].split(\":\")[0]),int(all_[0][0].split(\":\")[1]) + 10) # 첫번째 고객 업무 처리 후 시간 \n",
    "    \n",
    "    for i in range(len(all_)):\n",
    "        \n",
    "            \n",
    "    return answer\n",
    "\n",
    "booked = [[\"09:10\",\"lee\"]]\n",
    "unbooked = [[\"09:00\",\"kim\"],[\"09.05\",\"bae\"]]\n",
    "solution(booked,unbooked)"
   ]
  },
  {
   "cell_type": "code",
   "execution_count": 158,
   "id": "f80fcc8a",
   "metadata": {},
   "outputs": [
    {
     "data": {
      "text/plain": [
       "3"
      ]
     },
     "execution_count": 158,
     "metadata": {},
     "output_type": "execute_result"
    }
   ],
   "source": [
    "def solution(people, tshirts):\n",
    "    answer = 0\n",
    "    people.sort()\n",
    "    tshirts.sort()\n",
    "    for p in people:\n",
    "        newList = [x for x in tshirts if x>=p]\n",
    "        if len(newList) >= 1:\n",
    "            answer += 1\n",
    "            tshirts.remove(p)\n",
    "    return answer\n",
    "\n",
    "people = [1,2,3,1]\n",
    "tshirts = [1,2,1]\n",
    "solution(people,tshirts)"
   ]
  },
  {
   "cell_type": "code",
   "execution_count": 154,
   "id": "6b74e373",
   "metadata": {},
   "outputs": [
    {
     "ename": "SyntaxError",
     "evalue": "invalid syntax (<ipython-input-154-e3470304f344>, line 1)",
     "output_type": "error",
     "traceback": [
      "\u001b[1;36m  File \u001b[1;32m\"<ipython-input-154-e3470304f344>\"\u001b[1;36m, line \u001b[1;32m1\u001b[0m\n\u001b[1;33m    x for x in tshirts if x>p\u001b[0m\n\u001b[1;37m        ^\u001b[0m\n\u001b[1;31mSyntaxError\u001b[0m\u001b[1;31m:\u001b[0m invalid syntax\n"
     ]
    }
   ],
   "source": [
    "tshirts = [1,1]\n",
    "x for x in tshirts if x>p"
   ]
  },
  {
   "cell_type": "code",
   "execution_count": 146,
   "id": "66eef38b",
   "metadata": {},
   "outputs": [
    {
     "data": {
      "text/plain": [
       "1"
      ]
     },
     "execution_count": 146,
     "metadata": {},
     "output_type": "execute_result"
    }
   ],
   "source": [
    "tshirts = [1,2,1]\n",
    "tshirts = np.array(tshirts)\n",
    "i = np.where(tshirts==2)[0][0]\n",
    "i"
   ]
  },
  {
   "cell_type": "code",
   "execution_count": 124,
   "id": "27c65770",
   "metadata": {},
   "outputs": [
    {
     "data": {
      "text/plain": [
       "array([1, 3, 1])"
      ]
     },
     "execution_count": 124,
     "metadata": {},
     "output_type": "execute_result"
    }
   ],
   "source": [
    "tshirts = [1,2,3,1]\n",
    "tshirts = np.array(tshirts)\n",
    "i = np.where(tshirts==2)[0][0]\n",
    "tshirts = np.delete(tshirts,i)\n",
    "tshirts"
   ]
  },
  {
   "cell_type": "code",
   "execution_count": null,
   "id": "e4a14f85",
   "metadata": {},
   "outputs": [],
   "source": [
    "from datetime import datetime, timedelta\n",
    "def solution(booked, unbooked):\n",
    "    answer = []\n",
    "    all_ = booked + unbooked\n",
    "    time = 0\n",
    "    all_.sort()\n",
    "    answer.append(all_[0][1]) # 정렬 후 가장 먼저 온 사람은 가장 먼저 처리\n",
    "    time_a = datetime(2022,7,17,int(all_[0][0].split(\":\")[0]),int(all_[0][0].split(\":\")[1])) + timedelta(minutes = 10) \n",
    "    # 첫번째 고객 업무 처리 후 시간, 날짜 임의 설정\n",
    "\n",
    "    for i in range(1,len(all_)):\n",
    "        h = int(all_[i][0].split(\":\")[0])\n",
    "        m = int(all_[i][0].split(\":\")[1])\n",
    "        if datetime.time(h,m) < time_a:\n",
    "            if all_[i] in booked:\n",
    "                answer.append(all_[i][1])\n",
    "                time_a  = time_a +  timedelta(minutes = 10)\n",
    "\n",
    "        \n",
    "        \n",
    "\n",
    "\n",
    "    return answer\n",
    "\n",
    "booked = [[\"09:10\",\"lee\"]]\n",
    "unbooked = [[\"09:00\",'kim'],[\"09:05\",'bae']]\n",
    "solution(booked,unbooked)"
   ]
  },
  {
   "cell_type": "code",
   "execution_count": 161,
   "id": "c7899cda",
   "metadata": {},
   "outputs": [
    {
     "data": {
      "text/plain": [
       "datetime.datetime(2022, 7, 17, 9, 20)"
      ]
     },
     "execution_count": 161,
     "metadata": {},
     "output_type": "execute_result"
    }
   ],
   "source": [
    "from datetime import datetime, timedelta\n",
    "all_ = [[\"09:10\",\"lee\"],[\"09:00\",\"kim\"],[\"09:05\",\"bae\"]]\n",
    "time_a = datetime(2022,7,17,int(all_[0][0].split(\":\")[0]),int(all_[0][0].split(\":\")[1])) + timedelta(minutes = 10) # 첫번째 고객 업무 처리 후 시간\n",
    "time_a"
   ]
  },
  {
   "cell_type": "code",
   "execution_count": 180,
   "id": "a6d2fa9a",
   "metadata": {},
   "outputs": [
    {
     "data": {
      "text/plain": [
       "8"
      ]
     },
     "execution_count": 180,
     "metadata": {},
     "output_type": "execute_result"
    }
   ],
   "source": [
    "land = [[1,2,3,5],[5,6,7,8],[4,3,2,1]]\n",
    "i = land[0].index(max(land[0]))\n",
    "i = 2\n",
    "max(land[1][:i] + land[1][i+1:])"
   ]
  },
  {
   "cell_type": "code",
   "execution_count": 184,
   "id": "f7578872",
   "metadata": {},
   "outputs": [
    {
     "data": {
      "text/plain": [
       "16"
      ]
     },
     "execution_count": 184,
     "metadata": {},
     "output_type": "execute_result"
    }
   ],
   "source": [
    "def solution(land):\n",
    "    answer = 0\n",
    "    answer += max(land[0])\n",
    "    m = land[0].index(max(land[0]))\n",
    "    for i in range(1,len(land)):\n",
    "        answer += max(land[i][:m] + land[i][m+1:])\n",
    "        m = land[i].index(max(land[i]))\n",
    "    selection = []\n",
    "    \n",
    "\n",
    "    return answer\n",
    "\n",
    "land = [[1,2,3,5],[5,6,7,8],[4,3,2,1]]\n",
    "solution(land)"
   ]
  },
  {
   "cell_type": "code",
   "execution_count": 195,
   "id": "a15f5254",
   "metadata": {},
   "outputs": [
    {
     "data": {
      "text/plain": [
       "'qwe'"
      ]
     },
     "execution_count": 195,
     "metadata": {},
     "output_type": "execute_result"
    }
   ],
   "source": [
    "a = \"qwerty\"\n",
    "a[-1]\n",
    "a[:3]"
   ]
  },
  {
   "cell_type": "code",
   "execution_count": 194,
   "id": "30d68652",
   "metadata": {},
   "outputs": [
    {
     "data": {
      "text/plain": [
       "'ddd'"
      ]
     },
     "execution_count": 194,
     "metadata": {},
     "output_type": "execute_result"
    }
   ],
   "source": [
    "o = \".ddd.\"\n",
    "if o[0] == \".\":\n",
    "        o = o[1:]\n",
    "if o[-1] == \".\":\n",
    "    o = o[:-1]\n",
    "o"
   ]
  },
  {
   "cell_type": "code",
   "execution_count": 210,
   "id": "f9176984",
   "metadata": {
    "scrolled": true
   },
   "outputs": [
    {
     "ename": "SyntaxError",
     "evalue": "unexpected EOF while parsing (<ipython-input-210-143248939308>, line 11)",
     "output_type": "error",
     "traceback": [
      "\u001b[1;36m  File \u001b[1;32m\"<ipython-input-210-143248939308>\"\u001b[1;36m, line \u001b[1;32m11\u001b[0m\n\u001b[1;33m    \u001b[0m\n\u001b[1;37m    ^\u001b[0m\n\u001b[1;31mSyntaxError\u001b[0m\u001b[1;31m:\u001b[0m unexpected EOF while parsing\n"
     ]
    }
   ],
   "source": [
    "a,b = map(int, input().split())\n",
    "l = [[0 for i in range(b)] for j in range(a)]\n",
    "\n",
    "for i in range(a):\n",
    "    l[i] = list(map(int,input().split()))\n",
    "\n",
    "for i in range(a):\n",
    "    for j in range(b):\n",
    "        if l[i][j] == 1:\n",
    "            \n",
    "            "
   ]
  },
  {
   "cell_type": "code",
   "execution_count": 219,
   "id": "a8d78e7f",
   "metadata": {
    "scrolled": true
   },
   "outputs": [
    {
     "name": "stdout",
     "output_type": "stream",
     "text": [
      "1\n",
      "6 12 10\n",
      "402\n"
     ]
    }
   ],
   "source": [
    "c = int(input())\n",
    "for i in range(c):\n",
    "    H,W,N = map(int, input().split())\n",
    "    n = N//H+1\n",
    "    f = N%H\n",
    "    if N%H == 0:\n",
    "        n = n//h\n",
    "        f = H\n",
    "    print(f*100+n) "
   ]
  },
  {
   "cell_type": "code",
   "execution_count": 249,
   "id": "1cdb9787",
   "metadata": {},
   "outputs": [
    {
     "data": {
      "text/plain": [
       "[[1, 2, 3], [1, 3, 6], [1, 2, 3], [1, 2, 3], [1, 2, 3], [1, 2, 3]]"
      ]
     },
     "execution_count": 249,
     "metadata": {},
     "output_type": "execute_result"
    }
   ],
   "source": [
    "apart = [[i+1 for i in range(3)] for j in range(6)]\n",
    "for h in range(3):\n",
    "    apart[1][h] = sum(apart[0][0:h+1])\n",
    "apart"
   ]
  },
  {
   "cell_type": "code",
   "execution_count": 231,
   "id": "29199b11",
   "metadata": {},
   "outputs": [
    {
     "data": {
      "text/plain": [
       "[1, 2, 3]"
      ]
     },
     "execution_count": 231,
     "metadata": {},
     "output_type": "execute_result"
    }
   ],
   "source": [
    "apart[0][0:3]"
   ]
  },
  {
   "cell_type": "code",
   "execution_count": 270,
   "id": "d2d2c7c6",
   "metadata": {},
   "outputs": [
    {
     "name": "stdout",
     "output_type": "stream",
     "text": [
      "1\n",
      "1\n",
      "3\n",
      "6\n"
     ]
    }
   ],
   "source": [
    "c = int(input())\n",
    "for i in range(c):\n",
    "    f = int(input())\n",
    "    n = int(input())\n",
    "    apart = [[i+1 for i in range(n)] for j in range(f+1)]\n",
    "    for j in range(1,f+1):\n",
    "        for k in range(n):\n",
    "            apart[j][k] = sum(apart[j-1][0:k+1])\n",
    "    print(apart[f][n-1])"
   ]
  },
  {
   "cell_type": "code",
   "execution_count": 302,
   "id": "b871c917",
   "metadata": {},
   "outputs": [
    {
     "name": "stdout",
     "output_type": "stream",
     "text": [
      "4\n",
      "1 3 5 7\n",
      "3\n"
     ]
    }
   ],
   "source": [
    "import math\n",
    "N = int(input())\n",
    "L = list(map(int,input().split()))\n",
    "sosu = 0\n",
    "for num in L:\n",
    "    error = 0\n",
    "    if num == 1:\n",
    "        continue\n",
    "    for j in range(2,int(math.sqrt(num))+1):\n",
    "        if num % j == 0:\n",
    "            error += 1\n",
    "    if error == 0:\n",
    "        sosu += 1\n",
    "print(sosu)"
   ]
  },
  {
   "cell_type": "code",
   "execution_count": 303,
   "id": "6e5cb6d2",
   "metadata": {},
   "outputs": [
    {
     "name": "stdout",
     "output_type": "stream",
     "text": [
      "60\n",
      "100\n",
      "620\n",
      "61\n"
     ]
    }
   ],
   "source": [
    "import math\n",
    "A = int(input())\n",
    "B = int(input())\n",
    "sosu = 0\n",
    "L = []\n",
    "for i in range(A,B+1):\n",
    "    error = 0\n",
    "    if i == 1:\n",
    "        continue\n",
    "    for j in range(2,int(math.sqrt(i))+1):\n",
    "        if i % j == 0:\n",
    "            error += 1\n",
    "    if error == 0:\n",
    "        sosu += 1\n",
    "        L.append(i)\n",
    "print(sum(L))\n",
    "print(min(L))     \n",
    "    "
   ]
  },
  {
   "cell_type": "code",
   "execution_count": 7,
   "id": "02809aeb",
   "metadata": {},
   "outputs": [
    {
     "data": {
      "text/plain": [
       "7"
      ]
     },
     "execution_count": 7,
     "metadata": {},
     "output_type": "execute_result"
    }
   ],
   "source": [
    "from itertools import combinations\n",
    "def sosu(i):\n",
    "    if i == 1:\n",
    "        return False\n",
    "    for j in range(2,int(i**0.5)+1):\n",
    "        if i%j == 0:\n",
    "            return False\n",
    "    return True\n",
    "\n",
    "sosu_list = []\n",
    "for i in range(4,10000):\n",
    "    if sosu(i):\n",
    "        sosu_list.append(i)\n",
    "sum_sosu = list(combinations(sosu_list,2))\n",
    "sum_sosu[0][1]"
   ]
  },
  {
   "cell_type": "code",
   "execution_count": 16,
   "id": "3a971145",
   "metadata": {},
   "outputs": [
    {
     "data": {
      "text/plain": [
       "1227"
      ]
     },
     "execution_count": 16,
     "metadata": {},
     "output_type": "execute_result"
    }
   ],
   "source": [
    "from itertools import combinations\n",
    "def sosu(i):\n",
    "    if i == 1:\n",
    "        return False\n",
    "    for j in range(2,int(i**0.5)+1):\n",
    "        if i%j == 0:\n",
    "            return False\n",
    "    return True\n",
    "\n",
    "sosu_list = []\n",
    "for i in range(4,10000):\n",
    "    if sosu(i):\n",
    "        sosu_list.append(i)\n",
    "sosu_list\n",
    "len(sosu_list)"
   ]
  },
  {
   "cell_type": "code",
   "execution_count": 17,
   "id": "fbe03e65",
   "metadata": {},
   "outputs": [
    {
     "name": "stdout",
     "output_type": "stream",
     "text": [
      "1\n",
      "1\n"
     ]
    },
    {
     "name": "stderr",
     "output_type": "stream",
     "text": [
      "IOPub data rate exceeded.\n",
      "The notebook server will temporarily stop sending output\n",
      "to the client in order to avoid crashing it.\n",
      "To change this limit, set the config variable\n",
      "`--NotebookApp.iopub_data_rate_limit`.\n",
      "\n",
      "Current values:\n",
      "NotebookApp.iopub_data_rate_limit=1000000.0 (bytes/sec)\n",
      "NotebookApp.rate_limit_window=3.0 (secs)\n",
      "\n"
     ]
    }
   ],
   "source": [
    "c = int(input())\n",
    "for i in range(c):\n",
    "    N = int(input())\n",
    "    sum_list = []\n",
    "    t = []\n",
    "    for i in range(len(sum_sosu)):\n",
    "        if sum(sum_sosu[i]) == N:\n",
    "            sum_list.append(sum_sosu[i])\n",
    "            t.append(abs(sum_sosu[i][0]-sum_sosu[i][1]))\n",
    "        else:\n",
    "            continue                   \n",
    "    #i = t.index(min(t))\n",
    "    #print(sum_list[i][0],sum_list[i][1])\n",
    "    print(t)\n",
    "    print(sum_sosu)"
   ]
  },
  {
   "cell_type": "code",
   "execution_count": 96,
   "id": "fff69889",
   "metadata": {},
   "outputs": [
    {
     "data": {
      "text/plain": [
       "1"
      ]
     },
     "execution_count": 96,
     "metadata": {},
     "output_type": "execute_result"
    }
   ],
   "source": [
    "def su(n):\n",
    "    s = []\n",
    "    if n == 1:\n",
    "        return 1\n",
    "    for i in range(1,(n//2)+1):\n",
    "        if n % i == 0:\n",
    "            s.append(i)\n",
    "            s.append(n//i)\n",
    "    s = list(set(s))\n",
    "    return len(s)\n",
    "\n",
    "su(1)"
   ]
  },
  {
   "cell_type": "code",
   "execution_count": 98,
   "id": "4a27b1af",
   "metadata": {},
   "outputs": [
    {
     "data": {
      "text/plain": [
       "3"
      ]
     },
     "execution_count": 98,
     "metadata": {},
     "output_type": "execute_result"
    }
   ],
   "source": [
    "int(str(10),3)"
   ]
  },
  {
   "cell_type": "code",
   "execution_count": 109,
   "id": "57aa7409",
   "metadata": {},
   "outputs": [
    {
     "data": {
      "text/plain": [
       "7"
      ]
     },
     "execution_count": 109,
     "metadata": {},
     "output_type": "execute_result"
    }
   ],
   "source": [
    "def solution(n):\n",
    "    answer = 0\n",
    "    a = \"\"\n",
    "    if n == 1:\n",
    "        return 1\n",
    "    if n == 2:\n",
    "        return 2\n",
    "    else:\n",
    "        while(1):\n",
    "            if n // 3 < 3:\n",
    "                a += str(n%3)\n",
    "                a += str(n//3)\n",
    "                break\n",
    "            a += str(n%3)\n",
    "            n = n//3            \n",
    "    answer = int(a,3)\n",
    "    return answer\n",
    "\n",
    "solution(45)"
   ]
  },
  {
   "cell_type": "code",
   "execution_count": 126,
   "id": "5e1d5451",
   "metadata": {},
   "outputs": [
    {
     "name": "stdout",
     "output_type": "stream",
     "text": [
      "5 21\n",
      "5 6 7 8 9\n",
      "21\n"
     ]
    }
   ],
   "source": [
    "N,M = map(int,input().split())\n",
    "l = list(map(int,input().split()))\n",
    "s_3 = []\n",
    "r = []\n",
    "for i in range(N):\n",
    "    for j in range(i+1,N):\n",
    "        for k in range(j+1,N):\n",
    "            s_3.append(l[i] + l[j] + l[k])\n",
    "            if M-(l[i] + l[j] + l[k]) >= 0:\n",
    "                r.append(M-(l[i] + l[j] + l[k]))\n",
    "print(M - min(r))"
   ]
  },
  {
   "cell_type": "code",
   "execution_count": 130,
   "id": "78576572",
   "metadata": {},
   "outputs": [
    {
     "name": "stdout",
     "output_type": "stream",
     "text": [
      "356\n",
      "0\n"
     ]
    }
   ],
   "source": [
    "n = int(input())\n",
    "length = len(str(n))\n",
    "new_list = []\n",
    "for i in range(1,10):\n",
    "    for j in range(10):\n",
    "        for k in range(10):\n",
    "            new_num = i*100 + j*10 + k\n",
    "            if new_num + i + j + k == n:\n",
    "                new_list.append(new_num)\n",
    "                \n",
    "if len(new_list) == 0:\n",
    "    print(0)\n",
    "else:\n",
    "    print(min(new_list))"
   ]
  },
  {
   "cell_type": "code",
   "execution_count": 133,
   "id": "1b0ca7f2",
   "metadata": {},
   "outputs": [
    {
     "data": {
      "text/plain": [
       "3"
      ]
     },
     "execution_count": 133,
     "metadata": {},
     "output_type": "execute_result"
    }
   ],
   "source": [
    "n = 150\n",
    "len(str(n))"
   ]
  },
  {
   "cell_type": "code",
   "execution_count": 138,
   "id": "0030f93d",
   "metadata": {},
   "outputs": [
    {
     "data": {
      "text/plain": [
       "[5, 3, 9, 10, 12]"
      ]
     },
     "execution_count": 138,
     "metadata": {},
     "output_type": "execute_result"
    }
   ],
   "source": [
    "scoville = [1,2,3,9,10,12]\n",
    "new_s = scoville[0] + (scoville[1]*2)\n",
    "scoville = scoville[2:]\n",
    "scoville.insert(0,new_s)\n",
    "scoville"
   ]
  },
  {
   "cell_type": "code",
   "execution_count": 28,
   "id": "8c1b9cab",
   "metadata": {},
   "outputs": [
    {
     "data": {
      "text/plain": [
       "[[],\n",
       " [5],\n",
       " [0, 1, 10, 55, 25],\n",
       " [0, 2, 4, 5, 6, 555, 11, 15, 50, 275, 20, 60, 125, 30],\n",
       " [0,\n",
       "  1,\n",
       "  2,\n",
       "  3,\n",
       "  4,\n",
       "  5,\n",
       "  6,\n",
       "  7,\n",
       "  130,\n",
       "  9,\n",
       "  10,\n",
       "  11,\n",
       "  12,\n",
       "  270,\n",
       "  15,\n",
       "  16,\n",
       "  20,\n",
       "  150,\n",
       "  280,\n",
       "  25,\n",
       "  26,\n",
       "  24,\n",
       "  30,\n",
       "  35,\n",
       "  550,\n",
       "  300,\n",
       "  45,\n",
       "  560,\n",
       "  50,\n",
       "  5555,\n",
       "  54,\n",
       "  55,\n",
       "  56,\n",
       "  65,\n",
       "  75,\n",
       "  80,\n",
       "  3025,\n",
       "  2775,\n",
       "  1375,\n",
       "  100,\n",
       "  110,\n",
       "  111,\n",
       "  625,\n",
       "  120,\n",
       "  250],\n",
       " [],\n",
       " [],\n",
       " [],\n",
       " []]"
      ]
     },
     "execution_count": 28,
     "metadata": {},
     "output_type": "execute_result"
    }
   ],
   "source": [
    "number = 12\n",
    "dp = [[] for _ in range(9)]\n",
    "for i in range(1,9):\n",
    "    dp[i].append(int(str(N)*i))\n",
    "    for j in range(1,i):\n",
    "        for one in dp[j]:\n",
    "            for two in dp[i-j]:\n",
    "                dp[i].append(one+two)\n",
    "                dp[i].append(abs(one-two))\n",
    "                dp[i].append(one*two)\n",
    "                if two != 0:\n",
    "                    dp[i].append(one//two)\n",
    "                if one != 0:\n",
    "                    dp[i].append(two//one)\n",
    "    dp[i] = list(set(dp[i]))\n",
    "    if number in dp[i]:\n",
    "        answer = i\n",
    "        break\n",
    "answer\n",
    "dp"
   ]
  },
  {
   "cell_type": "code",
   "execution_count": 68,
   "id": "fc826266",
   "metadata": {},
   "outputs": [
    {
     "data": {
      "text/plain": [
       "True"
      ]
     },
     "execution_count": 68,
     "metadata": {},
     "output_type": "execute_result"
    }
   ],
   "source": [
    "import collections\n",
    "X = \"100\"\n",
    "Y = \"20\"\n",
    "X_l = [X[i] for i in range(len(X))]\n",
    "Y_l = [Y[i] for i in range(len(Y))]\n",
    "X_C = collections.Counter(X_l)\n",
    "Y_C = collections.Counter(Y_l)\n",
    "K_l = X_C & Y_C\n",
    "K_l.keys() == {'0'}"
   ]
  },
  {
   "cell_type": "code",
   "execution_count": 69,
   "id": "f47249e6",
   "metadata": {},
   "outputs": [
    {
     "data": {
      "text/plain": [
       "True"
      ]
     },
     "execution_count": 69,
     "metadata": {},
     "output_type": "execute_result"
    }
   ],
   "source": [
    "n_number = [0, 0, 0]\n",
    "list(set(n_number)) == [0]"
   ]
  },
  {
   "cell_type": "code",
   "execution_count": 93,
   "id": "31969a99",
   "metadata": {},
   "outputs": [
    {
     "name": "stdout",
     "output_type": "stream",
     "text": [
      "[3, 1, 2, 2, 1]\n",
      "[3, 0, 2, 2, 1]\n",
      "[2, 0, 2, 2, 1]\n",
      "[2, 0, 1, 2, 1]\n",
      "[2, -1, 1, 2, 1]\n",
      "[2, -1, 1, 1, 1]\n",
      "[1, -1, 1, 1, 1]\n",
      "[1, -1, 1, 0, 1]\n",
      "[1, -1, 0, 0, 1]\n",
      "[1, -1, 0, 0, 0]\n",
      "[3, 1, 2, 2, 1]\n",
      "[2, 1, 2, 2, 1]\n",
      "[2, 1, 1, 2, 1]\n",
      "[2, 0, 1, 2, 1]\n",
      "[2, 0, 1, 1, 1]\n",
      "[1, 0, 1, 1, 1]\n",
      "[1, 0, 1, 0, 1]\n",
      "[1, 0, 0, 0, 1]\n",
      "[1, 0, 0, 0, 0]\n",
      "[0, 0, 0, 0, 0]\n",
      "[2, 2, 2, 2, 1]\n",
      "[2, 2, 1, 2, 1]\n",
      "[2, 1, 1, 2, 1]\n",
      "[2, 1, 1, 1, 1]\n",
      "[1, 1, 1, 1, 1]\n",
      "[1, 1, 1, 0, 1]\n",
      "[1, 1, 0, 0, 1]\n",
      "[1, 1, 0, 0, 0]\n",
      "[0, 1, 0, 0, 0]\n",
      "[0, 0, 0, 0, 0]\n",
      "[3, 2, 1, 2, 1]\n",
      "[3, 1, 1, 2, 1]\n",
      "[3, 1, 1, 1, 1]\n",
      "[2, 1, 1, 1, 1]\n",
      "[2, 1, 1, 0, 1]\n",
      "[2, 1, 0, 0, 1]\n",
      "[2, 1, 0, 0, 0]\n",
      "[1, 1, 0, 0, 0]\n",
      "[1, 0, 0, 0, 0]\n",
      "[0, 0, 0, 0, 0]\n"
     ]
    },
    {
     "data": {
      "text/plain": [
       "3"
      ]
     },
     "execution_count": 93,
     "metadata": {},
     "output_type": "execute_result"
    }
   ],
   "source": [
    "def solution(want, number, discount):\n",
    "    answer = 0\n",
    "    p = []\n",
    "    for w in want:\n",
    "        if w not in list(set(discount)):\n",
    "            return 0\n",
    "        else:\n",
    "            p.append(discount.index(w))    \n",
    "    p.sort()\n",
    "\n",
    "    start = p[0]\n",
    "    for i in range(start,len(discount)-9):\n",
    "        n = list(number)\n",
    "        for j in range(i,i+10):\n",
    "            if discount[j] in want:\n",
    "                n[want.index(discount[j])] -= 1\n",
    "                print(n)\n",
    "        if list(set(n)) == [0]:\n",
    "            answer += 1\n",
    "    \n",
    "    return answer\n",
    "    \n",
    "want = [\"banana\",\"apple\",\"rice\",\"pork\",\"pot\"]\n",
    "number = [3,2,2,2,1]\n",
    "discount = [\"chicken\",\"apple\",\"apple\",\"banana\",\"rice\",\"apple\",\"pork\",\"banana\",\"pork\",\"rice\",\"pot\",\"banana\",\"apple\",\"banana\"]\n",
    "solution(want,number,discount)"
   ]
  },
  {
   "cell_type": "code",
   "execution_count": 109,
   "id": "1b2e44fc",
   "metadata": {},
   "outputs": [
    {
     "name": "stdout",
     "output_type": "stream",
     "text": [
      "[10, 9, 12, 15, 16, 20, 14, 17, 20, 21, 25, 16, 19, 20, 24, 22, 23, 27, 26, 30, 31, 15, 18, 21, 22, 26, 17, 20, 21, 25, 23, 24, 28, 27, 31, 32, 22, 25, 26, 30, 28, 29, 33, 32, 36, 37, 27, 28, 32, 31, 35, 36, 34, 38, 39, 42]\n",
      "[9, 10, 12, 14, 15, 16, 17, 18, 19, 20, 21, 22, 23, 24, 25, 26, 27, 28, 29, 30, 31, 32, 33, 34, 35, 36, 37, 38, 39, 42]\n"
     ]
    },
    {
     "data": {
      "text/plain": [
       "6"
      ]
     },
     "execution_count": 109,
     "metadata": {},
     "output_type": "execute_result"
    }
   ],
   "source": [
    "from itertools import combinations\n",
    "def sosu(i):\n",
    "    if i == 1:\n",
    "        return False\n",
    "    else:\n",
    "        for j in range(2,int(i**0.5)+1):\n",
    "            if i%j == 0:\n",
    "                return False\n",
    "        return True\n",
    "def solutions(nums):\n",
    "    answer = 0\n",
    "    c = list(combinations(nums,3))\n",
    "    sum_c = []\n",
    "    for i in range(len(c)):\n",
    "        sum_c.append(sum(c[i]))\n",
    "    \n",
    "    print(sum_c)\n",
    "    len(sum_c)\n",
    "    sum_c = list(set(sum_c))\n",
    "    print(sum_c)\n",
    "    len(sum_c)\n",
    "    for i in sum_c:\n",
    "        if sosu(i):\n",
    "            answer += 1\n",
    "    return answer\n",
    "\n",
    "nums = [1, 2, 7, 6, 9, 12, 13, 17]\n",
    "solutions(nums)"
   ]
  },
  {
   "cell_type": "code",
   "execution_count": 131,
   "id": "d90b7c73",
   "metadata": {},
   "outputs": [
    {
     "name": "stdout",
     "output_type": "stream",
     "text": [
      "216\n",
      "198\n"
     ]
    }
   ],
   "source": [
    "n = int(input())\n",
    "t = abs(n - (len(str(n))*9))\n",
    "for i in range(n):\n",
    "    temp = sum(map(int,list(str(i))))\n",
    "    result = temp + i\n",
    "    if result == n:\n",
    "        print(i)\n",
    "        break\n",
    "else:\n",
    "    print(0)    "
   ]
  },
  {
   "cell_type": "code",
   "execution_count": 129,
   "id": "66089269",
   "metadata": {},
   "outputs": [
    {
     "name": "stdout",
     "output_type": "stream",
     "text": [
      "10\n"
     ]
    }
   ],
   "source": [
    "# 리스트 합치고 다시 풀기\n",
    "t = \"1234\"\n",
    "print(sum(map(int,list(t))))\n"
   ]
  },
  {
   "cell_type": "code",
   "execution_count": 126,
   "id": "2d2c6185",
   "metadata": {},
   "outputs": [
    {
     "name": "stdout",
     "output_type": "stream",
     "text": [
      "['1', '2', '3', '4']\n"
     ]
    }
   ],
   "source": [
    "t = \"1234\"\n",
    "l_t = list(t)\n",
    "print(l_t)"
   ]
  },
  {
   "cell_type": "code",
   "execution_count": 140,
   "id": "7cf8edcf",
   "metadata": {},
   "outputs": [
    {
     "data": {
      "text/plain": [
       "5.5"
      ]
     },
     "execution_count": 140,
     "metadata": {},
     "output_type": "execute_result"
    }
   ],
   "source": [
    "a = 5.5\n",
    "float(a)"
   ]
  },
  {
   "cell_type": "code",
   "execution_count": 155,
   "id": "bbb7d5bc",
   "metadata": {},
   "outputs": [
    {
     "name": "stdout",
     "output_type": "stream",
     "text": [
      "6.8\n",
      "6.79\n",
      "6.785\n"
     ]
    }
   ],
   "source": [
    "b = 6.7854\n",
    "b_1 = \"{:.1f}\".format(b)\n",
    "b_2 = \"{:.2f}\".format(b)\n",
    "b_3 = \"{:.3f}\".format(b)\n",
    "print(b_1)\n",
    "print(b_2)\n",
    "print(b_3)"
   ]
  },
  {
   "cell_type": "code",
   "execution_count": 159,
   "id": "45c3222e",
   "metadata": {},
   "outputs": [
    {
     "name": "stdout",
     "output_type": "stream",
     "text": [
      "81\n",
      "3\n"
     ]
    }
   ],
   "source": [
    "a = 3\n",
    "b = 4\n",
    "print(a ** b)\n",
    "print(a % b)"
   ]
  },
  {
   "cell_type": "code",
   "execution_count": 158,
   "id": "42e3a4e1",
   "metadata": {},
   "outputs": [
    {
     "data": {
      "text/plain": [
       "6.7854"
      ]
     },
     "execution_count": 158,
     "metadata": {},
     "output_type": "execute_result"
    }
   ],
   "source": [
    "b = 6.7854\n",
    "round(b)   # 7\n",
    "round(b,1) # 6.8\n",
    "round(b,2) # 6.79\n",
    "round(b,3) # 6.785\n",
    "b"
   ]
  },
  {
   "cell_type": "code",
   "execution_count": 160,
   "id": "ccbdc3c2",
   "metadata": {},
   "outputs": [
    {
     "data": {
      "text/plain": [
       "True"
      ]
     },
     "execution_count": 160,
     "metadata": {},
     "output_type": "execute_result"
    }
   ],
   "source": [
    "import math\n",
    "math.sqrt(25) == 25**0.5"
   ]
  },
  {
   "cell_type": "code",
   "execution_count": 180,
   "id": "b2bd32a8",
   "metadata": {},
   "outputs": [
    {
     "data": {
      "text/plain": [
       "1"
      ]
     },
     "execution_count": 180,
     "metadata": {},
     "output_type": "execute_result"
    }
   ],
   "source": [
    "a = 'aaabccdabcd'\n",
    "a.count('a') # 4\n",
    "a.count('a', 1) # 3\n",
    "a.count('a', 0, 5) # 3\n",
    "a.count('a', 5, 9) # 1"
   ]
  },
  {
   "cell_type": "code",
   "execution_count": 184,
   "id": "67b947b2",
   "metadata": {},
   "outputs": [
    {
     "data": {
      "text/plain": [
       "-1"
      ]
     },
     "execution_count": 184,
     "metadata": {},
     "output_type": "execute_result"
    }
   ],
   "source": [
    "a = 'aaabccdabcd'\n",
    "a.find('b')    # 3\n",
    "a.find('b', 5) # 8\n",
    "a.find('z')    # -1"
   ]
  },
  {
   "cell_type": "code",
   "execution_count": 187,
   "id": "6e8a82ef",
   "metadata": {},
   "outputs": [
    {
     "ename": "ValueError",
     "evalue": "substring not found",
     "output_type": "error",
     "traceback": [
      "\u001b[1;31m---------------------------------------------------------------------------\u001b[0m",
      "\u001b[1;31mValueError\u001b[0m                                Traceback (most recent call last)",
      "\u001b[1;32m<ipython-input-187-b5949c3b87d9>\u001b[0m in \u001b[0;36m<module>\u001b[1;34m\u001b[0m\n\u001b[0;32m      2\u001b[0m \u001b[0ma\u001b[0m\u001b[1;33m.\u001b[0m\u001b[0mindex\u001b[0m\u001b[1;33m(\u001b[0m\u001b[1;34m'b'\u001b[0m\u001b[1;33m)\u001b[0m    \u001b[1;31m# 3\u001b[0m\u001b[1;33m\u001b[0m\u001b[1;33m\u001b[0m\u001b[0m\n\u001b[0;32m      3\u001b[0m \u001b[0ma\u001b[0m\u001b[1;33m.\u001b[0m\u001b[0mindex\u001b[0m\u001b[1;33m(\u001b[0m\u001b[1;34m'b'\u001b[0m\u001b[1;33m,\u001b[0m \u001b[1;36m5\u001b[0m\u001b[1;33m)\u001b[0m \u001b[1;31m# 8\u001b[0m\u001b[1;33m\u001b[0m\u001b[1;33m\u001b[0m\u001b[0m\n\u001b[1;32m----> 4\u001b[1;33m \u001b[0ma\u001b[0m\u001b[1;33m.\u001b[0m\u001b[0mindex\u001b[0m\u001b[1;33m(\u001b[0m\u001b[1;34m'z'\u001b[0m\u001b[1;33m)\u001b[0m    \u001b[1;31m# -1\u001b[0m\u001b[1;33m\u001b[0m\u001b[1;33m\u001b[0m\u001b[0m\n\u001b[0m",
      "\u001b[1;31mValueError\u001b[0m: substring not found"
     ]
    }
   ],
   "source": [
    "a = 'aaabccdabcd'\n",
    "a.index('b')    # 3\n",
    "a.index('b', 5) # 8\n",
    "a.index('z')    # -1"
   ]
  },
  {
   "cell_type": "code",
   "execution_count": 173,
   "id": "a431059a",
   "metadata": {},
   "outputs": [
    {
     "data": {
      "text/plain": [
       "'a,b,c,d,e'"
      ]
     },
     "execution_count": 173,
     "metadata": {},
     "output_type": "execute_result"
    }
   ],
   "source": [
    "a = \"abcde\"\n",
    "\",\".join(a) # 'a,b,c,d,e'"
   ]
  },
  {
   "cell_type": "code",
   "execution_count": 176,
   "id": "6bd5958b",
   "metadata": {},
   "outputs": [
    {
     "data": {
      "text/plain": [
       "10.0"
      ]
     },
     "execution_count": 176,
     "metadata": {},
     "output_type": "execute_result"
    }
   ],
   "source": [
    "a = 10\n",
    "b = str(a)\n",
    "c = float(b)\n",
    "a # 10\n",
    "b # '10'\n",
    "c # 10.0"
   ]
  },
  {
   "cell_type": "code",
   "execution_count": 189,
   "id": "422274e5",
   "metadata": {},
   "outputs": [
    {
     "data": {
      "text/plain": [
       "'Life is too short'"
      ]
     },
     "execution_count": 189,
     "metadata": {},
     "output_type": "execute_result"
    }
   ],
   "source": [
    "a = \"Life is too short\"\n",
    "a.replace(\"Life\", \"Your leg\") # 'Your leg is too short'\n",
    "a"
   ]
  },
  {
   "cell_type": "code",
   "execution_count": 194,
   "id": "51e7e77c",
   "metadata": {},
   "outputs": [
    {
     "data": {
      "text/plain": [
       "\"['a', 'b', 'c', 'd', 'e']\""
      ]
     },
     "execution_count": 194,
     "metadata": {},
     "output_type": "execute_result"
    }
   ],
   "source": [
    "a = 'abcde'\n",
    "a_l = list(a)\n",
    "str(a_l)"
   ]
  },
  {
   "cell_type": "code",
   "execution_count": 195,
   "id": "a1a2733d",
   "metadata": {},
   "outputs": [
    {
     "data": {
      "text/plain": [
       "'10'"
      ]
     },
     "execution_count": 195,
     "metadata": {},
     "output_type": "execute_result"
    }
   ],
   "source": [
    "str(10)"
   ]
  },
  {
   "cell_type": "code",
   "execution_count": 197,
   "id": "b77ffbdb",
   "metadata": {},
   "outputs": [
    {
     "data": {
      "text/plain": [
       "'love'"
      ]
     },
     "execution_count": 197,
     "metadata": {},
     "output_type": "execute_result"
    }
   ],
   "source": [
    "str(\"love\")"
   ]
  },
  {
   "cell_type": "code",
   "execution_count": 200,
   "id": "75f5868f",
   "metadata": {},
   "outputs": [
    {
     "data": {
      "text/plain": [
       "['abc,', 'aaa,', ',', 'dgc,', 'sde']"
      ]
     },
     "execution_count": 200,
     "metadata": {},
     "output_type": "execute_result"
    }
   ],
   "source": [
    "a = 'a,b,c,d,e,f,g'\n",
    "a.split(',')\n",
    "\n",
    "b = 'You makes me happy.'\n",
    "b.split(\" \")\n",
    "\n",
    "c = 'abc, aaa, , dgc, sde'\n",
    "c.split(\" \")"
   ]
  },
  {
   "cell_type": "code",
   "execution_count": 203,
   "id": "2f350d09",
   "metadata": {},
   "outputs": [
    {
     "name": "stdout",
     "output_type": "stream",
     "text": [
      "1 2\n"
     ]
    }
   ],
   "source": [
    "a = 7\n",
    "b = 5\n",
    "print(a//b, a%b)"
   ]
  },
  {
   "cell_type": "code",
   "execution_count": 205,
   "id": "a81856bb",
   "metadata": {},
   "outputs": [
    {
     "name": "stdout",
     "output_type": "stream",
     "text": [
      "[[1, 4, 7], [2, 5, 8], [3, 6, 9]]\n",
      "[[1, 2, 3], [4, 5, 6], [7, 8, 9]]\n"
     ]
    }
   ],
   "source": [
    "mylist = [[1, 2, 3], [4, 5, 6], [7, 8, 9]]\n",
    "new_list = list(map(list, zip(*mylist)))\n",
    "print(new_list)\n",
    "print(mylist)"
   ]
  },
  {
   "cell_type": "code",
   "execution_count": 209,
   "id": "9ae235c0",
   "metadata": {},
   "outputs": [
    {
     "name": "stdout",
     "output_type": "stream",
     "text": [
      "(1, 40)\n",
      "(2, 50)\n",
      "(3, 60)\n"
     ]
    }
   ],
   "source": [
    ">>> mylist = [1,2,3]\n",
    ">>> new_list = [40,50,60]\n",
    ">>> for i in zip(mylist,new_list):\n",
    "        print(i)"
   ]
  },
  {
   "cell_type": "code",
   "execution_count": 211,
   "id": "f6a69539",
   "metadata": {},
   "outputs": [
    {
     "data": {
      "text/plain": [
       "{'cat': 'meow', 'dog': 'woof', 'lion': 'roar'}"
      ]
     },
     "execution_count": 211,
     "metadata": {},
     "output_type": "execute_result"
    }
   ],
   "source": [
    ">>> animals = ['cat', 'dog', 'lion']\n",
    ">>> sounds = ['meow', 'woof', 'roar']\n",
    ">>> dict(zip(animals,sounds)) "
   ]
  },
  {
   "cell_type": "code",
   "execution_count": 213,
   "id": "bbc0683b",
   "metadata": {},
   "outputs": [],
   "source": [
    ">>> list1 = [3,2,5,1]\n",
    ">>> list2 = sorted(list1)\n",
    ">>> list1\n",
    ">>> list2\n",
    ">>> list1.sort()"
   ]
  },
  {
   "cell_type": "code",
   "execution_count": 218,
   "id": "b5dcb7db",
   "metadata": {},
   "outputs": [
    {
     "name": "stdout",
     "output_type": "stream",
     "text": [
      "[35, 35, 9, 67, 60]\n"
     ]
    }
   ],
   "source": [
    ">>> def solution(mylist):\n",
    "        answer = []\n",
    "        for number1, number2 in zip(mylist, mylist[1:]):\n",
    "            answer.append(abs(number1 - number2))\n",
    "        # 동일한 방법)\n",
    "        # for i in range(len(mylist)-1):\n",
    "            # answer.append(abs(mylist)[i] - mylist[i+1]))\n",
    "        return answer\n",
    "\n",
    ">>> mylist = [83, 48, 13, 4, 71, 11]    \n",
    ">>> print(solution(mylist))\n",
    "# [35, 35, 9, 67, 60]"
   ]
  },
  {
   "cell_type": "code",
   "execution_count": 222,
   "id": "fc2d9c5f",
   "metadata": {},
   "outputs": [
    {
     "data": {
      "text/plain": [
       "[2, 2, 1]"
      ]
     },
     "execution_count": 222,
     "metadata": {},
     "output_type": "execute_result"
    }
   ],
   "source": [
    ">>> def solution(mylist):\n",
    "        answer = list(map(len,mylist))\n",
    "        return answer\n",
    ">>> mylist = [[1, 2], [3, 4], [5]]\n",
    ">>> solution(mylist)"
   ]
  },
  {
   "cell_type": "code",
   "execution_count": 224,
   "id": "250a35f8",
   "metadata": {},
   "outputs": [
    {
     "data": {
      "text/plain": [
       "'110033'"
      ]
     },
     "execution_count": 224,
     "metadata": {},
     "output_type": "execute_result"
    }
   ],
   "source": [
    ">>> my_list = ['1', '100', '33']\n",
    ">>> ''.join(my_list)"
   ]
  },
  {
   "cell_type": "code",
   "execution_count": 227,
   "id": "76c364d3",
   "metadata": {},
   "outputs": [
    {
     "name": "stdout",
     "output_type": "stream",
     "text": [
      "[('A', 'x', '1'), ('A', 'x', '2'), ('A', 'x', '3'), ('A', 'x', '4'), ('A', 'y', '1'), ('A', 'y', '2'), ('A', 'y', '3'), ('A', 'y', '4'), ('B', 'x', '1'), ('B', 'x', '2'), ('B', 'x', '3'), ('B', 'x', '4'), ('B', 'y', '1'), ('B', 'y', '2'), ('B', 'y', '3'), ('B', 'y', '4'), ('C', 'x', '1'), ('C', 'x', '2'), ('C', 'x', '3'), ('C', 'x', '4'), ('C', 'y', '1'), ('C', 'y', '2'), ('C', 'y', '3'), ('C', 'y', '4'), ('D', 'x', '1'), ('D', 'x', '2'), ('D', 'x', '3'), ('D', 'x', '4'), ('D', 'y', '1'), ('D', 'y', '2'), ('D', 'y', '3'), ('D', 'y', '4')]\n"
     ]
    }
   ],
   "source": [
    ">>> import itertools\n",
    "\n",
    ">>> iterable1 = 'ABCD'\n",
    ">>> iterable2 = 'xy'\n",
    ">>> iterable3 = '1234'\n",
    ">>> print(list(itertools.product(iterable1, iterable2, iterable3)))"
   ]
  },
  {
   "cell_type": "code",
   "execution_count": 229,
   "id": "e5a0bb55",
   "metadata": {},
   "outputs": [
    {
     "name": "stdout",
     "output_type": "stream",
     "text": [
      "[1, 2, 3, 4, 5, 6, 7]\n"
     ]
    }
   ],
   "source": [
    ">>> my_list = [[1, 2], [3, 4, 5], [6, 7]]\n",
    "\n",
    ">>> # 방법 1 - sum 함수\n",
    ">>> answer = sum(my_list, [])\n",
    ">>> print(answer)"
   ]
  },
  {
   "cell_type": "code",
   "execution_count": 230,
   "id": "a82ecbe4",
   "metadata": {},
   "outputs": [
    {
     "name": "stdout",
     "output_type": "stream",
     "text": [
      "[1, 2, 3, 4, 5, 6, 7]\n"
     ]
    }
   ],
   "source": [
    ">>> # 방법 2 - itertools.chain\n",
    ">>> import itertools\n",
    ">>> print(list(itertools.chain.from_iterable(my_list)))"
   ]
  },
  {
   "cell_type": "code",
   "execution_count": 234,
   "id": "e2a2c97f",
   "metadata": {},
   "outputs": [
    {
     "name": "stdout",
     "output_type": "stream",
     "text": [
      "Counter({1: 4, 2: 3, 3: 3, 7: 3, 4: 2, 5: 2, 6: 2, 8: 2, 9: 2, 0: 2})\n",
      "4\n"
     ]
    }
   ],
   "source": [
    ">>> import collections\n",
    ">>> my_list = [1, 2, 3, 4, 5, 6, 7, 8, 7, 9, 1, 2, 3, 3, 5, 2, 6, 8, 9, 0, 1, 1, 4, 7, 0]\n",
    ">>> answer = collections.Counter(my_list)\n",
    ">>> print(answer)\n",
    ">>> print(answer[1])"
   ]
  },
  {
   "cell_type": "code",
   "execution_count": 11,
   "id": "5a697e64",
   "metadata": {},
   "outputs": [
    {
     "data": {
      "text/plain": [
       "'7631'"
      ]
     },
     "execution_count": 11,
     "metadata": {},
     "output_type": "execute_result"
    }
   ],
   "source": [
    "answer = '1367'\n",
    "\"\".join(map(str,answer[::-1]))"
   ]
  },
  {
   "cell_type": "code",
   "execution_count": 14,
   "id": "8aa23ddd",
   "metadata": {},
   "outputs": [
    {
     "data": {
      "text/plain": [
       "'fdedcba'"
      ]
     },
     "execution_count": 14,
     "metadata": {},
     "output_type": "execute_result"
    }
   ],
   "source": [
    ">>> a = 'abcdedf'\n",
    ">>> a[::-1]"
   ]
  },
  {
   "cell_type": "code",
   "execution_count": 15,
   "id": "f1ec5ff9",
   "metadata": {},
   "outputs": [
    {
     "data": {
      "text/plain": [
       "[2, 4, 6, 8]"
      ]
     },
     "execution_count": 15,
     "metadata": {},
     "output_type": "execute_result"
    }
   ],
   "source": [
    ">>> a = [1,2,3,4,5,6,7,8]\n",
    ">>> a[1:8:2]"
   ]
  },
  {
   "cell_type": "code",
   "execution_count": 19,
   "id": "7ebc6333",
   "metadata": {},
   "outputs": [
    {
     "ename": "TypeError",
     "evalue": "'str' object does not support item assignment",
     "output_type": "error",
     "traceback": [
      "\u001b[1;31m---------------------------------------------------------------------------\u001b[0m",
      "\u001b[1;31mTypeError\u001b[0m                                 Traceback (most recent call last)",
      "\u001b[1;32m<ipython-input-19-3d4092321cb8>\u001b[0m in \u001b[0;36m<module>\u001b[1;34m\u001b[0m\n\u001b[0;32m      3\u001b[0m \u001b[0ma\u001b[0m\u001b[1;33m[\u001b[0m\u001b[1;33m:\u001b[0m\u001b[1;33m:\u001b[0m\u001b[1;36m2\u001b[0m\u001b[1;33m]\u001b[0m\u001b[1;33m\u001b[0m\u001b[1;33m\u001b[0m\u001b[0m\n\u001b[0;32m      4\u001b[0m \u001b[0ma\u001b[0m\u001b[1;33m[\u001b[0m\u001b[1;33m:\u001b[0m\u001b[1;33m:\u001b[0m\u001b[1;33m-\u001b[0m\u001b[1;36m1\u001b[0m\u001b[1;33m]\u001b[0m\u001b[1;33m\u001b[0m\u001b[1;33m\u001b[0m\u001b[0m\n\u001b[1;32m----> 5\u001b[1;33m \u001b[0ma\u001b[0m\u001b[1;33m[\u001b[0m\u001b[1;36m1\u001b[0m\u001b[1;33m]\u001b[0m \u001b[1;33m=\u001b[0m \u001b[1;34m'g'\u001b[0m\u001b[1;33m\u001b[0m\u001b[1;33m\u001b[0m\u001b[0m\n\u001b[0m",
      "\u001b[1;31mTypeError\u001b[0m: 'str' object does not support item assignment"
     ]
    }
   ],
   "source": [
    ">>> a = 'aghwdxvqa'\n",
    ">>> a[1:]\n",
    ">>> a[::2]\n",
    ">>> a[::-1]\n",
    ">>> a[1] = 'g'"
   ]
  },
  {
   "cell_type": "code",
   "execution_count": 28,
   "id": "44b72182",
   "metadata": {},
   "outputs": [
    {
     "data": {
      "text/plain": [
       "True"
      ]
     },
     "execution_count": 28,
     "metadata": {},
     "output_type": "execute_result"
    }
   ],
   "source": [
    "dic1 = dict([('name','Soo'),('gender','W'),('age', 26)])\n",
    "dic1\n",
    "\n",
    "dic2 = {'name': 'Soo', 'gender': 'W', 'age': 26}\n",
    "dic2\n",
    "\n",
    "dic1 == dic2"
   ]
  },
  {
   "cell_type": "code",
   "execution_count": 39,
   "id": "6126e1e3",
   "metadata": {},
   "outputs": [
    {
     "data": {
      "text/plain": [
       "dict_keys(['a', 'b', 'c'])"
      ]
     },
     "execution_count": 39,
     "metadata": {},
     "output_type": "execute_result"
    }
   ],
   "source": [
    "a = {\"a\": 4, \"b\": 8, \"c\": 3}\n",
    "a[\"a\"]\n",
    "a[\"b\"]\n",
    "#a[\"z\"]\n",
    "a.keys()"
   ]
  },
  {
   "cell_type": "code",
   "execution_count": 43,
   "id": "5d776b52",
   "metadata": {},
   "outputs": [
    {
     "data": {
      "text/plain": [
       "dict_items([('name', 'god'), ('sleep', 'good'), ('study', 'hard')])"
      ]
     },
     "execution_count": 43,
     "metadata": {},
     "output_type": "execute_result"
    }
   ],
   "source": [
    ">>> a = {\"name\":\"god\", \"sleep\":\"good\",\"study\":\"hard\"}\n",
    ">>> a.keys()\n",
    ">>> a.values()\n",
    ">>> a.items()"
   ]
  },
  {
   "cell_type": "code",
   "execution_count": 45,
   "id": "15315f8e",
   "metadata": {},
   "outputs": [
    {
     "data": {
      "text/plain": [
       "[[0, 3], [2, 1], [5, 6]]"
      ]
     },
     "execution_count": 45,
     "metadata": {},
     "output_type": "execute_result"
    }
   ],
   "source": [
    "a = [[0,3],[5,6],[2,1]]\n",
    "a.sort()\n",
    "a"
   ]
  },
  {
   "cell_type": "code",
   "execution_count": 5,
   "id": "9f669311",
   "metadata": {},
   "outputs": [
    {
     "data": {
      "text/plain": [
       "'aaabbggggccevd'"
      ]
     },
     "execution_count": 5,
     "metadata": {},
     "output_type": "execute_result"
    }
   ],
   "source": [
    ">>> #응용\n",
    ">>> l = [\"a\",\"b\",\"g\",\"c\",\"g\",\"a\",\"e\",\"g\",\"g\",\"v\",\"b\",\"c\",\"d\",\"a\"]\n",
    ">>> from collections import Counter\n",
    ">>> a_c = Counter(l)\n",
    ">>> a_l =\"\"\n",
    ">>> for key,value in a_c.items():\n",
    "        for _ in range(value):\n",
    "            a_l += key\n",
    ">>> a_l"
   ]
  },
  {
   "cell_type": "code",
   "execution_count": 25,
   "id": "0bbb6b07",
   "metadata": {},
   "outputs": [
    {
     "name": "stdout",
     "output_type": "stream",
     "text": [
      "10\n",
      "6663\n"
     ]
    }
   ],
   "source": [
    "N =int(input())\n",
    "a = 666\n",
    "c = 0\n",
    "while(1):\n",
    "    if '666' in str(a):\n",
    "        c += 1\n",
    "    if c == N:\n",
    "        break\n",
    "    else:\n",
    "        a += 1\n",
    "print(a)        "
   ]
  },
  {
   "cell_type": "code",
   "execution_count": 10,
   "id": "dec57c89",
   "metadata": {},
   "outputs": [
    {
     "data": {
      "text/plain": [
       "True"
      ]
     },
     "execution_count": 10,
     "metadata": {},
     "output_type": "execute_result"
    }
   ],
   "source": [
    "'666' in '1666'"
   ]
  },
  {
   "cell_type": "code",
   "execution_count": 32,
   "id": "d4ab7a7a",
   "metadata": {},
   "outputs": [
    {
     "name": "stdout",
     "output_type": "stream",
     "text": [
      "5\n",
      "5\n",
      "2\n",
      "3\n",
      "4\n",
      "1\n",
      "1\n",
      "2\n",
      "3\n",
      "4\n",
      "5\n"
     ]
    }
   ],
   "source": [
    "N = int(input())\n",
    "n =[]\n",
    "for i in range(N):\n",
    "    n.append(int(input()))\n",
    "n.sort()\n",
    "for i in range(N):\n",
    "    print(n[i])       \n"
   ]
  },
  {
   "cell_type": "code",
   "execution_count": 58,
   "id": "a9305cd6",
   "metadata": {},
   "outputs": [
    {
     "ename": "ValueError",
     "evalue": "invalid literal for int() with base 10: ''",
     "output_type": "error",
     "traceback": [
      "\u001b[1;31m---------------------------------------------------------------------------\u001b[0m",
      "\u001b[1;31mValueError\u001b[0m                                Traceback (most recent call last)",
      "\u001b[1;32m<ipython-input-58-67878c375805>\u001b[0m in \u001b[0;36m<module>\u001b[1;34m\u001b[0m\n\u001b[0;32m      1\u001b[0m \u001b[1;32mimport\u001b[0m \u001b[0msys\u001b[0m\u001b[1;33m\u001b[0m\u001b[1;33m\u001b[0m\u001b[0m\n\u001b[0;32m      2\u001b[0m \u001b[1;32mfrom\u001b[0m \u001b[0mcollections\u001b[0m \u001b[1;32mimport\u001b[0m \u001b[0mCounter\u001b[0m\u001b[1;33m\u001b[0m\u001b[1;33m\u001b[0m\u001b[0m\n\u001b[1;32m----> 3\u001b[1;33m \u001b[0mn\u001b[0m \u001b[1;33m=\u001b[0m \u001b[0mint\u001b[0m\u001b[1;33m(\u001b[0m\u001b[0msys\u001b[0m\u001b[1;33m.\u001b[0m\u001b[0mstdin\u001b[0m\u001b[1;33m.\u001b[0m\u001b[0mreadline\u001b[0m\u001b[1;33m(\u001b[0m\u001b[1;33m)\u001b[0m\u001b[1;33m)\u001b[0m\u001b[1;33m\u001b[0m\u001b[1;33m\u001b[0m\u001b[0m\n\u001b[0m\u001b[0;32m      4\u001b[0m \u001b[0mli\u001b[0m \u001b[1;33m=\u001b[0m \u001b[1;33m[\u001b[0m\u001b[1;33m]\u001b[0m\u001b[1;33m\u001b[0m\u001b[1;33m\u001b[0m\u001b[0m\n\u001b[0;32m      5\u001b[0m \u001b[1;32mfor\u001b[0m \u001b[0m_\u001b[0m \u001b[1;32min\u001b[0m \u001b[0mrange\u001b[0m\u001b[1;33m(\u001b[0m\u001b[0mn\u001b[0m\u001b[1;33m)\u001b[0m\u001b[1;33m:\u001b[0m\u001b[1;33m\u001b[0m\u001b[1;33m\u001b[0m\u001b[0m\n",
      "\u001b[1;31mValueError\u001b[0m: invalid literal for int() with base 10: ''"
     ]
    }
   ],
   "source": [
    "import sys\n",
    "from collections import Counter\n",
    "n = int(sys.stdin.readline())\n",
    "li = []\n",
    "for _ in range(n):\n",
    "    li.append(int(sys.stdin.readline()))\n",
    " \n",
    "# 산술평균 - 다 더해서 / n\n",
    "print(round(sum(li)/n))\n",
    " \n",
    "# 중앙값 - 오름차순 -> 중간값\n",
    "li.sort()\n",
    "print(li[n//2])\n",
    " \n",
    "# 최빈값 - 빈출\n",
    "cnt_li = Counter(li).most_common()\n",
    "if len(cnt_li) > 1 and cnt_li[0][1]==cnt_li[1][1]: #최빈값 2개 이상\n",
    "    print(cnt_li[1][0])\n",
    "else:\n",
    "    print(cnt_li[0][0])\n",
    " \n",
    "# 범위 - 최댓값-최솟값\n",
    "print(max(li)-min(li))\n"
   ]
  },
  {
   "cell_type": "code",
   "execution_count": 1,
   "id": "f971d89f",
   "metadata": {},
   "outputs": [
    {
     "data": {
      "text/plain": [
       "'ICN'"
      ]
     },
     "execution_count": 1,
     "metadata": {},
     "output_type": "execute_result"
    }
   ],
   "source": [
    "start = [\"ICN\"]\n",
    "start[-1]"
   ]
  },
  {
   "cell_type": "code",
   "execution_count": 2,
   "id": "c5a1225c",
   "metadata": {},
   "outputs": [
    {
     "data": {
      "text/plain": [
       "'ATL'"
      ]
     },
     "execution_count": 2,
     "metadata": {},
     "output_type": "execute_result"
    }
   ],
   "source": [
    "r = {\"ICN\":[\"SFO\",\"ATL\"],\"SFO\":[\"ATL\"],\"ATL\":[\"SFO\",\"ICN\"]}\n",
    "r[\"ICN\"].pop()"
   ]
  },
  {
   "cell_type": "code",
   "execution_count": 7,
   "id": "93330963",
   "metadata": {},
   "outputs": [
    {
     "data": {
      "text/plain": [
       "{'ICN': ['JFK'], 'HND': ['IAD']}"
      ]
     },
     "execution_count": 7,
     "metadata": {},
     "output_type": "execute_result"
    }
   ],
   "source": [
    "def solution(tickets):\n",
    "    routes = dict()\n",
    "    for i in tickets:\n",
    "        if i[0] in routes:\n",
    "            routes[i[0]].append(i[1])\n",
    "        else:\n",
    "            routes[i[0]] = [i[1]]\n",
    "            \n",
    "    for i in routes.keys():\n",
    "        routes[i].sort(reverse = True)\n",
    "        \n",
    "    return routes\n",
    "solution([['ICN','JFK'],['HND','IAD']])"
   ]
  },
  {
   "cell_type": "code",
   "execution_count": 10,
   "id": "b3ce6790",
   "metadata": {},
   "outputs": [
    {
     "data": {
      "text/plain": [
       "['ICN', 'JFK']"
      ]
     },
     "execution_count": 10,
     "metadata": {},
     "output_type": "execute_result"
    }
   ],
   "source": [
    "def solution(tickets):\n",
    "    routes = dict()\n",
    "    for i in tickets:\n",
    "        if i[0] in routes:\n",
    "            routes[i[0]].append(i[1])\n",
    "        else:\n",
    "            routes[i[0]] = [i[1]]\n",
    "            \n",
    "    for i in routes.keys():\n",
    "        routes[i].sort(reverse = True)\n",
    "    \n",
    "    start = [\"ICN\"]\n",
    "    path = []\n",
    "    while start:\n",
    "        top = start[-1]\n",
    "        if top not in routes or not routes[top]:\n",
    "            path.append(start.pop())\n",
    "        else:\n",
    "            start.append(routes[top].pop())\n",
    "\n",
    "    return routes\n",
    "\n",
    "solution([['ICN','JFK'],['HND','IAD']])"
   ]
  },
  {
   "cell_type": "code",
   "execution_count": null,
   "id": "a680f2d3",
   "metadata": {},
   "outputs": [],
   "source": [
    "def solution(tickets):\n",
    "    \n",
    "    routes = dict()\n",
    "    for i in tickets:\n",
    "        if i[0] in routes:\n",
    "            routes[i[0]].append(i[1])\n",
    "        else:\n",
    "            routes[i[0]] = [i[1]]\n",
    "            \n",
    "    for i in routes.keys():\n",
    "        routes[i].sort(reverse = True)\n",
    "        \n",
    "    answer = []\n",
    "    start = [\"ICN\"]\n",
    "    \n",
    "    while start:\n",
    "        target = start[-1]  \n",
    "        if target not in routes or len(routes[target]) == 0:\n",
    "            answer.append(start.pop())\n",
    "        else:\n",
    "            start.append(routes[target].pop())\n",
    "            \n",
    "    return answer[::-1]"
   ]
  },
  {
   "cell_type": "code",
   "execution_count": 3,
   "id": "c6e2d82a",
   "metadata": {},
   "outputs": [
    {
     "name": "stdout",
     "output_type": "stream",
     "text": [
      "999998999\n",
      "999999998\n"
     ]
    }
   ],
   "source": [
    "N = int(input())\n",
    "l = list(str(N))\n",
    "l.sort(reverse = True)\n",
    "print(\"\".join(map(str,l)))"
   ]
  },
  {
   "cell_type": "code",
   "execution_count": 10,
   "id": "cc1d9aad",
   "metadata": {},
   "outputs": [
    {
     "name": "stdout",
     "output_type": "stream",
     "text": [
      "5\n",
      "4 5\n",
      "1 2\n",
      "1 7\n",
      "-5 8\n",
      "4 6\n",
      "[[-5, 8], [1, 2], [1, 7], [4, 5], [4, 6]]\n"
     ]
    }
   ],
   "source": [
    "N = int(input())\n",
    "l = [[0,0] for i in range(N)]\n",
    "for i in range(N):\n",
    "    a,b = map(int,input().split())\n",
    "    l[i][0] = a\n",
    "    l[i][1] = b\n",
    "l.sort()\n",
    "print(l)"
   ]
  },
  {
   "cell_type": "code",
   "execution_count": 12,
   "id": "eaa4419b",
   "metadata": {},
   "outputs": [
    {
     "name": "stdout",
     "output_type": "stream",
     "text": [
      "5\n",
      "0 4\n",
      "1 2\n",
      "1 -1\n",
      "2 2\n",
      "3 3\n",
      "1 -1\n",
      "1 2\n",
      "2 2\n",
      "3 3\n",
      "0 4\n"
     ]
    }
   ],
   "source": [
    "N = int(input())\n",
    "l = [[0,0] for i in range(N)]\n",
    "for i in range(N):\n",
    "    a,b = map(int,input().split())\n",
    "    l[i][0] = a\n",
    "    l[i][1] = b\n",
    "    \n",
    "l.sort(key = lambda x:(x[1],x[0]))\n",
    "for i in range(N):\n",
    "    print(l[i][0],l[i][1])"
   ]
  },
  {
   "cell_type": "code",
   "execution_count": 14,
   "id": "4e642321",
   "metadata": {},
   "outputs": [
    {
     "name": "stdout",
     "output_type": "stream",
     "text": [
      "5\n",
      "but\n",
      "i\n",
      "wont\n",
      "hesitate\n",
      "no\n",
      "i\n",
      "no\n",
      "but\n",
      "wont\n",
      "hesitate\n"
     ]
    }
   ],
   "source": [
    "N = int(input())\n",
    "l = []\n",
    "for i in range(N):\n",
    "    l.append(input())    \n",
    "l.sort(key = lambda x:(len(x)))\n",
    "for i in range(N):\n",
    "    print(l[i])"
   ]
  },
  {
   "cell_type": "code",
   "execution_count": 17,
   "id": "51e6be12",
   "metadata": {},
   "outputs": [
    {
     "name": "stdout",
     "output_type": "stream",
     "text": [
      "3\n",
      "20 dads\n",
      "21 qwe\n",
      "20 p\n",
      "20 dads\n",
      "20 p\n",
      "21 qwe\n"
     ]
    }
   ],
   "source": [
    "import sys\n",
    "N = int(input())\n",
    "l = []\n",
    "for i in range(N):\n",
    "    a,b = map(str,input().split())\n",
    "    l.append([int(a),b])\n",
    "l.sort(key = lambda x:(x[0]))\n",
    "for i in range(N):\n",
    "    print(l[i][0],l[i][1])"
   ]
  },
  {
   "cell_type": "code",
   "execution_count": 22,
   "id": "c270145b",
   "metadata": {},
   "outputs": [
    {
     "name": "stdout",
     "output_type": "stream",
     "text": [
      "6\n",
      "1000 999 1000 999 1000 999\n",
      "1 0 1 0 1 0 "
     ]
    }
   ],
   "source": [
    "import sys\n",
    "N = int(input())\n",
    "l = list(map(int, input().split()))\n",
    "l2 = list(set(l))\n",
    "l2.sort()\n",
    "for i in l:\n",
    "    print(l2.index(i),end=\" \")"
   ]
  },
  {
   "cell_type": "code",
   "execution_count": 1,
   "id": "fddc9bc2",
   "metadata": {},
   "outputs": [
    {
     "name": "stdout",
     "output_type": "stream",
     "text": [
      "8 8\n",
      "WBWBWBWB\n",
      "WWWWWWWW\n",
      "BBBBBBBB\n",
      "WBWBWBWB\n",
      "WBWBWBWB\n",
      "BWBWBWBW\n",
      "WBWBWBWB\n",
      "WBWBWBWB\n",
      "24\n"
     ]
    }
   ],
   "source": [
    "N,M = map(int,input().split())\n",
    "original = []\n",
    "count = []\n",
    "for _ in range(N):\n",
    "    original.append(input())    \n",
    "for a in range(N-7):\n",
    "    for b in range(M-7):\n",
    "        index_W = 0\n",
    "        index_B = 0\n",
    "        for i in range(a,a+8):\n",
    "            for j in range(b,b+8):\n",
    "                if (i+j) % 2 == 0:\n",
    "                    if original[i][j] != 'W':\n",
    "                        index_W += 1\n",
    "                    if original[i][j] != 'B':\n",
    "                        index_B += 1\n",
    "                else:\n",
    "                    if original[i][j] != 'W':\n",
    "                        index_B += 1\n",
    "                    if original[i][j] != 'B':\n",
    "                        index_W += 1\n",
    "        count.append(min(index_W, index_B))\n",
    "print(min(count))                                          "
   ]
  },
  {
   "cell_type": "code",
   "execution_count": 4,
   "id": "2a4eff7b",
   "metadata": {},
   "outputs": [
    {
     "name": "stdout",
     "output_type": "stream",
     "text": [
      "5\n",
      "6 3 2 10 -10\n",
      "8\n",
      "10 9 -5 2 3 4 5 -10\n",
      "10011001\n"
     ]
    }
   ],
   "source": [
    "import sys\n",
    "N = int(input())\n",
    "l_n = list(map(int,input().split()))\n",
    "M = int(input())\n",
    "l_m = list(map(int,input().split()))\n",
    "for i in range(M):\n",
    "    if l_m[i] in l_n:\n",
    "        l_m[i] = 1\n",
    "    else:\n",
    "        l_m[i] = 0\n",
    "print(\" \".join(map(str,l_m)))"
   ]
  },
  {
   "cell_type": "code",
   "execution_count": 7,
   "id": "09aaf96a",
   "metadata": {},
   "outputs": [
    {
     "data": {
      "text/plain": [
       "False"
      ]
     },
     "execution_count": 7,
     "metadata": {},
     "output_type": "execute_result"
    }
   ],
   "source": [
    "answer = [2,3,0,1], [2,3,2,1]\n",
    "max_virus = 2\n",
    "max_virus+1 in answer"
   ]
  },
  {
   "cell_type": "code",
   "execution_count": 9,
   "id": "2a915353",
   "metadata": {},
   "outputs": [
    {
     "data": {
      "text/plain": [
       "[[0, 1, 0, 1], [2, 3, 2, 0], [2, 2, 3, 0]]"
      ]
     },
     "execution_count": 9,
     "metadata": {},
     "output_type": "execute_result"
    }
   ],
   "source": [
    "a = [[0,0,0,0,0,0],[0,0,1,0,1,0],[0,2,3,2,0,0],[1,2,2,3,0,0],[0,1,3,0,0,0]]\n",
    "a_a = [[a[j][i] for i in range(1,5)] for j in range(1,4)]\n",
    "a_a"
   ]
  },
  {
   "cell_type": "code",
   "execution_count": null,
   "id": "19dfce77",
   "metadata": {},
   "outputs": [],
   "source": []
  }
 ],
 "metadata": {
  "kernelspec": {
   "display_name": "Python 3",
   "language": "python",
   "name": "python3"
  },
  "language_info": {
   "codemirror_mode": {
    "name": "ipython",
    "version": 3
   },
   "file_extension": ".py",
   "mimetype": "text/x-python",
   "name": "python",
   "nbconvert_exporter": "python",
   "pygments_lexer": "ipython3",
   "version": "3.7.10"
  }
 },
 "nbformat": 4,
 "nbformat_minor": 5
}
