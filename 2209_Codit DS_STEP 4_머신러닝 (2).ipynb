{
 "cells": [
  {
   "cell_type": "markdown",
   "id": "9ae38619",
   "metadata": {},
   "source": [
    "# 📌 결정트리와 앙상블 기법\n",
    "\n",
    "## 1️⃣  결정 트리(Decision Tree)\n",
    "\n",
    "## 01. 결정 트리란?, 02. 결정 트리란? 노트"
   ]
  },
  {
   "cell_type": "markdown",
   "id": "78e2f8c3",
   "metadata": {},
   "source": [
    "### 결정 트리: 예/아니오로 답할 수 있는 어떤 질문들이 있고, 그 질문들의 답을 따라가면서 데이터를 분류하는 알고리즘\n",
    "\n",
    "### 특징\n",
    "#### 1. 하나의 시작 지점에서 퍼져나가는 모습이 마치 나무와 비슷하고,\n",
    "#### 2. 한 단계 내려갈 때마다 왼쪽으로 갈지 오른쪽으로 갈지 선택하는 알고리즘\n",
    "\n",
    "#### 이 하나하나에 있는 박스를 “노드”라고 합니다. \n",
    "#### 1) root 노드 : 가장 위에 있는 이 제일 위에 있는 질문 노드, 나무의 뿌리\n",
    "#### 2) leaf 노드 : 트리의 가장 끝에 있는 이 노드들을 나무의 잎\n",
    "#### leaf 노드는 항상 사망/생존과 같은 특정 예측값을 갖고 있고, 나머지 노드들은 예/아니오로 답할 수 있는 질문을 갖고 있습니다."
   ]
  },
  {
   "cell_type": "markdown",
   "id": "e91f03d9",
   "metadata": {},
   "source": [
    "## 03. if-else문으로 간단한 결정 트리 구현하기\n",
    "\n",
    "### 실습과제\n",
    "\n",
    "#### survival_classifier함수\n",
    "#### survival_classifier 함수는 안전 벨트를 했는지를 나타내는 불린형 파라미터, seat_belt, 고속도로였는지를 나타내는 불린형 파라미터, highway, 사고 당시 주행속도를 나타내는 숫자형 파라미터, speed, 사고자 나이를 나타내는 숫자형 파라미터, age를 받습니다.\n",
    "\n",
    "#### 그리고 위에 나와 있는 결정 트리대로 교통 사고 데이터가 생존할 건지 사망할 건지를 리턴합니다. (생존을 예측할 시 0을 리턴하고, 사망을 예측할 시 1을 리턴합니다)"
   ]
  },
  {
   "cell_type": "code",
   "execution_count": 1,
   "id": "a1f37e19",
   "metadata": {},
   "outputs": [
    {
     "name": "stdout",
     "output_type": "stream",
     "text": [
      "1\n",
      "0\n",
      "0\n",
      "1\n",
      "0\n"
     ]
    }
   ],
   "source": [
    "def survival_classifier(seat_belt, highway, speed, age):\n",
    "    # 코드를 쓰세요\n",
    "    if seat_belt == True:\n",
    "        return 0\n",
    "    else:\n",
    "        if highway == False:\n",
    "            return 0\n",
    "        else:\n",
    "            if speed < 100:\n",
    "                return 0\n",
    "            else:\n",
    "                if age > 50:\n",
    "                    return 1\n",
    "                else:\n",
    "                    return 0   \n",
    "\n",
    "print(survival_classifier(False, True, 110, 55))\n",
    "print(survival_classifier(True, False, 40, 70))\n",
    "print(survival_classifier(False, True, 80, 25))\n",
    "print(survival_classifier(False, True, 120, 60))\n",
    "print(survival_classifier(True, False, 30, 20))"
   ]
  },
  {
   "cell_type": "markdown",
   "id": "e36e34b8",
   "metadata": {},
   "source": [
    "## 04. 지니 불순도 (Gini Impurity), 05. 지니 불순도 노트\n",
    "\n",
    "### 지니 불순도 특징 \n",
    "#### 1) 데이터 셋 안에 서로 다른 분류들이 얼만큼 섞여있는지\n",
    "#### 2) 지니 불순도가 작을 수록 데이터 셋이 순수하고, 클수록 데이터 셋이 불순하다."
   ]
  },
  {
   "cell_type": "markdown",
   "id": "303e7f4a",
   "metadata": {},
   "source": [
    "## 06. 지니 불순도 직접 계산해보기\n",
    "\n",
    "### 질문 1\n",
    "지니 불순도는 데이터가 얼마나 순수한지를 나타냅니다. 데이터에 두 가지 분류, class_1과 class_2가 있을 때 이렇게 계산하죠. (영상에서는 class_1이 독감, class_2가 일반 감기입니다)\n",
    "\n",
    "#### GI=1−p(class 1)**2 −p(class 2)**2\n",
    " \n",
    "#### 이 공식을 이용해서 다음 데이터 셋의 지니 불순도를 계산하세요. (소수점 넷 째 자리에서 반올림하세요!)\n",
    "\n",
    "#### 총 이메일 데이터 수: 210\n",
    "#### 스팸 이메일 수: 150\n",
    "#### 일반 이메일 수: 60"
   ]
  },
  {
   "cell_type": "code",
   "execution_count": 2,
   "id": "c5b36acf",
   "metadata": {},
   "outputs": [
    {
     "data": {
      "text/plain": [
       "0.40816326530612246"
      ]
     },
     "execution_count": 2,
     "metadata": {},
     "output_type": "execute_result"
    }
   ],
   "source": [
    "1 - (150/210)**2-(60/210)**2"
   ]
  },
  {
   "cell_type": "markdown",
   "id": "112fe4df",
   "metadata": {},
   "source": [
    "### 질문 2\n",
    "\n",
    "#### GI=1−p(class 1)**2 −p(class 2)**2\n",
    " \n",
    "#### 이 공식을 이용해서 다음 데이터 셋의 지니 불순도를 계산하세요. (소수점 넷 째 자리에서 반올림하세요!)\n",
    "\n",
    "#### 총 학생 데이터 수: 1300\n",
    "\n",
    "#### 시험을 통과한 학생 수: 600\n",
    "#### 시험을 떨어진 학생 수: 700"
   ]
  },
  {
   "cell_type": "code",
   "execution_count": 3,
   "id": "db44110e",
   "metadata": {},
   "outputs": [
    {
     "data": {
      "text/plain": [
       "0.49704142011834324"
      ]
     },
     "execution_count": 3,
     "metadata": {},
     "output_type": "execute_result"
    }
   ],
   "source": [
    "1 - (600/1300)**2-(700/1300)**2"
   ]
  },
  {
   "cell_type": "markdown",
   "id": "71ea69d8",
   "metadata": {},
   "source": [
    "### 질문 3\n",
    "\n",
    "#### GI=1−p(class 1)**2 −p(class 2)**2\n",
    " \n",
    "#### 이 공식을 이용해서 다음 데이터 셋의 지니 불순도를 계산하세요. (소수점 넷 째 자리에서 반올림하세요!)\n",
    "\n",
    "#### 총 승객 데이터 수: 400\n",
    "\n",
    "#### 생존한 승객 수: 350\n",
    "#### 사망한 승객 수: 50"
   ]
  },
  {
   "cell_type": "code",
   "execution_count": 4,
   "id": "c715ebfb",
   "metadata": {},
   "outputs": [
    {
     "data": {
      "text/plain": [
       "0.21875"
      ]
     },
     "execution_count": 4,
     "metadata": {},
     "output_type": "execute_result"
    }
   ],
   "source": [
    "1 - (350/400)**2-(50/400)**2"
   ]
  },
  {
   "cell_type": "markdown",
   "id": "362596a0",
   "metadata": {},
   "source": [
    "## 07. 분류 노드 평가하기"
   ]
  },
  {
   "cell_type": "code",
   "execution_count": null,
   "id": "a5bc856f",
   "metadata": {},
   "outputs": [],
   "source": []
  }
 ],
 "metadata": {
  "kernelspec": {
   "display_name": "Python 3",
   "language": "python",
   "name": "python3"
  },
  "language_info": {
   "codemirror_mode": {
    "name": "ipython",
    "version": 3
   },
   "file_extension": ".py",
   "mimetype": "text/x-python",
   "name": "python",
   "nbconvert_exporter": "python",
   "pygments_lexer": "ipython3",
   "version": "3.7.10"
  }
 },
 "nbformat": 4,
 "nbformat_minor": 5
}
